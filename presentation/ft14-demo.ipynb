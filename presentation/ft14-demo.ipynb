{
 "cells": [
  {
   "cell_type": "markdown",
   "metadata": {
    "toc": true
   },
   "source": [
    "<h1>Table of Contents<span class=\"tocSkip\"></span></h1>\n",
    "<div class=\"toc\"><ul class=\"toc-item\"><li><span><a href=\"#Sampling-random-variables\" data-toc-modified-id=\"Sampling-random-variables-1\"><span class=\"toc-item-num\">1&nbsp;&nbsp;</span>Sampling random variables</a></span></li><li><span><a href=\"#Coin-toss\" data-toc-modified-id=\"Coin-toss-2\"><span class=\"toc-item-num\">2&nbsp;&nbsp;</span>Coin toss</a></span></li><li><span><a href=\"#Monty-Hall-problem\" data-toc-modified-id=\"Monty-Hall-problem-3\"><span class=\"toc-item-num\">3&nbsp;&nbsp;</span>Monty Hall problem</a></span></li><li><span><a href=\"#Compute-$\\pi$\" data-toc-modified-id=\"Compute-$\\pi$-4\"><span class=\"toc-item-num\">4&nbsp;&nbsp;</span>Compute $\\pi$</a></span></li></ul></div>"
   ]
  },
  {
   "cell_type": "code",
   "execution_count": 1,
   "metadata": {},
   "outputs": [],
   "source": [
    ":ext QuasiQuotes"
   ]
  },
  {
   "cell_type": "code",
   "execution_count": 2,
   "metadata": {},
   "outputs": [
    {
     "data": {
      "text/plain": []
     },
     "metadata": {},
     "output_type": "display_data"
    }
   ],
   "source": [
    "import qualified H.Prelude as H\n",
    "import Control.Monad\n",
    "H.initialize H.defaultConfig"
   ]
  },
  {
   "cell_type": "markdown",
   "metadata": {},
   "source": [
    "# Sampling random variables"
   ]
  },
  {
   "cell_type": "code",
   "execution_count": 3,
   "metadata": {},
   "outputs": [],
   "source": [
    "import Data.Random"
   ]
  },
  {
   "cell_type": "markdown",
   "metadata": {},
   "source": [
    "Let us remind types:\n",
    "\n",
    "```haskell\n",
    "sample     :: MonadRandom  m   => RVar a -> m a\n",
    "sampleFrom :: RandomSource m s => s -> RVar a -> m a\n",
    "```\n",
    "\n",
    "for sampling and\n",
    "```haskell\n",
    "instance Distribution StdUniform Double\n",
    "instance Distribution Normal Double\n",
    "\n",
    "stdUniform :: Distribution StdUniform a => RVar a\n",
    "normal     :: Distribution Normal a     => a -> a -> RVar a\n",
    "```\n",
    "\n",
    "we can now try to sample few values:"
   ]
  },
  {
   "cell_type": "code",
   "execution_count": 4,
   "metadata": {},
   "outputs": [
    {
     "data": {
      "text/plain": [
       "0.42304001577302586"
      ]
     },
     "metadata": {},
     "output_type": "display_data"
    }
   ],
   "source": [
    "sample stdUniform :: IO Double"
   ]
  },
  {
   "cell_type": "code",
   "execution_count": 5,
   "metadata": {},
   "outputs": [
    {
     "data": {
      "text/plain": [
       "True"
      ]
     },
     "metadata": {},
     "output_type": "display_data"
    }
   ],
   "source": [
    "sample stdUniform :: IO Bool"
   ]
  },
  {
   "cell_type": "code",
   "execution_count": 6,
   "metadata": {},
   "outputs": [
    {
     "data": {
      "text/plain": [
       "0.37326061729166193"
      ]
     },
     "metadata": {},
     "output_type": "display_data"
    }
   ],
   "source": [
    "sample stdNormal :: IO Double"
   ]
  },
  {
   "cell_type": "markdown",
   "metadata": {},
   "source": [
    "Since `RVar` is a monad, we can use the whole variety of functions that manimulate monadic values, e.g.:\n",
    "\n",
    "```haskell\n",
    "replicateM :: Monad m => Int -> m a -> m [a]\n",
    "\n",
    "-- specialized for us\n",
    "replicateM :: Int -> RVar a -> RVar [a]\n",
    "```\n",
    "\n",
    "to construct a random variable of list type."
   ]
  },
  {
   "cell_type": "code",
   "execution_count": 7,
   "metadata": {},
   "outputs": [
    {
     "data": {
      "text/plain": [
       "[0.23719548452538786,0.5091137976624798,0.13350017911474676,0.953018271534197,0.35653812563053466,0.931166566436596,0.9567278223629407,0.723100179433863,0.32866296273209117,0.4760190211565487]"
      ]
     },
     "metadata": {},
     "output_type": "display_data"
    }
   ],
   "source": [
    "sample $ replicateM 10 stdUniform :: IO [Double]"
   ]
  },
  {
   "cell_type": "code",
   "execution_count": 8,
   "metadata": {},
   "outputs": [
    {
     "data": {
      "text/plain": [
       "[0.29494211378473056,-0.7362768352245276,-0.872392349275858,-0.3898349376720261,0.7112175245389564,0.3595292975152045,0.17288159317741217,-2.755271462247697e-2,0.7507449586757787,-0.388028664011613]"
      ]
     },
     "metadata": {},
     "output_type": "display_data"
    }
   ],
   "source": [
    "sample $ replicateM 10 stdNormal :: IO [Double]"
   ]
  },
  {
   "cell_type": "markdown",
   "metadata": {},
   "source": [
    "This tells us nothing. But let's do some simple plots (we are in the [HaskellR](https://github.com/tweag/HaskellR) notebook)."
   ]
  },
  {
   "cell_type": "code",
   "execution_count": 9,
   "metadata": {},
   "outputs": [
    {
     "data": {
      "text/html": [
       "<style>/* Styles used for the Hoogle display in the pager */\n",
       ".hoogle-doc {\n",
       "display: block;\n",
       "padding-bottom: 1.3em;\n",
       "padding-left: 0.4em;\n",
       "}\n",
       ".hoogle-code {\n",
       "display: block;\n",
       "font-family: monospace;\n",
       "white-space: pre;\n",
       "}\n",
       ".hoogle-text {\n",
       "display: block;\n",
       "}\n",
       ".hoogle-name {\n",
       "color: green;\n",
       "font-weight: bold;\n",
       "}\n",
       ".hoogle-head {\n",
       "font-weight: bold;\n",
       "}\n",
       ".hoogle-sub {\n",
       "display: block;\n",
       "margin-left: 0.4em;\n",
       "}\n",
       ".hoogle-package {\n",
       "font-weight: bold;\n",
       "font-style: italic;\n",
       "}\n",
       ".hoogle-module {\n",
       "font-weight: bold;\n",
       "}\n",
       ".hoogle-class {\n",
       "font-weight: bold;\n",
       "}\n",
       ".get-type {\n",
       "color: green;\n",
       "font-weight: bold;\n",
       "font-family: monospace;\n",
       "display: block;\n",
       "white-space: pre-wrap;\n",
       "}\n",
       ".show-type {\n",
       "color: green;\n",
       "font-weight: bold;\n",
       "font-family: monospace;\n",
       "margin-left: 1em;\n",
       "}\n",
       ".mono {\n",
       "font-family: monospace;\n",
       "display: block;\n",
       "}\n",
       ".err-msg {\n",
       "color: red;\n",
       "font-style: italic;\n",
       "font-family: monospace;\n",
       "white-space: pre;\n",
       "display: block;\n",
       "}\n",
       "#unshowable {\n",
       "color: red;\n",
       "font-weight: bold;\n",
       "}\n",
       ".err-msg.in.collapse {\n",
       "padding-top: 0.7em;\n",
       "}\n",
       ".highlight-code {\n",
       "white-space: pre;\n",
       "font-family: monospace;\n",
       "}\n",
       ".suggestion-warning { \n",
       "font-weight: bold;\n",
       "color: rgb(200, 130, 0);\n",
       "}\n",
       ".suggestion-error { \n",
       "font-weight: bold;\n",
       "color: red;\n",
       "}\n",
       ".suggestion-name {\n",
       "font-weight: bold;\n",
       "}\n",
       "</style><img src=\"data:image/png;base64,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\">\n"
      ],
      "text/plain": [
       "<img src=\"data:image/png;base64,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\">"
      ]
     },
     "metadata": {},
     "output_type": "display_data"
    }
   ],
   "source": [
    "rs <- sample $ replicateM 10000 stdUniform :: IO [Double]  -- get bigger sample\n",
    "[rgraph|hist(rs_hs)|]  -- plot histogram with R"
   ]
  },
  {
   "cell_type": "code",
   "execution_count": 10,
   "metadata": {},
   "outputs": [
    {
     "data": {
      "text/html": [
       "<style>/* Styles used for the Hoogle display in the pager */\n",
       ".hoogle-doc {\n",
       "display: block;\n",
       "padding-bottom: 1.3em;\n",
       "padding-left: 0.4em;\n",
       "}\n",
       ".hoogle-code {\n",
       "display: block;\n",
       "font-family: monospace;\n",
       "white-space: pre;\n",
       "}\n",
       ".hoogle-text {\n",
       "display: block;\n",
       "}\n",
       ".hoogle-name {\n",
       "color: green;\n",
       "font-weight: bold;\n",
       "}\n",
       ".hoogle-head {\n",
       "font-weight: bold;\n",
       "}\n",
       ".hoogle-sub {\n",
       "display: block;\n",
       "margin-left: 0.4em;\n",
       "}\n",
       ".hoogle-package {\n",
       "font-weight: bold;\n",
       "font-style: italic;\n",
       "}\n",
       ".hoogle-module {\n",
       "font-weight: bold;\n",
       "}\n",
       ".hoogle-class {\n",
       "font-weight: bold;\n",
       "}\n",
       ".get-type {\n",
       "color: green;\n",
       "font-weight: bold;\n",
       "font-family: monospace;\n",
       "display: block;\n",
       "white-space: pre-wrap;\n",
       "}\n",
       ".show-type {\n",
       "color: green;\n",
       "font-weight: bold;\n",
       "font-family: monospace;\n",
       "margin-left: 1em;\n",
       "}\n",
       ".mono {\n",
       "font-family: monospace;\n",
       "display: block;\n",
       "}\n",
       ".err-msg {\n",
       "color: red;\n",
       "font-style: italic;\n",
       "font-family: monospace;\n",
       "white-space: pre;\n",
       "display: block;\n",
       "}\n",
       "#unshowable {\n",
       "color: red;\n",
       "font-weight: bold;\n",
       "}\n",
       ".err-msg.in.collapse {\n",
       "padding-top: 0.7em;\n",
       "}\n",
       ".highlight-code {\n",
       "white-space: pre;\n",
       "font-family: monospace;\n",
       "}\n",
       ".suggestion-warning { \n",
       "font-weight: bold;\n",
       "color: rgb(200, 130, 0);\n",
       "}\n",
       ".suggestion-error { \n",
       "font-weight: bold;\n",
       "color: red;\n",
       "}\n",
       ".suggestion-name {\n",
       "font-weight: bold;\n",
       "}\n",
       "</style><img src=\"data:image/png;base64,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\">\n"
      ],
      "text/plain": [
       "<img src=\"data:image/png;base64,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\">"
      ]
     },
     "metadata": {},
     "output_type": "display_data"
    }
   ],
   "source": [
    "rs <- sample $ replicateM 10000 stdNormal :: IO [Double]\n",
    "[rgraph|hist(rs_hs)|]"
   ]
  },
  {
   "cell_type": "markdown",
   "metadata": {},
   "source": [
    "# Coin toss\n",
    "\n",
    "Construct random variable for our custom type, using other predefined random variables."
   ]
  },
  {
   "cell_type": "code",
   "execution_count": 11,
   "metadata": {},
   "outputs": [],
   "source": [
    "import Data.Random.Distribution.Bernoulli (bernoulli)"
   ]
  },
  {
   "cell_type": "markdown",
   "metadata": {},
   "source": [
    "We will use:\n",
    "\n",
    "```haskell\n",
    "bernoulli :: Distribution (Bernoulli b) a => b -> RVar a\n",
    "```\n",
    "\n",
    "which constructs random variable with Bernoulli distribution:\n",
    "\n",
    "- it returns either of two values; `(True, False)` for us;\n",
    "- `True` with probability `p` and `False` with probability `1-p` \n",
    "\n",
    "We will draw Boolean values, so for us it will specialize to:\n",
    "\n",
    "```haskell\n",
    "bernoulli :: Double -> RVar Bool\n",
    "```"
   ]
  },
  {
   "cell_type": "code",
   "execution_count": 12,
   "metadata": {},
   "outputs": [],
   "source": [
    "data Coin = Head | Tail deriving (Bounded, Enum, Show)"
   ]
  },
  {
   "cell_type": "code",
   "execution_count": 13,
   "metadata": {},
   "outputs": [],
   "source": [
    "toss :: RVar Coin\n",
    "toss = do\n",
    "    x <- bernoulli 0.5\n",
    "    case x of\n",
    "        True -> return Head\n",
    "        False -> return Tail"
   ]
  },
  {
   "cell_type": "code",
   "execution_count": 14,
   "metadata": {},
   "outputs": [
    {
     "data": {
      "text/plain": [
       "Tail"
      ]
     },
     "metadata": {},
     "output_type": "display_data"
    }
   ],
   "source": [
    "sample toss"
   ]
  },
  {
   "cell_type": "markdown",
   "metadata": {},
   "source": [
    "We can make it simpler for those more familiar with monadic and applicative syntax:"
   ]
  },
  {
   "cell_type": "code",
   "execution_count": 15,
   "metadata": {},
   "outputs": [],
   "source": [
    "bool2Coin :: Bool -> Coin\n",
    "bool2Coin True = Head\n",
    "bool2Coin False = Tail"
   ]
  },
  {
   "cell_type": "code",
   "execution_count": 16,
   "metadata": {},
   "outputs": [
    {
     "data": {
      "text/html": [
       "<style>/* Styles used for the Hoogle display in the pager */\n",
       ".hoogle-doc {\n",
       "display: block;\n",
       "padding-bottom: 1.3em;\n",
       "padding-left: 0.4em;\n",
       "}\n",
       ".hoogle-code {\n",
       "display: block;\n",
       "font-family: monospace;\n",
       "white-space: pre;\n",
       "}\n",
       ".hoogle-text {\n",
       "display: block;\n",
       "}\n",
       ".hoogle-name {\n",
       "color: green;\n",
       "font-weight: bold;\n",
       "}\n",
       ".hoogle-head {\n",
       "font-weight: bold;\n",
       "}\n",
       ".hoogle-sub {\n",
       "display: block;\n",
       "margin-left: 0.4em;\n",
       "}\n",
       ".hoogle-package {\n",
       "font-weight: bold;\n",
       "font-style: italic;\n",
       "}\n",
       ".hoogle-module {\n",
       "font-weight: bold;\n",
       "}\n",
       ".hoogle-class {\n",
       "font-weight: bold;\n",
       "}\n",
       ".get-type {\n",
       "color: green;\n",
       "font-weight: bold;\n",
       "font-family: monospace;\n",
       "display: block;\n",
       "white-space: pre-wrap;\n",
       "}\n",
       ".show-type {\n",
       "color: green;\n",
       "font-weight: bold;\n",
       "font-family: monospace;\n",
       "margin-left: 1em;\n",
       "}\n",
       ".mono {\n",
       "font-family: monospace;\n",
       "display: block;\n",
       "}\n",
       ".err-msg {\n",
       "color: red;\n",
       "font-style: italic;\n",
       "font-family: monospace;\n",
       "white-space: pre;\n",
       "display: block;\n",
       "}\n",
       "#unshowable {\n",
       "color: red;\n",
       "font-weight: bold;\n",
       "}\n",
       ".err-msg.in.collapse {\n",
       "padding-top: 0.7em;\n",
       "}\n",
       ".highlight-code {\n",
       "white-space: pre;\n",
       "font-family: monospace;\n",
       "}\n",
       ".suggestion-warning { \n",
       "font-weight: bold;\n",
       "color: rgb(200, 130, 0);\n",
       "}\n",
       ".suggestion-error { \n",
       "font-weight: bold;\n",
       "color: red;\n",
       "}\n",
       ".suggestion-name {\n",
       "font-weight: bold;\n",
       "}\n",
       "</style><div class=\"suggestion-name\" style=\"clear:both;\">Use <$></div><div class=\"suggestion-row\" style=\"float: left;\"><div class=\"suggestion-warning\">Found:</div><div class=\"highlight-code\" id=\"haskell\">bernoulli 0.5 >>= return . bool2Coin</div></div><div class=\"suggestion-row\" style=\"float: left;\"><div class=\"suggestion-warning\">Why Not:</div><div class=\"highlight-code\" id=\"haskell\">bool2Coin <$> bernoulli 0.5</div></div>"
      ],
      "text/plain": [
       "Line 1: Use <$>\n",
       "Found:\n",
       "bernoulli 0.5 >>= return . bool2Coin\n",
       "Why not:\n",
       "bool2Coin <$> bernoulli 0.5"
      ]
     },
     "metadata": {},
     "output_type": "display_data"
    }
   ],
   "source": [
    "toss = bernoulli 0.5 >>= return . bool2Coin"
   ]
  },
  {
   "cell_type": "code",
   "execution_count": 17,
   "metadata": {},
   "outputs": [],
   "source": [
    "toss = bool2Coin <$> bernoulli 0.5"
   ]
  },
  {
   "cell_type": "code",
   "execution_count": 18,
   "metadata": {},
   "outputs": [],
   "source": [
    "xs <- fmap show <$> sample (replicateM 10000 toss)"
   ]
  },
  {
   "cell_type": "code",
   "execution_count": 19,
   "metadata": {},
   "outputs": [
    {
     "data": {
      "text/plain": [
       "xs_hs\n",
       "Head Tail \n",
       "4990 5010"
      ]
     },
     "metadata": {},
     "output_type": "display_data"
    }
   ],
   "source": [
    "[rprint| table(xs_hs) |]"
   ]
  },
  {
   "cell_type": "markdown",
   "metadata": {},
   "source": [
    "# Monty Hall problem\n",
    "\n",
    "From [wiki]():\n",
    "\n",
    "> Suppose you're on a game show, and you're given the choice of three doors: Behind one door is a car; behind the others, goats. You pick a door, say No. 1, and the host, who knows what's behind the doors, opens another door, say No. 3, which has a goat. He then says to you, \"Do you want to pick door No. 2?\" Is it to your advantage to switch your choice?\n",
    "\n",
    "![img](Monty_open_door.svg.png)"
   ]
  },
  {
   "cell_type": "code",
   "execution_count": 20,
   "metadata": {},
   "outputs": [],
   "source": [
    "import Data.Random.List (randomElement)\n",
    "import Data.List"
   ]
  },
  {
   "cell_type": "markdown",
   "metadata": {},
   "source": [
    "We start with types and utility functions:"
   ]
  },
  {
   "cell_type": "code",
   "execution_count": 21,
   "metadata": {},
   "outputs": [],
   "source": [
    "data Result = Win | Loose deriving (Eq, Show)\n",
    "data Door = First | Second | Third deriving (Bounded, Enum, Eq, Show)\n",
    "\n",
    "result :: Door -> Door -> Result\n",
    "result prize choice | prize == choice = Win\n",
    "                    | otherwise       = Loose\n",
    "doors = [minBound..maxBound]"
   ]
  },
  {
   "cell_type": "markdown",
   "metadata": {},
   "source": [
    "Now, we implement two strategies:"
   ]
  },
  {
   "cell_type": "code",
   "execution_count": 22,
   "metadata": {},
   "outputs": [],
   "source": [
    "mhChange :: RVar Result\n",
    "mhChange = do\n",
    "    prize <- randomElement doors\n",
    "    choice <- randomElement doors\n",
    "    opens <- randomElement (doors \\\\ [prize, choice])\n",
    "    let change = head $ doors \\\\ [choice, opens]\n",
    "    return $ result prize change"
   ]
  },
  {
   "cell_type": "code",
   "execution_count": 23,
   "metadata": {},
   "outputs": [],
   "source": [
    "mhKeep :: RVar Result\n",
    "mhKeep = do\n",
    "    prize <- randomElement doors\n",
    "    choice <- randomElement doors\n",
    "    return $ result prize choice"
   ]
  },
  {
   "cell_type": "code",
   "execution_count": 24,
   "metadata": {},
   "outputs": [],
   "source": [
    "mhKeep = result <$> randomElement doors <*> randomElement doors"
   ]
  },
  {
   "cell_type": "markdown",
   "metadata": {},
   "source": [
    "Now, small utility function that compute frequency on `Win` results in the list:"
   ]
  },
  {
   "cell_type": "code",
   "execution_count": 25,
   "metadata": {},
   "outputs": [],
   "source": [
    "winFreq :: [Result] -> Double\n",
    "winFreq rs = let l = fromIntegral . length\n",
    "                 w = l $ filter (==Win) rs\n",
    "             in w / l rs"
   ]
  },
  {
   "cell_type": "code",
   "execution_count": 26,
   "metadata": {},
   "outputs": [
    {
     "data": {
      "text/plain": [
       "0.6678"
      ]
     },
     "metadata": {},
     "output_type": "display_data"
    }
   ],
   "source": [
    "change <- sample $ replicateM 10000 mhChange\n",
    "winFreq change"
   ]
  },
  {
   "cell_type": "code",
   "execution_count": 27,
   "metadata": {},
   "outputs": [
    {
     "data": {
      "text/plain": [
       "0.3363"
      ]
     },
     "metadata": {},
     "output_type": "display_data"
    }
   ],
   "source": [
    "keep <- sample $ replicateM 10000 mhKeep\n",
    "winFreq keep"
   ]
  },
  {
   "cell_type": "markdown",
   "metadata": {},
   "source": [
    "# Compute $\\pi$\n",
    "\n",
    "A very basic (and inefficient) way to approximate $\\pi$."
   ]
  },
  {
   "cell_type": "code",
   "execution_count": 28,
   "metadata": {},
   "outputs": [],
   "source": [
    "inCircle :: Double -> Double -> Bool\n",
    "inCircle x y = x^2 + y^2 <= 1"
   ]
  },
  {
   "cell_type": "code",
   "execution_count": 29,
   "metadata": {},
   "outputs": [],
   "source": [
    "point = inCircle <$> stdUniform <*> stdUniform"
   ]
  },
  {
   "cell_type": "code",
   "execution_count": 30,
   "metadata": {},
   "outputs": [],
   "source": [
    "areaMC :: [Bool] -> Double\n",
    "areaMC ps = let l = fromIntegral . length \n",
    "            in l (filter id ps) / l ps"
   ]
  },
  {
   "cell_type": "code",
   "execution_count": 31,
   "metadata": {},
   "outputs": [],
   "source": [
    "piMC n = (*4) . areaMC <$> sample (replicateM n point)"
   ]
  },
  {
   "cell_type": "code",
   "execution_count": 32,
   "metadata": {},
   "outputs": [
    {
     "data": {
      "text/plain": [
       "3.142628"
      ]
     },
     "metadata": {},
     "output_type": "display_data"
    }
   ],
   "source": [
    "piMC 1000000"
   ]
  },
  {
   "cell_type": "code",
   "execution_count": 33,
   "metadata": {},
   "outputs": [],
   "source": [
    "piMC' n = (*4) . areaMC <$> replicateM n point"
   ]
  },
  {
   "cell_type": "code",
   "execution_count": 34,
   "metadata": {},
   "outputs": [
    {
     "data": {
      "text/plain": [
       "3.140376"
      ]
     },
     "metadata": {},
     "output_type": "display_data"
    }
   ],
   "source": [
    "sample (piMC' 1000000)"
   ]
  },
  {
   "cell_type": "code",
   "execution_count": 35,
   "metadata": {},
   "outputs": [],
   "source": [
    "mcPi :: Int -> IO Double\n",
    "mcPi n = do\n",
    "    ps <- sample $ replicateM n point\n",
    "    let inc = fromIntegral . length $ filter id ps\n",
    "        area = inc/fromIntegral n\n",
    "    return $ 4*area        "
   ]
  },
  {
   "cell_type": "code",
   "execution_count": 36,
   "metadata": {},
   "outputs": [
    {
     "data": {
      "text/plain": [
       "3.14078"
      ]
     },
     "metadata": {},
     "output_type": "display_data"
    }
   ],
   "source": [
    "mcPi 1000000"
   ]
  },
  {
   "cell_type": "code",
   "execution_count": null,
   "metadata": {},
   "outputs": [],
   "source": []
  }
 ],
 "metadata": {
  "kernelspec": {
   "display_name": "Haskell",
   "language": "haskell",
   "name": "haskell"
  },
  "language_info": {
   "codemirror_mode": "ihaskell",
   "file_extension": ".hs",
   "name": "haskell",
   "version": "8.2.2"
  },
  "toc": {
   "base_numbering": 1,
   "nav_menu": {},
   "number_sections": true,
   "sideBar": true,
   "skip_h1_title": false,
   "title_cell": "Table of Contents",
   "title_sidebar": "Contents",
   "toc_cell": true,
   "toc_position": {},
   "toc_section_display": true,
   "toc_window_display": false
  }
 },
 "nbformat": 4,
 "nbformat_minor": 2
}
