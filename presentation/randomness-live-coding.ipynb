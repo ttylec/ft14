{
 "cells": [
  {
   "cell_type": "markdown",
   "metadata": {
    "toc": true
   },
   "source": [
    "<h1>Table of Contents<span class=\"tocSkip\"></span></h1>\n",
    "<div class=\"toc\"><ul class=\"toc-item\"><li><span><a href=\"#Sampling-random-variables\" data-toc-modified-id=\"Sampling-random-variables-1\"><span class=\"toc-item-num\">1&nbsp;&nbsp;</span>Sampling random variables</a></span></li><li><span><a href=\"#Coin-toss\" data-toc-modified-id=\"Coin-toss-2\"><span class=\"toc-item-num\">2&nbsp;&nbsp;</span>Coin toss</a></span></li><li><span><a href=\"#Monty-Hall-problem\" data-toc-modified-id=\"Monty-Hall-problem-3\"><span class=\"toc-item-num\">3&nbsp;&nbsp;</span>Monty Hall problem</a></span></li><li><span><a href=\"#Compute-$\\pi$\" data-toc-modified-id=\"Compute-$\\pi$-4\"><span class=\"toc-item-num\">4&nbsp;&nbsp;</span>Compute $\\pi$</a></span></li><li><span><a href=\"#Stochastic-processes\" data-toc-modified-id=\"Stochastic-processes-5\"><span class=\"toc-item-num\">5&nbsp;&nbsp;</span>Stochastic processes</a></span><ul class=\"toc-item\"><li><span><a href=\"#Random-walk\" data-toc-modified-id=\"Random-walk-5.1\"><span class=\"toc-item-num\">5.1&nbsp;&nbsp;</span>Random walk</a></span></li><li><span><a href=\"#Snakes-&amp;-ladders\" data-toc-modified-id=\"Snakes-&amp;-ladders-5.2\"><span class=\"toc-item-num\">5.2&nbsp;&nbsp;</span>Snakes &amp; ladders</a></span><ul class=\"toc-item\"><li><span><a href=\"#Snakes-&amp;-ladders-with-infinite-tree\" data-toc-modified-id=\"Snakes-&amp;-ladders-with-infinite-tree-5.2.1\"><span class=\"toc-item-num\">5.2.1&nbsp;&nbsp;</span>Snakes &amp; ladders with infinite tree</a></span></li></ul></li></ul></li><li><span><a href=\"#Num-typeclass\" data-toc-modified-id=\"Num-typeclass-6\"><span class=\"toc-item-num\">6&nbsp;&nbsp;</span><code>Num</code> typeclass</a></span></li></ul></div>"
   ]
  },
  {
   "cell_type": "markdown",
   "metadata": {},
   "source": [
    "We will use [HaskellR](https://github.com/tweag/HaskellR) to have some nice plots when needed"
   ]
  },
  {
   "cell_type": "code",
   "execution_count": 1,
   "metadata": {},
   "outputs": [],
   "source": [
    ":ext QuasiQuotes"
   ]
  },
  {
   "cell_type": "code",
   "execution_count": 2,
   "metadata": {},
   "outputs": [
    {
     "data": {
      "text/plain": []
     },
     "metadata": {},
     "output_type": "display_data"
    }
   ],
   "source": [
    "import qualified H.Prelude as H\n",
    "import Control.Monad\n",
    "H.initialize H.defaultConfig"
   ]
  },
  {
   "cell_type": "markdown",
   "metadata": {},
   "source": [
    "# Sampling random variables"
   ]
  },
  {
   "cell_type": "code",
   "execution_count": 3,
   "metadata": {},
   "outputs": [],
   "source": [
    "import Data.Random"
   ]
  },
  {
   "cell_type": "markdown",
   "metadata": {},
   "source": [
    "Let us remind types:\n",
    "\n",
    "```haskell\n",
    "sample     :: MonadRandom  m   => RVar a -> m a\n",
    "sampleFrom :: RandomSource m s => s -> RVar a -> m a\n",
    "```\n",
    "\n",
    "for sampling and\n",
    "```haskell\n",
    "instance Distribution StdUniform Double\n",
    "instance Distribution Normal Double\n",
    "\n",
    "stdUniform :: Distribution StdUniform a => RVar a\n",
    "normal     :: Distribution Normal a     => a -> a -> RVar a\n",
    "```\n",
    "\n",
    "we can now try to sample few values:"
   ]
  },
  {
   "cell_type": "code",
   "execution_count": 4,
   "metadata": {},
   "outputs": [
    {
     "data": {
      "text/plain": [
       "0.299802347190548"
      ]
     },
     "metadata": {},
     "output_type": "display_data"
    }
   ],
   "source": [
    "sample stdUniform :: IO Double"
   ]
  },
  {
   "cell_type": "code",
   "execution_count": 5,
   "metadata": {},
   "outputs": [
    {
     "data": {
      "text/plain": [
       "True"
      ]
     },
     "metadata": {},
     "output_type": "display_data"
    }
   ],
   "source": [
    "sample stdUniform :: IO Bool"
   ]
  },
  {
   "cell_type": "code",
   "execution_count": 6,
   "metadata": {},
   "outputs": [
    {
     "data": {
      "text/plain": [
       "0.6153120488288605"
      ]
     },
     "metadata": {},
     "output_type": "display_data"
    }
   ],
   "source": [
    "sample stdNormal :: IO Double"
   ]
  },
  {
   "cell_type": "markdown",
   "metadata": {},
   "source": [
    "Since `RVar` is a monad, we can use the whole variety of functions that manimulate monadic values, e.g.:\n",
    "\n",
    "```haskell\n",
    "replicateM :: Monad m => Int -> m a -> m [a]\n",
    "\n",
    "-- specialized for us\n",
    "replicateM :: Int -> RVar a -> RVar [a]\n",
    "```\n",
    "\n",
    "to construct a random variable of list type."
   ]
  },
  {
   "cell_type": "code",
   "execution_count": 7,
   "metadata": {},
   "outputs": [
    {
     "data": {
      "text/plain": [
       "[0.6617812500255484,0.33461841673128756,0.538487826343752,0.42051141922913726,0.6262004620875876,0.5555609056683142,0.820833067850679,0.9083264625261627,6.205129775473939e-4,0.19976866020911932]"
      ]
     },
     "metadata": {},
     "output_type": "display_data"
    }
   ],
   "source": [
    "sample $ replicateM 10 stdUniform :: IO [Double]"
   ]
  },
  {
   "cell_type": "code",
   "execution_count": 8,
   "metadata": {},
   "outputs": [
    {
     "data": {
      "text/plain": [
       "[-1.0497938968195875,-0.3254564495767231,-1.095558574291609,-0.650311007410181,-0.6067185406472032,-1.405644926710861,-0.13160962220268171,-1.1043104628555174,-0.21885941028371245,-0.3607038869390136]"
      ]
     },
     "metadata": {},
     "output_type": "display_data"
    }
   ],
   "source": [
    "sample $ replicateM 10 stdNormal :: IO [Double]"
   ]
  },
  {
   "cell_type": "markdown",
   "metadata": {},
   "source": [
    "This tells us nothing. But let's do some simple plots:"
   ]
  },
  {
   "cell_type": "code",
   "execution_count": 9,
   "metadata": {},
   "outputs": [
    {
     "data": {
      "text/html": [
       "<style>/* Styles used for the Hoogle display in the pager */\n",
       ".hoogle-doc {\n",
       "display: block;\n",
       "padding-bottom: 1.3em;\n",
       "padding-left: 0.4em;\n",
       "}\n",
       ".hoogle-code {\n",
       "display: block;\n",
       "font-family: monospace;\n",
       "white-space: pre;\n",
       "}\n",
       ".hoogle-text {\n",
       "display: block;\n",
       "}\n",
       ".hoogle-name {\n",
       "color: green;\n",
       "font-weight: bold;\n",
       "}\n",
       ".hoogle-head {\n",
       "font-weight: bold;\n",
       "}\n",
       ".hoogle-sub {\n",
       "display: block;\n",
       "margin-left: 0.4em;\n",
       "}\n",
       ".hoogle-package {\n",
       "font-weight: bold;\n",
       "font-style: italic;\n",
       "}\n",
       ".hoogle-module {\n",
       "font-weight: bold;\n",
       "}\n",
       ".hoogle-class {\n",
       "font-weight: bold;\n",
       "}\n",
       ".get-type {\n",
       "color: green;\n",
       "font-weight: bold;\n",
       "font-family: monospace;\n",
       "display: block;\n",
       "white-space: pre-wrap;\n",
       "}\n",
       ".show-type {\n",
       "color: green;\n",
       "font-weight: bold;\n",
       "font-family: monospace;\n",
       "margin-left: 1em;\n",
       "}\n",
       ".mono {\n",
       "font-family: monospace;\n",
       "display: block;\n",
       "}\n",
       ".err-msg {\n",
       "color: red;\n",
       "font-style: italic;\n",
       "font-family: monospace;\n",
       "white-space: pre;\n",
       "display: block;\n",
       "}\n",
       "#unshowable {\n",
       "color: red;\n",
       "font-weight: bold;\n",
       "}\n",
       ".err-msg.in.collapse {\n",
       "padding-top: 0.7em;\n",
       "}\n",
       ".highlight-code {\n",
       "white-space: pre;\n",
       "font-family: monospace;\n",
       "}\n",
       ".suggestion-warning { \n",
       "font-weight: bold;\n",
       "color: rgb(200, 130, 0);\n",
       "}\n",
       ".suggestion-error { \n",
       "font-weight: bold;\n",
       "color: red;\n",
       "}\n",
       ".suggestion-name {\n",
       "font-weight: bold;\n",
       "}\n",
       "</style><img src=\"data:image/png;base64,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\">\n"
      ],
      "text/plain": [
       "<img src=\"data:image/png;base64,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\">"
      ]
     },
     "metadata": {},
     "output_type": "display_data"
    }
   ],
   "source": [
    "rs <- sample $ replicateM 10000 stdUniform :: IO [Double]  -- get bigger sample\n",
    "[rgraph|hist(rs_hs)|]  -- plot histogram with R"
   ]
  },
  {
   "cell_type": "code",
   "execution_count": 10,
   "metadata": {},
   "outputs": [
    {
     "data": {
      "text/html": [
       "<style>/* Styles used for the Hoogle display in the pager */\n",
       ".hoogle-doc {\n",
       "display: block;\n",
       "padding-bottom: 1.3em;\n",
       "padding-left: 0.4em;\n",
       "}\n",
       ".hoogle-code {\n",
       "display: block;\n",
       "font-family: monospace;\n",
       "white-space: pre;\n",
       "}\n",
       ".hoogle-text {\n",
       "display: block;\n",
       "}\n",
       ".hoogle-name {\n",
       "color: green;\n",
       "font-weight: bold;\n",
       "}\n",
       ".hoogle-head {\n",
       "font-weight: bold;\n",
       "}\n",
       ".hoogle-sub {\n",
       "display: block;\n",
       "margin-left: 0.4em;\n",
       "}\n",
       ".hoogle-package {\n",
       "font-weight: bold;\n",
       "font-style: italic;\n",
       "}\n",
       ".hoogle-module {\n",
       "font-weight: bold;\n",
       "}\n",
       ".hoogle-class {\n",
       "font-weight: bold;\n",
       "}\n",
       ".get-type {\n",
       "color: green;\n",
       "font-weight: bold;\n",
       "font-family: monospace;\n",
       "display: block;\n",
       "white-space: pre-wrap;\n",
       "}\n",
       ".show-type {\n",
       "color: green;\n",
       "font-weight: bold;\n",
       "font-family: monospace;\n",
       "margin-left: 1em;\n",
       "}\n",
       ".mono {\n",
       "font-family: monospace;\n",
       "display: block;\n",
       "}\n",
       ".err-msg {\n",
       "color: red;\n",
       "font-style: italic;\n",
       "font-family: monospace;\n",
       "white-space: pre;\n",
       "display: block;\n",
       "}\n",
       "#unshowable {\n",
       "color: red;\n",
       "font-weight: bold;\n",
       "}\n",
       ".err-msg.in.collapse {\n",
       "padding-top: 0.7em;\n",
       "}\n",
       ".highlight-code {\n",
       "white-space: pre;\n",
       "font-family: monospace;\n",
       "}\n",
       ".suggestion-warning { \n",
       "font-weight: bold;\n",
       "color: rgb(200, 130, 0);\n",
       "}\n",
       ".suggestion-error { \n",
       "font-weight: bold;\n",
       "color: red;\n",
       "}\n",
       ".suggestion-name {\n",
       "font-weight: bold;\n",
       "}\n",
       "</style><img src=\"data:image/png;base64,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\">\n"
      ],
      "text/plain": [
       "<img src=\"data:image/png;base64,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\">"
      ]
     },
     "metadata": {},
     "output_type": "display_data"
    }
   ],
   "source": [
    "rs <- sample $ replicateM 10000 stdNormal :: IO [Double]\n",
    "[rgraph|hist(rs_hs)|]"
   ]
  },
  {
   "cell_type": "markdown",
   "metadata": {},
   "source": [
    "# Coin toss\n",
    "\n",
    "Construct random variable for our custom type, using other predefined random variables."
   ]
  },
  {
   "cell_type": "code",
   "execution_count": 11,
   "metadata": {},
   "outputs": [],
   "source": [
    "import Data.Random.Distribution.Bernoulli (bernoulli)"
   ]
  },
  {
   "cell_type": "markdown",
   "metadata": {},
   "source": [
    "We will use:\n",
    "\n",
    "```haskell\n",
    "bernoulli :: Distribution (Bernoulli b) a => b -> RVar a\n",
    "```\n",
    "\n",
    "which constructs random variable with Bernoulli distribution:\n",
    "\n",
    "- it returns either of two values; `(True, False)` for us;\n",
    "- `True` with probability `p` and `False` with probability `1-p` \n",
    "\n",
    "We will draw Boolean values, so for us it will specialize to:\n",
    "\n",
    "```haskell\n",
    "bernoulli :: Double -> RVar Bool\n",
    "```"
   ]
  },
  {
   "cell_type": "code",
   "execution_count": 12,
   "metadata": {},
   "outputs": [],
   "source": [
    "data Coin = Head | Tail deriving (Bounded, Enum, Show)"
   ]
  },
  {
   "cell_type": "code",
   "execution_count": 13,
   "metadata": {},
   "outputs": [],
   "source": [
    "toss :: RVar Coin\n",
    "toss = do\n",
    "    x <- bernoulli 0.5\n",
    "    case x of\n",
    "        True -> return Head\n",
    "        False -> return Tail"
   ]
  },
  {
   "cell_type": "code",
   "execution_count": 14,
   "metadata": {},
   "outputs": [
    {
     "data": {
      "text/plain": [
       "Tail"
      ]
     },
     "metadata": {},
     "output_type": "display_data"
    }
   ],
   "source": [
    "sample toss"
   ]
  },
  {
   "cell_type": "markdown",
   "metadata": {},
   "source": [
    "We can make it simpler for those more familiar with monadic and applicative syntax:"
   ]
  },
  {
   "cell_type": "code",
   "execution_count": 15,
   "metadata": {},
   "outputs": [],
   "source": [
    "bool2Coin :: Bool -> Coin\n",
    "bool2Coin True = Head\n",
    "bool2Coin False = Tail"
   ]
  },
  {
   "cell_type": "code",
   "execution_count": 16,
   "metadata": {},
   "outputs": [
    {
     "data": {
      "text/html": [
       "<style>/* Styles used for the Hoogle display in the pager */\n",
       ".hoogle-doc {\n",
       "display: block;\n",
       "padding-bottom: 1.3em;\n",
       "padding-left: 0.4em;\n",
       "}\n",
       ".hoogle-code {\n",
       "display: block;\n",
       "font-family: monospace;\n",
       "white-space: pre;\n",
       "}\n",
       ".hoogle-text {\n",
       "display: block;\n",
       "}\n",
       ".hoogle-name {\n",
       "color: green;\n",
       "font-weight: bold;\n",
       "}\n",
       ".hoogle-head {\n",
       "font-weight: bold;\n",
       "}\n",
       ".hoogle-sub {\n",
       "display: block;\n",
       "margin-left: 0.4em;\n",
       "}\n",
       ".hoogle-package {\n",
       "font-weight: bold;\n",
       "font-style: italic;\n",
       "}\n",
       ".hoogle-module {\n",
       "font-weight: bold;\n",
       "}\n",
       ".hoogle-class {\n",
       "font-weight: bold;\n",
       "}\n",
       ".get-type {\n",
       "color: green;\n",
       "font-weight: bold;\n",
       "font-family: monospace;\n",
       "display: block;\n",
       "white-space: pre-wrap;\n",
       "}\n",
       ".show-type {\n",
       "color: green;\n",
       "font-weight: bold;\n",
       "font-family: monospace;\n",
       "margin-left: 1em;\n",
       "}\n",
       ".mono {\n",
       "font-family: monospace;\n",
       "display: block;\n",
       "}\n",
       ".err-msg {\n",
       "color: red;\n",
       "font-style: italic;\n",
       "font-family: monospace;\n",
       "white-space: pre;\n",
       "display: block;\n",
       "}\n",
       "#unshowable {\n",
       "color: red;\n",
       "font-weight: bold;\n",
       "}\n",
       ".err-msg.in.collapse {\n",
       "padding-top: 0.7em;\n",
       "}\n",
       ".highlight-code {\n",
       "white-space: pre;\n",
       "font-family: monospace;\n",
       "}\n",
       ".suggestion-warning { \n",
       "font-weight: bold;\n",
       "color: rgb(200, 130, 0);\n",
       "}\n",
       ".suggestion-error { \n",
       "font-weight: bold;\n",
       "color: red;\n",
       "}\n",
       ".suggestion-name {\n",
       "font-weight: bold;\n",
       "}\n",
       "</style><div class=\"suggestion-name\" style=\"clear:both;\">Use <$></div><div class=\"suggestion-row\" style=\"float: left;\"><div class=\"suggestion-warning\">Found:</div><div class=\"highlight-code\" id=\"haskell\">bernoulli 0.5 >>= return . bool2Coin</div></div><div class=\"suggestion-row\" style=\"float: left;\"><div class=\"suggestion-warning\">Why Not:</div><div class=\"highlight-code\" id=\"haskell\">bool2Coin <$> bernoulli 0.5</div></div>"
      ],
      "text/plain": [
       "Line 1: Use <$>\n",
       "Found:\n",
       "bernoulli 0.5 >>= return . bool2Coin\n",
       "Why not:\n",
       "bool2Coin <$> bernoulli 0.5"
      ]
     },
     "metadata": {},
     "output_type": "display_data"
    }
   ],
   "source": [
    "toss = bernoulli 0.5 >>= return . bool2Coin"
   ]
  },
  {
   "cell_type": "code",
   "execution_count": 17,
   "metadata": {},
   "outputs": [],
   "source": [
    "toss = bool2Coin <$> bernoulli 0.5"
   ]
  },
  {
   "cell_type": "code",
   "execution_count": 18,
   "metadata": {},
   "outputs": [],
   "source": [
    "xs <- fmap show <$> sample (replicateM 10000 toss)"
   ]
  },
  {
   "cell_type": "code",
   "execution_count": 19,
   "metadata": {},
   "outputs": [
    {
     "data": {
      "text/plain": [
       "xs_hs\n",
       "Head Tail \n",
       "4948 5052"
      ]
     },
     "metadata": {},
     "output_type": "display_data"
    }
   ],
   "source": [
    "[rprint| table(xs_hs) |]"
   ]
  },
  {
   "cell_type": "markdown",
   "metadata": {},
   "source": [
    "# Monty Hall problem\n",
    "\n",
    "From [wiki]():\n",
    "\n",
    "> Suppose you're on a game show, and you're given the choice of three doors: Behind one door is a car; behind the others, goats. You pick a door, say No. 1, and the host, who knows what's behind the doors, opens another door, say No. 3, which has a goat. He then says to you, \"Do you want to pick door No. 2?\" Is it to your advantage to switch your choice?\n",
    "\n",
    "![img](Monty_open_door.svg.png)"
   ]
  },
  {
   "cell_type": "code",
   "execution_count": 20,
   "metadata": {},
   "outputs": [],
   "source": [
    "import Data.Random.List (randomElement)\n",
    "import Data.List"
   ]
  },
  {
   "cell_type": "markdown",
   "metadata": {},
   "source": [
    "We start with types and utility functions:"
   ]
  },
  {
   "cell_type": "code",
   "execution_count": 21,
   "metadata": {},
   "outputs": [],
   "source": [
    "data Result = Win | Loose deriving (Eq, Show)\n",
    "data Door = First | Second | Third deriving (Bounded, Enum, Eq, Show)\n",
    "\n",
    "result :: Door -> Door -> Result\n",
    "result prize choice | prize == choice = Win\n",
    "                    | otherwise       = Loose\n",
    "doors = [minBound..maxBound]"
   ]
  },
  {
   "cell_type": "markdown",
   "metadata": {},
   "source": [
    "Now, we implement two strategies:"
   ]
  },
  {
   "cell_type": "code",
   "execution_count": 22,
   "metadata": {},
   "outputs": [],
   "source": [
    "mhChange :: RVar Result\n",
    "mhChange = do\n",
    "    prize <- randomElement doors\n",
    "    choice <- randomElement doors\n",
    "    opens <- randomElement (doors \\\\ [prize, choice])\n",
    "    let change = head $ doors \\\\ [choice, opens]\n",
    "    return $ result prize change"
   ]
  },
  {
   "cell_type": "code",
   "execution_count": 23,
   "metadata": {},
   "outputs": [],
   "source": [
    "mhKeep :: RVar Result\n",
    "mhKeep = do\n",
    "    prize <- randomElement doors\n",
    "    choice <- randomElement doors\n",
    "    return $ result prize choice"
   ]
  },
  {
   "cell_type": "code",
   "execution_count": 24,
   "metadata": {},
   "outputs": [],
   "source": [
    "mhKeep = result <$> randomElement doors <*> randomElement doors"
   ]
  },
  {
   "cell_type": "markdown",
   "metadata": {},
   "source": [
    "Now, small utility function that compute frequency on `Win` results in the list:"
   ]
  },
  {
   "cell_type": "code",
   "execution_count": 25,
   "metadata": {},
   "outputs": [],
   "source": [
    "winFreq :: [Result] -> Double\n",
    "winFreq rs = let l = fromIntegral . length\n",
    "                 w = l $ filter (==Win) rs\n",
    "             in w / l rs"
   ]
  },
  {
   "cell_type": "code",
   "execution_count": 26,
   "metadata": {},
   "outputs": [
    {
     "data": {
      "text/plain": [
       "0.6637"
      ]
     },
     "metadata": {},
     "output_type": "display_data"
    }
   ],
   "source": [
    "change <- sample $ replicateM 10000 mhChange\n",
    "winFreq change"
   ]
  },
  {
   "cell_type": "code",
   "execution_count": 27,
   "metadata": {},
   "outputs": [
    {
     "data": {
      "text/plain": [
       "0.3333"
      ]
     },
     "metadata": {},
     "output_type": "display_data"
    }
   ],
   "source": [
    "keep <- sample $ replicateM 10000 mhKeep\n",
    "winFreq keep"
   ]
  },
  {
   "cell_type": "markdown",
   "metadata": {},
   "source": [
    "# Compute $\\pi$\n",
    "\n",
    "A very basic (and inefficient) way to approximate $\\pi$.\n",
    "\n",
    "<img src=\"pi.jpg\" width=\"400px\">"
   ]
  },
  {
   "cell_type": "code",
   "execution_count": 28,
   "metadata": {},
   "outputs": [],
   "source": [
    "inCircle :: Double -> Double -> Bool\n",
    "inCircle x y = x^2 + y^2 <= 1"
   ]
  },
  {
   "cell_type": "code",
   "execution_count": 29,
   "metadata": {},
   "outputs": [],
   "source": [
    "point = inCircle <$> stdUniform <*> stdUniform"
   ]
  },
  {
   "cell_type": "code",
   "execution_count": 30,
   "metadata": {},
   "outputs": [],
   "source": [
    "areaMC :: [Bool] -> Double\n",
    "areaMC ps = let l = fromIntegral . length \n",
    "            in l (filter id ps) / l ps"
   ]
  },
  {
   "cell_type": "code",
   "execution_count": 31,
   "metadata": {},
   "outputs": [],
   "source": [
    "piMC n = (*4) . areaMC <$> sample (replicateM n point)"
   ]
  },
  {
   "cell_type": "code",
   "execution_count": 32,
   "metadata": {},
   "outputs": [
    {
     "data": {
      "text/plain": [
       "3.141092"
      ]
     },
     "metadata": {},
     "output_type": "display_data"
    }
   ],
   "source": [
    "piMC 1000000"
   ]
  },
  {
   "cell_type": "markdown",
   "metadata": {},
   "source": [
    "# Stochastic processes\n",
    "\n",
    "Let's just generalize type, in obvious way, *because we can*:"
   ]
  },
  {
   "cell_type": "code",
   "execution_count": 33,
   "metadata": {},
   "outputs": [],
   "source": [
    "run :: Int -> (a -> RVar a) -> a -> RVar a\n",
    "run n t s0 = t s0 >>= run (n-1) t"
   ]
  },
  {
   "cell_type": "markdown",
   "metadata": {},
   "source": [
    "We may also need a variant that remembrs whole history (here, in reverse order, but it doesn't matter)"
   ]
  },
  {
   "cell_type": "code",
   "execution_count": 34,
   "metadata": {},
   "outputs": [],
   "source": [
    "runH :: Int -> (a -> RVar a) -> a -> RVar [a]\n",
    "runH n t x = runH' n t [x]\n",
    "\n",
    "runH' :: Int -> (a -> RVar a) -> [a] -> RVar [a]\n",
    "runH' 0 _ xs = return xs\n",
    "runH' _ _ [] = return []\n",
    "runH' n t h@(x:_) = do\n",
    "  next <- t x\n",
    "  runH' (n-1) t (next:h)"
   ]
  },
  {
   "cell_type": "markdown",
   "metadata": {},
   "source": [
    "## Random walk\n",
    "\n",
    "Now, we implement what we discussed:"
   ]
  },
  {
   "cell_type": "code",
   "execution_count": 35,
   "metadata": {},
   "outputs": [],
   "source": [
    "type State = (Int, Int)"
   ]
  },
  {
   "cell_type": "markdown",
   "metadata": {},
   "source": [
    "Randomly select one of 8 directions:"
   ]
  },
  {
   "cell_type": "code",
   "execution_count": 36,
   "metadata": {},
   "outputs": [],
   "source": [
    "jump :: State -> RVar State\n",
    "jump (x, y) = do\n",
    "    (dx, dy) <- randomElement [(0, 1), (1, 1), (1, 0), (1, -1), \n",
    "                               (0, -1), (-1, -1), (-1, 0), (-1, 1)]\n",
    "    return (x + dx, y + dy)"
   ]
  },
  {
   "cell_type": "code",
   "execution_count": 37,
   "metadata": {},
   "outputs": [],
   "source": [
    "path <- sample $ runH 10000 jump (0, 0)"
   ]
  },
  {
   "cell_type": "code",
   "execution_count": 38,
   "metadata": {},
   "outputs": [],
   "source": [
    "import Control.Arrow"
   ]
  },
  {
   "cell_type": "code",
   "execution_count": 39,
   "metadata": {},
   "outputs": [
    {
     "data": {
      "text/html": [
       "<style>/* Styles used for the Hoogle display in the pager */\n",
       ".hoogle-doc {\n",
       "display: block;\n",
       "padding-bottom: 1.3em;\n",
       "padding-left: 0.4em;\n",
       "}\n",
       ".hoogle-code {\n",
       "display: block;\n",
       "font-family: monospace;\n",
       "white-space: pre;\n",
       "}\n",
       ".hoogle-text {\n",
       "display: block;\n",
       "}\n",
       ".hoogle-name {\n",
       "color: green;\n",
       "font-weight: bold;\n",
       "}\n",
       ".hoogle-head {\n",
       "font-weight: bold;\n",
       "}\n",
       ".hoogle-sub {\n",
       "display: block;\n",
       "margin-left: 0.4em;\n",
       "}\n",
       ".hoogle-package {\n",
       "font-weight: bold;\n",
       "font-style: italic;\n",
       "}\n",
       ".hoogle-module {\n",
       "font-weight: bold;\n",
       "}\n",
       ".hoogle-class {\n",
       "font-weight: bold;\n",
       "}\n",
       ".get-type {\n",
       "color: green;\n",
       "font-weight: bold;\n",
       "font-family: monospace;\n",
       "display: block;\n",
       "white-space: pre-wrap;\n",
       "}\n",
       ".show-type {\n",
       "color: green;\n",
       "font-weight: bold;\n",
       "font-family: monospace;\n",
       "margin-left: 1em;\n",
       "}\n",
       ".mono {\n",
       "font-family: monospace;\n",
       "display: block;\n",
       "}\n",
       ".err-msg {\n",
       "color: red;\n",
       "font-style: italic;\n",
       "font-family: monospace;\n",
       "white-space: pre;\n",
       "display: block;\n",
       "}\n",
       "#unshowable {\n",
       "color: red;\n",
       "font-weight: bold;\n",
       "}\n",
       ".err-msg.in.collapse {\n",
       "padding-top: 0.7em;\n",
       "}\n",
       ".highlight-code {\n",
       "white-space: pre;\n",
       "font-family: monospace;\n",
       "}\n",
       ".suggestion-warning { \n",
       "font-weight: bold;\n",
       "color: rgb(200, 130, 0);\n",
       "}\n",
       ".suggestion-error { \n",
       "font-weight: bold;\n",
       "color: red;\n",
       "}\n",
       ".suggestion-name {\n",
       "font-weight: bold;\n",
       "}\n",
       "</style><img src=\"data:image/png;base64,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\">\n"
      ],
      "text/plain": [
       "<img src=\"data:image/png;base64,iVBORw0KGgoAAAANSUhEUgAAAeAAAAHgCAMAAABKCk6nAAADAFBMVEUAAAABAQECAgIDAwMEBAQFBQUGBgYHBwcICAgJCQkKCgoLCwsMDAwNDQ0ODg4PDw8QEBARERESEhITExMUFBQVFRUWFhYXFxcYGBgZGRkaGhobGxscHBwdHR0eHh4fHx8gICAhISEiIiIjIyMkJCQlJSUmJiYnJycoKCgpKSkqKiorKyssLCwtLS0uLi4vLy8wMDAxMTEyMjIzMzM0NDQ1NTU2NjY3Nzc4ODg5OTk6Ojo7Ozs8PDw9PT0+Pj4/Pz9AQEBBQUFCQkJDQ0NERERFRUVGRkZHR0dISEhJSUlKSkpLS0tMTExNTU1OTk5PT09QUFBRUVFSUlJTU1NUVFRVVVVWVlZXV1dYWFhZWVlaWlpbW1tcXFxdXV1eXl5fX19gYGBhYWFiYmJjY2NkZGRlZWVmZmZnZ2doaGhpaWlqampra2tsbGxtbW1ubm5vb29wcHBxcXFycnJzc3N0dHR1dXV2dnZ3d3d4eHh5eXl6enp7e3t8fHx9fX1+fn5/f3+AgICBgYGCgoKDg4OEhISFhYWGhoaHh4eIiIiJiYmKioqLi4uMjIyNjY2Ojo6Pj4+QkJCRkZGSkpKTk5OUlJSVlZWWlpaXl5eYmJiZmZmampqbm5ucnJydnZ2enp6fn5+goKChoaGioqKjo6OkpKSlpaWmpqanp6eoqKipqamqqqqrq6usrKytra2urq6vr6+wsLCxsbGysrKzs7O0tLS1tbW2tra3t7e4uLi5ubm6urq7u7u8vLy9vb2+vr6/v7/AwMDBwcHCwsLDw8PExMTFxcXGxsbHx8fIyMjJycnKysrLy8vMzMzNzc3Ozs7Pz8/Q0NDR0dHS0tLT09PU1NTV1dXW1tbX19fY2NjZ2dna2trb29vc3Nzd3d3e3t7f39/g4ODh4eHi4uLj4+Pk5OTl5eXm5ubn5+fo6Ojp6enq6urr6+vs7Ozt7e3u7u7v7+/w8PDx8fHy8vLz8/P09PT19fX29vb39/f4+Pj5+fn6+vr7+/v8/Pz9/f3+/v7////isF19AAAgAElEQVR4nOxdB1gTyd+OIvZe6SDSpENom06y9F5CFRCEoKiIikZs2I29ooZT7KfGXrBhx3IK9noqNuxKwEYn8+1sEggQiuXO+/PlfXjIZnd2drLv7pRfJQAFWjQIv7sBCvyzUBDcwqEguIVDQXALh4LgFg4FwS0cCoJbOBQEt3AoCG7hUBDcwqEguIVDQXALh4LgFg4FwS0cCoJbOBQEt3AoCG7hUBDcwqEguIVDQXALh4LgFg4FwS0cCoJbOBQEt3AoCG7hUBDcwqEguIVDQXALh4LgFg4FwS0cCoJbOBQEt3AoCG7hUBDcwqEguIVDQXALh4LgFg4FwS0cCoJbOBQEt3AoCG7hUBDcwqEguIVDQXALh4LgFg4FwS0cCoJbOBQEt3AoCG7hUBDcwqEguIVDQXALh4LgFg4FwS0cCoJbOBQEt3AoCG7h+AmCPwgU+A9gV/k/RfCOML4Cvx/kx/8YwWk/fq4CvwxDFAS3bCgIbuFQENzCoSC4hUNBcAuHguAWDgXBLRwKgls4FAS3cCgIbuFQEPzzyODxFot+dyMagoLgn4ddVpZtye9uRENQEPzzYADgqiC4BUNM8MusrBNFv7sp9aEg+KexSmc9mJ8MDnYaPY768Xc3ph4UBP8s1gWXhm8EU8aCHd6ll/57DCsI/klkBFWAyrDNYFIy2B5UfpFa8LsbVAe/guCqT1Vy9v7/ILhybAX2v8y6rGgAimP7r6h1a2jlzcm/oqJfQHDJVP02BCW91NK6B/5/ECyB6zvmqV9Y3Tp00KVxv6aqnyY4wunMx/KCC34xdQ/8/yKYduJXVrdu42r7/wrB3V7jH9961z3Q0gk+mC3dGoqi/dRQsiPKXPSL6t4xHsROw7eGUBnUyp+p6qcJtsjAP/ZY1T3Q0glO2yHz5TX5ZnIOEA1d+GvqFnGi3YvxrTsk130/VdVPE5yjahw0JMhMLafugf9XBINXJHfsDojilvyayg/2WyDeKHGyfP1TNf38LLoii8/jZ1XU7DjKweEQ8VMN+29jLYdDQTkcfMpcPK8M+5/fDz7iVTHfP4u+ch5cr35Y1uML6SPOnwPx96PU3Ygy8Pd20TjeC2W+fM7DER344636r2Nx52PLu3TbkBeyHnvHPEf5Ywyv7oL3YVWfv7uyQkY62X+T5IsTXEgf773xPhK0Blt++fXPy3v2U039aYIfMG4+t1dSpr6oeyAp+Mdb9R/Hstihi1wW8OnnK9ibSr13gS2B5enho+sNUs3F2Va7ywO2iredTtMLT7CWTUKeVYb/ge1l/Gxbf5pg+9GlviNLSse51T3QcgleE12V0Hlx2J8FtJzyAIcdYCcftVNd5fSjBN8l3aBeLvPbDbCK+APLzzn0WhCp/QQb+0JsUb4Bn7+h7Gca+9MEd34L9B4BUNSl7oGWSzA1uupUr3gd5MXpKaDsMhg/DPfy+uPrj9V2H3kBTvS4gBGcrMLnYy/yqEl8/nPsQEVwK9Q8ls+39GvcQbBx/DTBTotEcXwAtlnWPdByCWYsi61a3ebOHdK2Kdi3iSk/VdnfCDbGno7tOB1MmCTuj8dcxT8qw5ejJh7Yhu+yoIpGKmgCP03wS1sjn9YMeq8LdQ+0YILB4nBklVvxLZ0ReXmTg+GM8nmdImLF8JdKUFbceF2PEKwzBqc7jzSOnQAVy0VSgisj1hR39kGwSblvYUbIj0+kf8Es+samBSv21f8dLZbg7K4AhJ4H+z2+enf1jiJQOaochDC/dpkouO55S35Z4ryq0bryEPz+nyb49G5/a7sxuKy96EV/SHDV4CGgWJPDMQNg5gyw7c0Pt/afUxe2VIIv0q0ASLiLTYn6rrhGfoCQbjGuUmyiFtcqBOfW7yhXS73CVjZW11PkIf552kc7hGzhQs6hvIvQc8MIrhoSNQ4Uu+HWIqKRc36iuQqCvxN/0T4ycIKromK8S3OIfi9JmuS3rsVDltUqVuK5lppT5iMQNEbwM+Rv8cbpASHWWm6IJuXdK1KA7lUg4iy+Uk0wECXMb6SSJqAguDGQXoDAvz45voPbj1BUh4iiDjSUiRGcBjYqo529ynjKtgMIBkRlJtMIFz2t6klhDYIb+e3PlfnboWZGqObyhqp3u4/9q4rtjfYm0PoRrHWxijqoMfstEg1rw2KQUab2W2B26wP5a2n//B/+CQqCG4M+KZ9MpZhKZEm7vKqV3gkOG9PsmHFb6BQjMskAIeuXgMrINQDw7ay8PrlgBQpoRm8DtwAgWLmx4TkwfD2rhtjaMuM30ckDKWR9hHSWdWqMvaOt3SjsULE+5b0NiWz43v/PH/8JCoIbA+M2yRi1tRETvNezxjY24UYg08ks5ai1i4Ud3YRib1IC1zXpa8Muj93phhFcSD/v77oRKyhgBjS8imXg6okVTmaTM61cLO0YJmSHR0WOZCdz1sbpYzCC3a5QTWh2Fq6bf+InKAhuDJqofoejr7ucBYdQFHWXWSkkITRCa2a7Ng69CGZahGP3lR9gOysDAyp2a6N9MIJd9lTY9YQWPGZuDcmhQlC05wuwpAtqqMRs2wbpCSvqP7AfakvoyGi1EaQ4oEyLsiOE/c91e6Fo3g//BAXBTUEUN418c8HB2js/UMer7gDnVEZa9Q2mqTD95+HL2Q0Z5+mFoBQj2JIW3Bc3v2t4ksUo8VxEeomN2pHeKeiIRMt+IbR+TL8+5eNU9LhqG8GVcXnIvABHFTrU40zObqiWJqEguAlAJf4rUlQdgsHCLoMxgkP6xDBMPBDU6jMukNrAoWGsQoKpniaOTRCMeO0Ct0iv+YMqD3fa9HfvGKaxF8KyRpInjonpHI0RzEYefrJ0pmQzChUE/2M4CETD+3MnF+frHZLsKduNzaS43KFdBhF8uOGEwF4EhiHBlGLL9e1fAFYbf8w/D4QuoEo77VwnXIW6sUGzh54CsJnrrt4leWyXwZ36sXsSHA0I64+1UeHaerw29uBGEvy4thQTLXDWsRKMOf/DP0FBcGNgiBInZmU5PQMfv4l3lAdagwls3VAXrWFt24/s3DZara2HSUdL57ZaEW1zcvr22Ws89qvz0aoh2MoIX9ncIjUog3oBAGVAcNv1qTZGI3VpMaptvYw7xqYG6OwPMN7bZ/x6bVakdsYxizQoqtzv/uOuTwqCGwN99Azsf1S1yr0iaCNjMhck9v6SrpQ4mjCa0zHJS4/N8DRxTuoak06eP6pV0jDXTBFHKta6AwfZhsEY3ic8gy48T9j3pkOSj24Iw91MdNBtaFKrUXNIdwq6plTFQumJ7xa3JgTajUFBcGPoOBX+j5QSXBWSAfokg+1+W1haY5Xbcbu0Ga7RJsCyXcKCNjqcNt22jO93zKxNYlasd9ZlvPwD7fVZb/Gtc1lZl6SVfsrCcQMAssHgNr13ZOpzte1HqLdhW7QbMW842N/R/Fi/touz3Ha6u/lkXcEIZn3Lr8/wy2ZqJxUEN4b20MLqvEWIRFRRSjsH9oKdRmNzuo7h+SqNG8qc05fgZqqXdrCN2lzaCN5s5JkTIUx9KI9njpdPjeeFD4Bd9fgYHo8vqbPIcTpvAsGXRwI7jHQCCWNHEJSGt0Pn9CG4mxBW729TDhKcnxm0TuhmdauQgFrGA5D1FUyuNwY/1jjWvJ+gILgxID47wSVawR/hEnWdkH4e7PEqjVUPuAvSkuj7J3GmoMbeFc4W1CmJY3MAuNg+PqRvIhDLqDCCzwDBUNIrkDKxpsrPrFMAPPekX2Ts8i6N0fA7SRoa3y5+auwUZyNfCmpFLgdj4tvHcdqvfUnKoZm7iJ2C6s2inyAxR5v3ExQENwZGqdcs6DC4JqJAKISvcQFttkfJDeuI3peECzIOqvdOedIrkjmH5NHzzejep4QfvJO0ekdb3QWAJoQYf1C4fuVN8ujxNTV+QbNEQuGtyI/U3p4l16wH9Ta6taLfGPXekx/1GuzYxyW45zthglZSn76jHZ7fNO8Z5nQcP6sWwd+EwvvI33MUBP8CUG+UjHsPN9LaBlBxo/aPycVgPpvN6sq2VvLrYMzu1+5hYfeBNm3VWG07sTF0astiLwXZVmy2el9nAoPNPgNO9HxbXeFX2lpwnODecxb40OEcmMemExJKmG382hNc+rZ/LCAcvdVGnUno7NPaDlakGlRxqD9+2qbhNTFA/rJhs4Pvg13RzQsLoiC4Mbwm3ZJsLR9yeK7skdEz0jwMPKake1sjT21pdo8CzS9MmgBASspFuhBcgOInf09T1hlY9B6F8k5y1jcXp8Mg09k4FiPHknIVvCOTPQa6euh7sEw9iTZMc6qdqbcF3cPAfSN38nnzwIpshp34xJlJ0gtfoX4QbyyKbxbDCoIbxUvSbcnWEotaBIsSLSw8Lc1CP/g9QAYg1MMMdCuYMGkK1hlnM45AeRbwd3A2FxM8TEpKsdtBHkawhQtc9zDeko9TcuJt3GBF5s4O+nRYUX8KamrtbmGRAragjMN0odRsNnWs+DOX8l7ahPkJzWFYQXDjyCfdlWxNrUUwECVNB2naZV8tUT3C6Y8W6hSl7SBlAjxyugNix8J+vxm9FRk1sEMNqGV/iUfhUX1Qm0sgsyfTyLnkXmcH+/ZaqLo+q3c7tLOao5lT0cHueY/aqJMJ3VElCtimRFFTfgLipdebrIOi+nQrdQd7D+mueXSUMa2pH6AguAk8Rx6IN47MrX9w+ZAq8BTRIb38QPU0NN0p3lnq8pJkCqAmfxlYbLTykLl+oERjGGF1EvufOQ88H+CC7KW8o5Juxz8AK4xCcJXxE8Tmk6MmglUUZGQUbGroZa/FkvGTwKbim9zJb96Sr8s04El0U+1XENwUnknspuQRDJbEPUMeMG6T8sOMnM577cb3lVqRbkFNb/wisGzIDh+X3GFSnX/EHeZpMcEUc4+yHKpFPomBEeyvsRi/zt92rJNOAQOd/LX8/DT9nY0C3I47fam51ript00CXlGuyl5fQfAvwBMH3JnObUy9IzlHwPyed4Exh9pJ04fgF9n+Itxb2uYaQL6IEiaCnb5VadSvZ4eDjFF4+airRYzHYIM9J4zgbEDmOLTmuBGCOGTvksFhHI42k9PxQJW1ljehy6DWShGdCT6amhxzd5nLRXfy6K9e23/icmxTrVcQ3DQ+Qcvnzb16bKizP1dnChB2GyHSt3Xpdm8kJy9vAe4rXdptSNUR54RuxJep2kvRzw+Q59g+/ISHyNPyqmyGX7x2t7A8FfID+7y8UI0jeRVAhF1ghl+ejld017+Hd1MZ0b37ir3doozP5OWRay53H7l2xeRyrRY8Rpq0BFAQ3Dz8Rds6M7C26cw18i6MYL9Zo2iu5o7zsNEYbBAT7LKYI/IzcD1LihuudAYjteaUv5Fn2DLqUYfhkdzJjI1BFADijyCPJAenj6E5W9DmxyUNV05Y7TwzokcykIrEJOcW0C7WasGT6nMbhoLgZuEm9cORueX+03EvpA34iHqf/OacB3+JJd+ila0bQWM1/zMk+DOfn+YCFpin7m+7OIHQfkxfB5l37Ax/tA7t4wvd4b1CwVgtPlOJz6c9qHkLp7aycyVorkY7j24dvagTIUZjFQA2fP5aXFf4CHnyjYGLpI9WgdNYK16B1zpj+X811XIFwc3CggNwklW2G88WNysUiqafInlfBJtVW/uaqQvcW2vGtM6BBBeT4wVXsNEZbGyjEm+hOlZ5RU0lgrarx5t9yDcYtF6VuhN0ozCVBVGtH9wkSd5x0XANgcB8G6d1l9FKIwRzvQVblPjglMCHAo05oQtE6R1YLLVN3DZlfnJrw1dCQYbqyaZariC4WVhwUHYWnT4IMox1vmU+6Z56bMYf4U6jukbjBINPLDye0pZAr6SOb/YQRtWY7Oz2Yu+Dlu3zprlmlnjuodPtaJmuEbtIr/BRGogSZ2P9sdNRVuyoVonQJgsUO4etA5vYFQKfMqkLBAAzR9MjNP33U8bMJ7/56nykyZYrCG4WFizJXVFN8LPcuEio5XmAuI071cHboovNXwh9RScxwaDI8SwA2y0uOjqs8US2qFQTvM+jJML67RvyzcxuB0TXs407kxkdjc7699uXW3wPOZebO2oGHHCd9E6FG27qjREckXvBrSI4zvLSTbDNy2hrrnhJPGekyNo0sIP64RFHr5NdDtVraD0oCG4WLnOT2hpJdQZ0LnfCJ+yz3I3EVenjbEawYvZJedI355ODPfQqnNg/W9DG1JnwFIw+CK5ck1axuRisihVdvgGeHgXFBp6GBAeuzwCuZRx3tMu3A4RB3LVg/RBwjsJl9w6ozL4LrthxNbqc39yF60QoeqHWYYzPGryWP0TAjuvep08U4Wgxk/i+fkvrQkFw81DqExss1RlIZrYVbM6USRPem7vaMa0LYrW9T7GiIlmfwOzEAmumnZsZtQDqg2tj1ijJxksjP1uXw6LYpfEPADjkejiQ9Ap2xufpQqwzXhOJjQBXxs0c6mDFIuVQKHdI/pygLdVuioxbpNfj+wXt99xbrXhoBAqCm4Uyv+1H5uZIBP1igitC1p/THAe2+ZDVaR5pSISmwfENGVno9OGivR40dbKPmhyCwTSJzmBtIOLw1eloVbQmFITuH5B6g7wsoPwirQD3R0sbXAWuaI78pupBVae887W+NTk7Q7uaYDvSy/eUOE3dXbgnXFMtVxDcLBzfBm7aEIliNzIatJapDLMmYuhG0O1HOPFQeekXlfZEHR1i+6GiAwZE1Vb9dAldiSbKRGJE5VNa0XHzvPv2+LlziESlg6CYROzjBW50zKpCl8K9ISbErt5lIIJI1MEvsZpIbJcgqogred//LUglEk3aEq1bW3YgfzoaBMC4/A9mXeC1sYq4s5tquYLg7wcdPQEqI3Abq92OJgjFiIQYshA76uINGUviRJmu326TblAQE8ddIGkWNuO+TURYVxHETHL2hEnw/3l64RNEn3UqnpYOZ8YAmynjR7+5HMY/pdpecW8BXYTXOEQdR1A69u0jzZy+FYDxU8D64CaDOygI/n4wPjFPDMZ7zH0er00dKEZkxAh1sLsyhEqNqTrq/PUuKf8D1cH0lece0Yi5YDXdxgG9Xk3wZC78L+6MGUWOxLuh67CZ8e5qx8WvztAWZ2msRNcrGe9FCfPT7QdnOTjRoWHYhbCnfttTJoLN7KbDsygI/m58tQDC3iPBsUvgoFvxF2WL/oQBZgQVhLCtioRUPad9EbFeAPf9z9vTyW2fiRJoaDf7omMDH9+zxk/e2xZF54PL1I/A6z5wRm0Jhyqs2rBQGcfFL04oSqfAZdi9+BJARFFPuOgWDfavHNHaTq0HiuruAGGvSj3boazAZoTfURD8vfjmmimKm8XITtuR6QL9HfBIDSq2UVPRxEGRa3LFs6hrZF9Vq9iJcivI1BhaY5YhpA+XY3pTOQjruB/YqniXVltwbF+VzZjJEWEvPZ/0KuwVKPXa06zmKgj+ThS7H4D+aEJ6xBBnaHv+gXqlzEfgGqn5cFn3rMrwYWKCK9zNaJGqd+TWkBnSZ1LNt1k9L8opUxm67iFyz22Hb9llyVJoewRdCOYnEFmnwA0y6xUAJR77m9NeBcHfgeIULpe5F0ych21/NKJ8ecPlcs2cuI6W3P7q7N4hHx3PVgQlgyIBANEmToR+Yf1eyasls//rYX9Iv2zuHt3979rH90BP1Ipgq7wSd7DViYta4kbZOwZ+fD6Bq0OgcGeUXOsEF1fFzOa4pCkI/g7ku+XmYvcL9yc72XMHOBebpd0+MJeYm4sMGNI+BxQysis+fGK4AEDOZbfXHtq+3joYIrPbIVG1Ie3bXB75S63DG7xx5UPFe/xCD3Nzb+C7P7M2Iz7D4LXWes9pb4MdvUF+C5qGguDvQP6g6s0zjnMxgkcyDvgmzoGJsZKgsgEU0C5+RjMxghlzR/oldeTIJzhVVkdwivWp1tHNgeVi5UNd3FP6ozI0A86qIzUD9lI/3CbJ7R/qQkHwdyA/HP+4IBCkMwrTMIJbj1jvK0pQFwgsNQa3vgJeC1arUI+VWggEGiY77FyOdZ0mEOBReEXXsBdOWsuhQRmqaQIB1r+eFwj4Kn9ADaRYcX9MIJjvX35fME2vThDwvM/gneEIlfQ/degALDcMaP3yEoXUvMg7CoK/A2VoFvZ/kw+fny6EEd+hwr/tQVG8Hd9kJYdA/5uUtqTXYSDK4NuH8/lWIdd7d1iwGsZ2EI0w3whmTBBXUmBJGAPNBkhgg7neGlr3pFbx8zv0gebX04fw+RllV6h8cTBSGZxnfd7eanRvwyjdpSDNzCSIEFB+vZmRlRQEfw8+s06CrZKwOZDgKUDo4oKtmpa4XiRHJCj/VeyGK/CWxmLLWP+ErtFTWXhsh1GzygO2SERYQvqkYbhyl4F1xjNGcxLaxWewpsaS7ko0ETKW7TLIQtcObZv2sd8wsCaiMqS/15ymRVgSKAj+LnxiTvSThM1JW5G3fUTeNedbVkerYroZXohVGY667xdhR1dEQzGF/4DB3betof2dacaZDrUV6/OCp8Lw7tmZ8/AIler+5aUgtbvG0O6qWadTXyBJI+B6+JrcmVNx3qqevRcgcROo3PDKU+Y+3V+tC21mfFIFwd+HomkSmeI3qgPbkcDs1dFGt9fxKpu+dALq1cqmeMR4IJqLWwP082ERGL7Kfmy2IexNyzy0HDpOL6K7lgXNAznRAMwtAyM3vjBkuxNopVEWBc/m4/KOZHnW1+Awmx1o+y2m18tFrS+f7cG2J8yUWJU0DQXBP4Zvrj5YF+1qOPiJNest66Sr/0Cn895+vtp+En3gQ8TuMd31BG6IKZ7vlrpZ/D1c79QqLb954HkkXqjc1+zONxdvPy0/N3qh+LzK8D/kXg+Agzp+jib+ZvYU4hOExOaB1ZHyEgrWg4LgH0Kx+344Bht5MXawkEefmNoOHkZmOzYMZJuJCX6M5PnbZqeaiE2pb5JfQx8Y5y2o79zIYONqgl+TXDPcDq4YGGSSes5Rknu4IiRD/iUnBVgYuJE1aWQd5O+wl8MWSEaCpqAg+IeQslkUmQXu6DJVCNa2/fPyel6qYHPAARKInw1EgR+B26Ei4hmQ2hnVZ6DGq0GGBwB+gmLiFFFwB7SDPmpk9fUGBXXooeWgbIoauoDwHo4qeCq7j+j5CicZY+fHdDzjJYUPpo4DowiIJsF8YGsiqvJKNJKFGmY2o6UKgn8ICXeTZsHPU8z9zE/mCO0C1t+yN4FJXlDBc4EufIbQTwGQauE9CuyCGgMaTJ11O8Imk2fuYz7vkOtOR9Krd5SjFNYebE5m7h2xygWFRnUFtEzaxTE13kdSy/bKcO/RQGBtjFK1KSRjAMKaJePAoSD4h5Dgg/ttnsU61hOoOc0OrlvLA7Zu08MVSNmMfKYNRk2q14C1ez1LsJkxFEDlkxzuO7t4DfBycf5618r1BSWnzMvyOkaw54C5p43hiFpIPw8+0hjVBFfHkwYz9TJ2e12lWfiYOJCt/3WC5ecPbtEEJ3aB8RrYMMwgOKZsRNSFAqsysrJPJ2c2e3zl4XZ69mpstjGn3NGtuJD8Bmiw2UPBc93XXxBlP2WDL/ftX+zVuAyGb39tz2ZbMcr92zn3wZ4YJyN2+MsPZtKoAqKBUB1VNfUJ2DK0PMijJMvg7TKCpUlbNlvrHViHN4C9qeE2ivHP5Q9u0QSXCYULMoRCsciDKhSy7F8CsKvfyiyt4ULhmjAXvYKgxULh+DOZrt+wVxuAz0IhFd/gCXaq9E41jcS/YH/xuufmq87R5gqFJQB8+eA1hfSqRou/JqISVMX0tH42ORtUVd40GP6WTBYKT9k+KQKrogqEQuFF63r5yOrin8sf3KIJBrLJKaGy4Qrp9V7PNYnkTGwWXWzpTImHmWZTU5xrwpWJjW9445nbYjoPjZTujT9BShjadmgq/gUaet0kywQ/TBtcGbfE9xISmQ2j5h1nU67CWrCBgY+vgvEIqE3gn8sf3HIJ3sPjzf9YQ3CVMY9nMCtMx714Y6tRI0eAEo99K1vx4JEJFBlNoJjgGW1SognR3WsIHptAUBrWFuXxjoGqwTBy6TUyj8eTxo1YamDCMy682zcbPHHIv0Ng87BatvE89cMgvy/tnzTd2H8uf3DLJZielbWNViAlWBTrYX/cNjMrqxgUZGWt6rgbOvobQWn0CdkIDGKCz3efk94xbne/aoLzsrIO6aVlISm7AvEQphhGr8o6LIn9IhqumpV1SgSeF4MPlKtlrglZ2H5yViQbl0QX0eQZg9TBP5c/uOUSDKm6QJ8lJhhGapiZ5CI1msuN6QrNJhmLOaLTzE91z7pI465GlkxhZUTKHsEWQ0WOu/yluYfhMkkc+0XsjybBW/J1rG+AFW2SGlN+pNb2B5eHfyB/8GtxsE1//6bP/R+DSLw6wW96dk8xwQme2G91altNcMcMp2OwyHx/qWxKAuysy1rbYzuumN12/FZZggu/PkYO7lRtJ80ejq+D8dgvY2bUOIB/ydqktftA/4MAWBkcPocvW74VvKfkNtXmX7QOviQziT7HxWHr2sxz/3fwUmzRgd/0d/Y4gZVT8B87Q2oZWXAURisEw1YDlzoK2zGLwCFuOKFNTBtCWHdZceTKXSWO5PG95km/78OtYc+MA+OmgvWDpXt3OI/tRPDSaHd4O8p1Uo+D1zuonx/+zy+TxOhVX/3cArvo/BqC31NyTrEaSAb9iXWqclC6f0HtvTCq0itSREznmEE9UmUPrNjiNTI1UcYHBQ/Kc2UcjJvEru4Zt68IT/LRira1pZXmUN4vHIoxfCCi+4wm2/zTBHdSgiC0Vqp7oEUTjI9+WegX+eWKHM9UhvarQzCoip5JvsnTnqCtmiS7FAIrNASnVWsxlRFaCa6ocqttCyC2q625oxqD9PZEl5HfYcut4SJwQHV003Z3P03wPYSd9+FDj5v1HBlbGMGiRCVKdytUQ0nPqBVqozQc7jZ/UUUAACAASURBVDu+r16xOw5wZlUYjKJ96xIMqujdUT1lljKBQjF+d7yDPtpdlajUBTU0R9sN+FZTjN8RdQyvnESwR+OlKXlm2jCVbMrfdLFR6YHqEbbBXbNHgQPGpaeGNtXun++iK5cYHvp/0EWPnrHbOrzyNPM+CTEqpGdzFssvlkuSdtx1u2gAhULpPNQCpXs/JNqxBpLu0Fxsz8cuW7EzZeIhmaj9opFzwWpLlITWjACTzw1ZhnXc2bZu9FskYyZurDl9zAGG74N/JRDaY8fwLi2d4HGpIIPmk+VYlIcgAxzPAemitS5yx0o7bnkEPw21tWfYz9tBNiNTyS8QPQblWFW0vT22sNrvUeOdJEqYP5fuMO6YU7UYbLLDYthxH6Q46pJeMgoZePjoqfYL/yT9O5HuqvjB9R2RWxTB+7zAVc+KKQQbVNXItONpABP82kBNLWkuxhsVdbwJ1jiitCyweQo4asCgDgIltvUG6HIHCoPgC8ZqoL0JNtodaZZtMgrVTlRZ4jYCe2RGYRGixOriWbXUCEXd8KweczqhNCraneCg0caK1uPpW/UyMNkO7a6B9iKXA18a6txwyxXqwmahImjjkbkXaWmB5RdprBP4rsqINQBchWEdrsLYObeTYRCWw9AfLdOZkgsTCNdBeaD2i5T+elsy+0fSV/og6nQhFfFfwoxOqne1xf11Y436B5New7w8UBRc4rln+6oT6KIAhF5A00C8/gTcif5/HugfZaYdXJGNvdINt1xBcPNQHhAVQP2IrWAKqfY15lMS75Ec6od8kgdGcJjYH43oWOS7o24NFUEbImLG8/b7RwWqjXtu7EM7x7AKMnw8VaWe+8Oy2LWhfUI9dfGY7jfwGXex+6AQ5qeHBqGW9AtUL9P8iSmgzDcyUDU0el1o5RlHYsMNVxDcNHZwOJwrZV6m7/MTOLo9zG3sqs2n7CQeCH9RP8LM7JtwN6OPFvbGvesnhB2qy9HvzrE/WuZI8O9udG9tHw6x1cpHpsOEdFyz8GY4R4LQjrH0ViHtCe4qI3FDWqt3IIsT0ZoQzHHIW9o5G1ivv2MI7XtK6fofRxlydBw51h0bbryC4KYRdTD3EjXnyNxXpMjA3NwcaiepkLmyepi9SCv4VAVK4ERJSN97yUpOQtjnuexOavuvlueqd4pRjQTALjf3AbZkFoEVMM70W3Jmbm6a1aW9eqFsw21XkGFGAeH9O8Hem9vJ/v3ktUs7d+IYPMIWYNI/GNzfY+8Tr9zcRQ6kFfUvJ4WC4KYBM5+9o8weRb4pSpwjGrqAcaK+DOu81O4VehgGbZRXzdyRgw6RX18jrx/aLjFSJswoJFgiVF4fXDG2+8c85HFO680fuiW6TRsLJqb4HqMOnUdfPUKJX6u6XMr7Yvel2CxaREEaMa9UENwYtvP52N2PmsNPf/fWuNd1qL9DiHxDcNxJNpkgHhD0HAMPVMq3G8T3l2v4Oj9BFPHiOkJ+k9n7kpMDn2/A52/HD6zYAb3I4dZVsBZRDbHjj9NCrjLMQvuZ8k2R8cBrSXSrdnPiVHPQ03j5CyJwhc9fAYf/byzsSUlYtCxe3gXFUBDcGKIpDl0BuAxv521xqHWRCR8j+CRLNtecBr7CuYrzO8lplZpc03UYNudGOZht8i5zTonn7DUDtPl8I/zI36RbVpPxLeylPs6PbNVxYWTGJ8dFq1RbOfP7TtzhyY9tNY7Pf/TVGY88uqB1Egibx1+LR2X75nIEUMHKRsKCKwhuDJUOVJp461hriREyRgLjTG1NL11GU5CbFLlGXk3SsDm8GZSNM7El1KhZjOpe+mzrkanSusEF+uB56LKVrJOVg5ax/Lcx/AxKcymc7OoAS4s59Glja6wqvzodY6xpzMdBQXBjWBUV1jcv7yk0WF4jiZVBysuzYxTWKsUQDZ8HwOcqUFoKcrvIzQi90vlRHo7xGdt6dp6bN2YaEBP8SYSN2mu0U/FS5Ly8YyY5MQdWde2TVRWZfNetzKe7rX88+e3kbJiSBxZZNqSKmhfR+VJenljP9Okz2lWaeE8uFAQ3hqWVFWxdju84If1CuYs4G6Qex67bgtqlGDBN+EvrIVWb6F9i5MsOkzkc2gBmt56BndtHuxECe3T+e0PHk9lM8MQ0UbQqHVyFCiKwgwpXSR4Ef84Q8peYEI6aG9hJGEjtNgHsHvTVQ6zYIFaBwXqOhEEB3XB7rGT1hytaZTX2ExQEN4Fy9maQrJFdESzJ2MC4RHs/qPZ8FqZYidS/tSRufZBK8NgGK/IyfTpa88KmoP1+msF0U29rsoPwGfL3jNFwFp2D9Q+7vKHVxEuSKzbY71eZB5ZEuh1yJTpZvRzBA0tVdlZfq8zDjHpbbI7FjXA08bGC8YsbhILgplDuz3cMmxS6TvLVAKOiMmytbAnspr8h+68AC/T0Io0bJPgx4pHOCE0F6w30Qi36eyCaNMafyH0AUvUgd3/RMvBgaK/JN8dcxXqEKI+FMV81nL9akVwOiIbO9RkcUyW91iPEXccSD7AzacKT/p4ISaJ8kA8FwU2iLOoUmFzNaA+4KKqIlx2FiWaoyvIq9/sguT/ajddQNSMpjrq9UfV+qGEEmEyw1VH9UBiAy7Bm4mRdDMcn5jOvg1VPwBmKaLcyeQDBwrS1npWSLks1EizFrXSA9Ssw/nFpxDm4nZoMnhDsyN1RE2VD1KUB8xIFwd8JE9ksKmI8RR66Uk/iyoY/Gp3wlHrt5tnMyZy32yuTSiE1dpUZo4GAzjpFRs6TKIbko5NtlwPcSkfsiVpdBhvDnb4w8kkDaA0m51AQ/J1gyAly9AQxfetIwQh2Cmk8dEaJBzMzwYXpUXLdBqU0WnLquNPWfnftqY/pdhb5TrSzg9PAPDzH7HWplc4cKKl+En3U2Zh0myGRlMiBguDvhCe4Zl5v52OVkkLbW2BbYFOhUYppa0QehsXfKK+PNKLig4hsY9u7jbFOp7PPdBj2hOzKCEe00woAglFdca4sAUd0C0XJqGh9q4vFVjBipvx6FAR/L0q9d9bf6VpSf59c8LSmaPZb2nS58wP6DYdJxKnQ0W1Mv2xQGbpAiHX/AtZbsRBtzlFwYKbwer9o8gJ3z724XbzcihQEfyfKfLfL2dt8gmM7xvJiGtH+iHGRdjQ5ORWIhVtzEidl4ykE4JFtkig/kOCF4ImHbkgJGZHMv+XV9DsJ3lMOjtc3XPpvozzgT7CBx5tXxx6HVs97tgGktk1q6zanzypQtreRUrdpH3OGg9GLsBk6jzdUbS4edrQiCA8gvMWdx5svBHP3gh2LwFMC20hXsNsHHnhVncxaFr+T4E1BFWFIYVOl/lOAYo+Jo7Oi/WpPlmePaqB8XZxgZWVlkVKywtICbBoptm4jKPPaXewGAN/sKPQDwp+fcrEzsJXRka30wmfIQSQfVJ3KyroJLQIhapJZy+C3dtEZIUHb6njw/LcB5VlTx4Ft/mW1dvNGNCfZOgaxP9on5pkStSGNTbIwgrEZ9zaMYDwDS20wMkIqzjoWHSFI09qlSAOPv4CCkzr49wkufAfKToj907LC2rw6xTyeldWcuLj/AVSFDMrijgE79TJPyE6XFw0T3cV+DD4Mlzbmcp/NKHoD5RGFDKfQgU28wdiM2wUSDJYPltZdJnb3ZgBstX2ajhxDnoHKk1lZyVwgzXv3rDoDXjX+fYK3GzzzRng8RwYvdCAvKbLqRLdJvFvyi/7XkE/w4WUAsJvHc5DtDGNXZbabxZsIRY2lrg2KKjFEhFRewqMHC639eEjD5d6S8bTy38RRh11TeTxolVzug7tTwHnXmohH6vuL6FfAExsebz0ADmJ9MvjKOle3rn+f4G1DOnJG4BHpRQnzwcroKhkD7/848t3pEpfrBFmCK50tqRi5O71Ly3y4jRI8MbJKbBdfQLvUcBddxynUVzxNKQ9MqSYYTOsWtZN5qjrFOwOfcVfn5JHFbyC431QDjGBQ7La3IGQRWBZbdcTlm/yi/zXkBz2yEcsEaxF83Cm4VwkoF6729tuW2yjBL6qf5w9Ue2xIl1uqllTqm1Do/hQuiD8Gb7hTTfBz66F91ATYuvhJmFBYDHeNniEUvnOTk6zyXye4kp0BcrfibY9ns4NLwZo8sFq+G8h/Dp+D2Ww8PlZtgp2OVEyoBCmor/IW0DjBC74aZFW5425N7+eAW6i8QtjLLfPN25CNqOABkzaD9wgeaTj4MMhgs83a+bc9DAqD2P2jwA0VIJqJFZGXjPTfJlhusM0DC+vv+2+jFsEFeMedfAkaUzZOsLspmsnxkLh63yG9lFNGSL8g+xX3RJWqKsXJKL/CEAJgjpshLhA75FZ8i2QGGsS/THBV5Go5e//HCQYfoTInmQiNKRsn2N7J0mpBppjge4i8mO31dLvQDFdqbAAu0aBgCIYQAHOs3OHi7LDLN+xB+e+4rqyPlLPzf4/gckepRukbPn/9YDzQqltHmDDSdH4jp6XsqYydD+aEibKsicRe9cLWQIzWIlpJvZrKA+CaCpoLuUqfpwsB8P8nVyJxQB9i7yTwVa3gnro+sVfD1/yXCS73r+/T8b9HsIxlu9AP/3C19zYw2d2sk9ONDAOh4XyO3Nj9AHqaSaSYxVrSGffk6te61rs6bSzY4YaQ6uytjX97DC6r75X1P0ewbEhnKcGBhs7Zno2Jl6VYF3rAWycRbl1uKL1zsbs4p1mx21HJjNtNPsFgyviHZl7U/xTBoNSrzlr8zCWQ4cDhCJqs8Pp6mS8b5CvHfi0KZkkXMjvxO/xErOdLXFRT5CFG8BQOR3PmGxW/iPaXwC0Oh5PeSJVHXCuO2hRO5oKi1SDbugFVS7ErPh9+4QFwd1TwXgN/dArjORxVDkcmLx6Y0NlZzw5UWDZ8wd+wDq4zzfpIW67WdVbeJ/mla3CDHF6jZVvZrf+NRsr+GhTSkyUWOFv96OehIHAYnhrnIq2amFc2GMH6dm5dkend9q3snnGHdOOScQOqdxzYiFqJLVxTkpmnKsOT6UL5pXCJxTvyNQATnAKwOhRuYg9YXl7eA5LsIPckMC/vQ2Von4Yv+PsJBgeURsyR13HXxi3Sq5op+JrI8btJ/7R8s8jxHB7vFYDtfmUFtItQlM+VZncWF3lDPo0RTHc1dxzRI2K2c9o4JL9h4xkx8Bk3+KIZCX/NOUYDqhZsKfSegs/C9nuU/BFe+YYseZ6hOksGUJJVOSj9v9RFg23hfL74GT/I5//xDVzqPVo5cHmfAw3Vc4LPTy8ULxorB03k87FHYaPaKteLL0l1knvefAPe3gWf5U5Ovwt3+Xz+PVDiEMY/iCtzdvqUwsBJ9nAqC2WCx/kRtliRV+Ct8dAllnx+D6IrQX0wodOiwa0n8Rs2f5PgA3UZn48eG2MFXSDqOMHU4DNqJwlTuIcIM+i8Iq3EfZ/8NtQqBgmOofKNGjb1+/cJfi/4Q0WcNvOsQEBxOkvdIdhhnLKywWgizB2CdMYlBKYaApV7BIJ+Y8EuzS2CryAfuSdb7i8S+c3ePudpjThiNRM3VVdsJ98s2ykQDF4Elg/ZJc7O/VF8p0bPAHRBDEMgiN3x3rz1UNXW/gJjgSdFK7b13NltEgQCOSrZOvgg2NC77W4RFW4fojQUTe1z9Y+7hk8E3gjWdms9uD+1dqkK7CE3FzjSohr0TvoN+uDPrFPV22Gj2kH92hvyvoYJxtqe0frWI0QSO5eBzVD+xCOE4fEcpcihfrhG5g9vM+rnCYaut6/w/kEUuxTEqMl6EgLRyDmMozBSQ9oq6qK4TqM8A7Yy1oVWcrtFb0dSG0iYUgfFbmlBHvtgt3rE5dvxhqKp1cVn1vJBvRLldMaMJXGihjOw/MsECyvAFwovtxqu6hzXUlCae0C1muC32G5ZCyeM4Ef6I0h4jjjwHi4JUsbnJgXAx/opcjI3V6yAxaOh5Kp1TFD5BQRDmWA+Cb5CVdFxbrOGiUBRjUmOKKEjzkla55V/dElzcLxo3hUGQlnWSf/xhmYRXOKx77lHtrEtALje4ahzs5RpX5yO3+kYbkCvf6RPTNV7sHRIndsmxb9LcL5NUBHNZVz3XgG6BDq3j7GHAZfLzQdPsf+ItG+L43BZMu63ZzvxQBaX6/pnhVf/56ld/9o2CPzVdjSXi0sJ8rATKdAz57oB1LQUk1lc7sEfb3I1ihkXQQ7uVV214huYO0K0yKXm5onicW/RS52GdlB/+d7UxZzw54UuE5/2PQnuyDOKqocjk0QjTblG1tizimdasXvQ5CkYBDwg1ArQpdc/wq8CY5aDoB5DWtUPvPcvE/yKdHtVz/BVsUsfDwi3YpyjepnUZA+pNjeJfQSWDq4OC3aeTuRAMUj6xvA4H61wxMqpLIeKyI5bUHp7k/wa67hLPKOX/Hh7ZYBLGv7mVH+fNWpBtLfMOxyLr4f39RzkR3r1ztzVlmltF67j1dzZXea80ZzIP8JpYvmEkN6cPN7YTH4V9jzrhcufL1cNTosL7xuyR86hf5Pg1+SbxW4JOtrYzCUEoQvp6iQ/mWi40hwykOA9u8UTG7jkZFbCSNnpOmsuaQ+yUfOgrKe886o1MRHSM2DuuBSu9669v4TgEk94p2QIBtO0D+7wrbHDqorGVuSVoQn6U26Q07zI6lR3Vdtw7WYTrJ36XDOkQuwfXMSoZ4MhH5Dg5cEIXf7Ryggtkzjt301wyDwgIFq3tiR2NCQSVZ5daNVXT0kmQp44C1SReSei5jCw8xDYNpBIdP/4Qq0nkUi0amVFJI4X5RJ0iSqqugRZgt2IRHGkzHGBIEGT2KmO8+4PYP5qMGZQ5Ts7rGItoh6+K06PSBQb0DhoQJ1C39WV4bpEIlpyyar0IEGtP8HKmNA4wQ8QAIaZwXP1COZmveAGsQcAC0c3p0ULromGaBGNexXxCdoacm19KkM7EYny4r//mwT7MPYBUeIcsfRAD0GuUklmshmeHiN54BMzK2T9UnIyNuj4wFcmn3TZ6Xh1ZMgvRuS3r8nIwDpLC0m/NYZMXrK+Ce+g5mDaqbHT0sPFaU2eiuteUD2yP8Xt2hIoJBK2IN/l/cbvGtmQhBgK3WwaJfghYgotOuBmpkNQXqS03XU8URvA5OxE8ipwx5rEwm6b/EwrDeU8/FcJfuN2AFtGij3wDBDSbbqDZa0UXg+Rm6yToCKIumfSBHEnDY25P7OypOkMvnhepdyhOJjIJzjFhk5l/zy/YBpjCpAk93wAeQGyBIM82NEkMGxpUPi2g2VKfmNNdhjotD+5MYKxZ5dRTfC8DMdqgqUOC41jMmMG1kXfsbV31kcaSu3eQPCmf43gRBTtwyC1ngZyw3AOOhrrt9ayUpJVqASiRq3XA6hTPAJS3PBplh90x/hEwqMiH0sFJWqobuvD+ZqOKPoKbBBHO0ksBuKAc5MDRHHu5eDnMR+XR66Mrnoa+/WeFk7KCqk70csJ4LEtimp0ZbSaA7/PIVig7QaYEpaAZHkuLRCFTiiqMhDVBJU0PDLOSQ5IoVbme6GoFvxaYX2t0daUJZSAmeHgwAbwmGCnSjDW15eb1y4NpSvJE97+PsP3T0zVWoHPsQf6q3MaIs+uuAgGKchCU5KhKHcN9aPXZ5jOIBhPMwT2eZTYQJfK1CT3A79mkiXBsnAkDbeXADUeZ69JdtKjGlqba8xuXG3/TtY/Kb8esJgjUnVl6VZKIj+IEhMovOBqQeuSuEat5ssDVAvBV+ejcHvhUBED3rbXcsrF1bOIFuO3EfyZdZJxvXZEejvXTHBXbg9USD9/kvUZTJ4gpF/EZtaUEZPAJnY5Hu8VgN1eyFXKu5lJ4Jsr51cSnD8gTHQQWjxJ4r0CKHG7IRkO0gav2OL/533p8+h6D/E76VgvrKgEC4bZ2FPtolZJvl7rPfm1YYBE9LQ8ptEswFjHC81mv2ATEQAD+RNZJ+reNjH+cwTTyVwjcJUi47RV3BUqHMTpsuuigMb89JjLVdWCetnzbbngIBRWVgauBZ+ncq07cl1Ueo/n3vuKzPzx9tbC4zPgJenO/Algvy+4QeJyubeK0VFc7kA3rgN+fFvXZOd1Ze42zwrEA59ryWONnEIGrvL5lAEqa6sEwPT2R/cqG3An4sQ8I7+KVnHXH4ITu2Vw1dm8RhoyOB345YND3ITOY2B2F20CmavFdTWp7+vGaaCj/20E375CVquVJ7XEwx7/vFGn4xYjfUsecio3d3QqwC1VQAo0ZHyBeKehtldInSyC2muObK+9g4we//EGy2J3jy1QHSleq77KnUUj7dAakXu4faiZuKu+o7d/gsqOAVMK6cF4HmHXEoCHcACwawpLiehfq7ZvWNcEdpldOIRb6ZQI31H8B+fO5sCuOf7BSVZjwmijoIrzjLXuhtuvOCyUiHcHml28Vr9XvyW34/6NBIviljBkCS712i3p/a7J64HSZ4ndbkbPBDNhDFZIMPaOFfVIYgxZxgjX9ktqPzSJcAbr+H+8xTLYPUIJdqiSaHTHnb6cICTNBfmBGlGSArdIk5MISSMdz4lGwLArNQRjnWmVqXstgVOxG64L3eFbJrZ7/UC9UhW9Euu4MZri+Q0pDMVgZIRWTuv0DpuFV4tEGHV938SQ23H/xvzBwxcARCCgSE2DK3wF8F7iwtxcSv0EAenqYomtaKSz2Q6BQOB7Abw2nCJghmspsQTahj5KfWKVDLORrWtVmikZahy7e59yPI+NI/jfCZV1W5Bs/bngRdvNg1MFgiMicFcwSUk5sYNSguCGaFiKQGC5VeCVA9avAyXYdGjI8rEa2ApLqqMtc44QYI/jLfCnr2CMZSEotBgrEGzXSwdzYwUC1KEBlX+JuONmgD+YHoeZgtk6T4X0SwDchS3aElhnsXAJuyOCCSb1b9tvzB8c+CcQ8HiW0qgWpdgMhQE2mI7BtvMc6k+08qSJ7UWmPAxhuk6PjfynddMPnEugWHbiuZJ4PGfbx2aeM7rLk7h/N3ZrPrnDASBkI5jJPW3dI1LrSaH13Ar2JlC5hseLT7xI5fFm94rr1j+0t+WhWWE8OmFWsEnRKxLpZe5I7KcA0H8W8JcG3Plm7cdT3sw3mXiSwYvRfgMyCZFdrXm83WBTaw3ewgaMdkARBR9UGeCg8nvwF483F3l+fTgAbf4E5pPFqbNkQOH5EJJ58+R10r8tf7DYvDJsZqjkNhQyshmb2eVTxktkRQ0C9n7YzHaT8rDlnnveUy6TrZnUE1CBN3OY8rD5cs1yvx+7RyDHOXCNsgUM0iqa1/FBkePEWdUiiXgV+K6cVv7zRbeJX418RPs8GJfIb9+Qb94iHRwLSl2wt2wEz3+WVAv/kfYXyY5WGabzCVdqZ8Z2HAYFHVsDyNMaMZMXW+kwDrs4ie2D7iFHMIJJvjsYY6fhqbNk78kFeuA/NYv+4fzBpd7bhcLAV+mDYCprobBUSO/h/O4zSBmBNK4+owmFV0kv39tP7N0zXSh8YN3Ni9HL4RnW0c1Undi3F26xJG+I+j7sXnZ/IFQ2lPlNpicmWiezaXt29pQKFXOo47AV+VfnBdTIVCQ5iDTVrdjV4u4T21PCyusDxATTCsJ6FFRr4T9Qu7uzpjBGjrLOEVaBzB5j9TGCt6NvKWAyV+7lK7EbUvaadEUoHEjKdy8EZXBSdcdgiFDIKPXWFEbPAn+EY7et+jUm2TyO/KcI/vH8wSUj2PYdZhcNUA4gE9zcY8FHFbYpNpFecq/x05LZRN0XYDLTp3Urz04EmmoHC7Zlf/sO8wtpbD9lK6g830ZrstVNoCKQ9fUubgdYllrwTI/NNqewqdVqAeY7EPA34C8HOzULplDZAwgHbmv0Y3ToEBjgVRI+8N2a0eCkNZsdVlodQxgsI5gbE4VPOnuwzY6DTHN2d4NnQJfNVsWOyJtilXgGBHYwfT+bYM02H8COLCug4VOVkwSqGh1kddBha70Do5R9lKuXDDEa7PAG+vrfmj/4KfI3x8DNP3qfh9PtaKyjadDYvxbwSGQpZwN8vfv7OpoGvCDdKna2ehhreKYybB30RN3h+7MEV4RkZLpKXVpxRfWCg+DIXOlhBu6blLYDnHM2iqo66mxJt30WYnxlRhLYqePLMg6urM4cDKOAA9gZmzmQC54hpBeAdxhkzps78j7ynNGgvTpMyZMUgBr7WSL3oKeZ1B/tDsPUD+uMX3nsxxYfc3y1awJTyw/9g+MfyB8sQdMEP0MefEa9jI8tM1l42BojWA8PqtsUHuKxBFPMNm819rMwcqW8f0k6hLC2s7wWQVHgIddN3qVNxBhrCriG54Ak2Zw4skkDBBt7MHY6fTFHGHtobhkgdew4f/OBbtS9Ncaw8xNEuNWtDpV8ELkfISbYGNt5j9SgxwmcnYyZdmWgG+L2HHnwBd0p9Ue7Y+hC1qQVYMsuPYxgk8AhNYsXucG7cPyCZZIQPqWVNVqDXSgOLWajZwWhqLYu2n9ahZ4V2n4hODQd3FCWCGNESbj/3dF59U46gy2BLWHHVOHcFTW1BSMJJEvzDxcIujaEQ1XD1oD5uqxe/WjooGa0GjxkA2FgfYHBWEeUgrsmbNVD0Qhsto+ngtxCQknV0ikGKKW/gAQv7OGo0u4lUD+dp6xOaT0QbaOEduvGUCfKRA4aP1IkaINYtUfsuwu+ORSAjSRUIxgfUXuhDr3QGjji0UQ/OleW+3RHiSqorlPFMjdwUh0ld8L92W6gKA2rSAkOYN98hWDOLCjjrr5OKVWuCuJXZB81aaV7EOtt65Vs+g1+gdwLs3U3PbbIDBrl3CIdEcuwRCPnJMyXm7w128ETACskD1SGmlhs2GrmbTnQv1Sbiugijvpwlb/AzMzTvbjuWfLxGLGWa03Blo4S0KKDITf6FKPMRwAwgteaTzljP4D12RyhHaC7GFv4mJn5WIyV8XvAIDDz8tqMUmhQLMPEHVKWmokfXEbtSA0f9LDfK6TrfAs0tvxz3cbNFuMuIG74y8pERgAAIABJREFUgsLXXirj3uFbpi11aJpzFIhFJRL8Y7Jo2pSys+q5P0QweI44eBu5+MbuXyjWy1zD++ikWUDEWSwn/fIF+guMYMZD5PGg9JRzbG9PPe/EzQGm9hQLJ2s7jOAlnD3uBiObvCqOJ8gje+ZpOQfqEiwn+hTdD77Vad4hp5wYT/2OO1nQ7J4EmTK9B3h5DfB2pNYSNwg89MdcN/emQ4cjK2h1tiL6oJhgq9ouEB8Cjzq/ZGQ7BWwYc8nXy8v/ApP20hJfUPg+rfYZ/tOfcUny/ECCwdyR1Qz/YwR3wHjYZ1P5QwSDpxo9XQjYLNqCze5LZrPZZqbvwdhubPa9Km9aPQnPC/LHYnU22wLc6zoDDL5YTm7l1UmfrUawGkjQdSB4sT2HVO01/jq8GYEgseHf4P5njfpSzRQ2W8Obzc4GR9lsVy/wrh+bPRw81y8GWVjjqos7arCDboIpSn6OBNRHna1HOHSrc/oHk47erWxLI/q9fymblWMPqzilPU0Davt1SKqfoR2BxAG8v9QFYhseocFbgz2gvRG733wQmllq41l2zfxDMYEIj6j7otXJXTeblF+wYrNDvoJEfMSo8YPzdMNum5xf+tMEG2D9jsh34o8RDMIMcqbshsvg62H4atiemtjz6lI2TLhYr+ylCQB8Egq/VsWkIBN7Xjyg0itZu2esVXcPuo5Q6Pe3EJsL7O09U65CuS5eEHtEO8nRS1g6PLtldS2fznN+c544chR1qgu2Mh8zHesM++2qWXVeJT54RJrlj27J7DlVuCgQme4a0aMEJGuO7913zoCe3Fp9elUFuBfzNzEXD6cS9CJ9UCWQECxdrG8O/Ij98GsDvYXCvdRXDIfx8eQ50ISzDBSjQimq6+sRXEEviOz5ak0vzTOSBQUO7iThUrmxbn+a4L2dKe/AByuLHyT4LBKLJ7uQxgMarOE/LbD8ojy3u0u4ax9utDquR8Rk17Xx7YYG9xtKIjKpAATjkva9sR2a42qcT7qIGnvK0bMzTqCfsZu2o+1x7P9H9RgoExw3FTuwYKtsf36F+mF5++tfnSdNiln+1cin0sWCjhE8rN1QrEVhveuGNbzHlnbGEdOgACqz1uTxT3+xk8b5QACNF6jD+rxJbye2nit2k9PCdWGU0TPDpofP3M7IflgdnHzShPoCajF+fhb9Zi/WSZduH193f/MInhhDwM2dnoSDCmzDetz5Tj5lf9Hqic0f8XgJYoITF4L06Bu92k0JaRXXkcBWJ9CsO/F45viLu1frbz95tqO1UaA/aJpy5oJgKNTmLZTtKix4rtQv92xYT6gOz4RWflo8kGGsy1tYBGbvLmLIDJl/WXs/Qu5/oTDn9DE7Mtdo2V7lTyC5A6eVQR6TEKyyEoBTMpXe6yoNmxOBv2OHZZXW+33KbmCtGBA1BRIMdiurBul2i+uLS97lEUwC6a30eZbsirkx3O72Uk3yVG0et/uM+fIUy80k+FFZ6bY/vk8C2CyC7wgEm/FupsJvS5jL1OljgECqVKuN9ESBQOyctDBBdNDjAF11eJs2kxYohWoqOQoEAh8lRyjD2rukiNG0HXnxLoEgdDU4BVUwAh8Zb8AxbQ23r3DJ7HoS7F5WaI/+qbMZABtdPyXKMQry9PBcmSoelUI77i+7BOvbrOG0HQVcPEuTOyW0yXhvoRSusaf2Cre8+hY/wt+xImk0NYh4uxO9lWensjf0wQkGqHqY0jyBAH/A5RE8kgeyBYI09Es+1napKm5Ge0EIVSX9T0QOmc0jeHq7D/MtiXGNFq2LZseLFlvpFKvGAQoCdnuV4m5GdZG+pXpzzkjRlM4fdhCSppG2RvVIcuQsBpuC/NdDX/i90+XOjOWgMlzih8+tIXjcVAa2tJzdIf4U2D3T8Y+YUCiFZQxRC0pSfvoA4c+tUwVuxy30GsBmTB/jssl3ZFKrUQuoq2K6QvFyo6KWjzIupvFJSiPnIevGu60XE+yU1C1a6kAuj2DRUHwMquXQNDuRjt22M8xP1Q56MmgewT2vi/rfeNqz0aJ1IZfgD/J6gduk87m5UUu9wocnhnuUyFdcyxAMZrL1hzvpp3SctL9PuzhD2yvkQQHlwW8PuuXkLux+oqbYm0aNnfDoU69kCZ44EeNlfoBeYjuM4PYL9rTHHwFbs4h2amOoOZu7jMjNrS1MeIyczj3Vjk3UzfVtV7KtY68JHTqs3NxuqGEWAOTc3OvYr20givQHysHcXPGNj+83rv287d077/uAEXw/N9feIL7dVfAZFwHIIxiI4rBlwsvcmY45ublCUPUagHmOOeYm569WnWSJHfRqo3kEd3t6Q1v0onOjRetCHsFPbHzkMswd193geglRJFpbfFO+6ck1WV/4dVw2oX1M61axMQTf8QSylVfZZWopOM7ljreVeThiGnSpxAGjT3mMf6RRTTAjCwxdfan9yFDVV2A3Oq6rOJzAWi7XdFgkoc3IIDqXW8dL/QiJ20eNOdCVy+2f8tCGy03uyomy5arqndzcjcs1ED6z9ZLPsCgqhsvFdVO3EW50j/FJnSyfQYJNudxgNe6woIoM3KWnSu50osoee9x7jqcrJ3Jzq6J7Xgc8rn0brqfhl7d6e0ucT9Qt3jyChxroLX5u4d1o0bqQQzA2bEkj0teGKG7Ja/JN2K/Jt7kD0lDLEjxBAqO7DI6mnfZB7tvaMEqrtRSy3XvMqNjGDVIDN7tHqwVWE/yJdarSy8TxKvQr370kuiYHYdRf5IhhrnvqdtEAnJs8dlqBqTs2M3YdrA5nONmME2OnjC+yZpEB8L+O3BfIfZ5F8dKp/l3Sy/eUnFKfnfeRa4Hijj05FawPSZdrwy4BLDUvYU6CR4kobpQr+SbIdLXDbts7SuQ2r131SjeP4Iqd2yqezG8yTkot1Cf4OdTLbAmoP5vHB5ZXUPwu32oWx8ka0Rb2oKQMSNbgnzdIfOrQx4u5ooZWGYVUTJ5EmdMQyv372XDUasbDIscVlCAVC2iwvFttWU25KNNrCw7u15ZDsNpksCGQehnaRcemwj1n9dXGgh0+DCOMYKt7NRkWav3aBOk66T7y4iP1cpnfduyHW0oIhiEE1qo3RTCYo3Z0txdn4ZPoV6Tlzl/JJBgbZKmWnFBF/6bRXRAe+mhOBhB2sVUxQlFD6YFjBFo3JWtU3QDtlgFGNiSpiFwv3Qq8CdZ0QNGT4FwGyNM0RvvKdMyXnaTiezUyjXC00SaWeS4EYyfWfC/URNF+08E8IsqyKn9WHeQoqjuVwBF5oyXpFrWnB8laXyuSyt+b6poQ+tp3xAXpQ1Q+7fIuzSJomxOguaWIVV+c8sBU0nE/wEbMxaNAOq5MmGGOamM3xIuF2nVyVAquHXRjFh5P75EmqqLxCJhrWhKoFEJbVht9FF0BXrY1MGyNEgmjwV5nOc9z8wg+QTGBaLRoXcjxTcKHURhl56wtVLdWTzUP0IkRF6kfXyD3qU7HYx/VPU+MGTV+eNB9FMqXcGBTR/lz1pgH/vT9jbcR17zOqvmOVcR22jztFJQv3bGVSluiWEQ602raLmLo5VoK6ylMMq41fkd2MHaxxXOA8piIrWfJNbIxzd7caSvWGcuE1KqGpOPGxRRVMStgckooprhId8Bm0eVANNyav6p20I3JTChtuTM809UAeUxytLd64kVjWjHFPb0pghgX0G1ZaVjHXZ/h5hGsNf72fQyNFq2Lxgg+QoYjag3B9pQAKL16hhh+ZlnIJ3hOYk3jcf/gUdKszH8j9TNVQcSQtyxqgmAYNlA0oqbvhQS/8reFYooNZI5UXhpFodg70MZuoNReok8fc27KAai8ykdIBgwyvNSCYTlEstMF8hs7Msn4jd+2hPoaT/wWwI4b+lJiqIpywAje5g+lOwyc4KrB1IV1HB4mZ2MdN7hj5fyV8QgxoJJMqYI5DjQHMcEDEUSfcT7uQcQacTa02mgewX2bmxZIBvUJjnGEPae1BerQjaSnSUeJ0gOnwyo22qEGGnTjnuCTuVyCD8aIHiWLrjswYBV6UCUoSmSgjivBXRZqZiq3AeM2gLU2KGuKzK6VuGhg7/qaPd+094sGHwZHxJ7oZlRU7VxpfyJq54hqcsEZG1xT26sXg9Adbd+RrjkQNdKmoegDsPwEOMoC56aAnS4lL/VOPlZeVuzzDixRYpkRSKqtzGntD753+FLqV3/YBnAiiPYa4IiqmKModHmvjDoK7jiXlQ+wRXvSGD1YKLJCNJSJqlW7LM0lsVT/EDEtUcten+73QQ0JOkRCb1S9Pdo9FpxjoJTWA40JmszeByr9LoJZFJRU20G6eQTPmNtYzkX5aFjQcWLgCABUneqpe3UcoZhCfheNrYMv6YSR0j1qPWo3E+/XzyRYB7J2bSOgHmC/QU0wQFGCjsGhTWulWQWIcFYboXNK1mixIljLLFrn4LYBc0H+IKizFD5FHiYYn6oclI4RLNTwIGlQXP+AvmTLh8RyDHVC7NRcKRoNLQYAlEVfpC0Pgh7+Ypd3DKdT8Y8rVJfM6mLiZJQAZnAIn+YR318n1libjTwT0tURH02LKJ0B2w7oRNMLnyIbHJlqSIC2ydmlcFlV1+ypOQQbGhq06mpgaGjYaNG6aJDg08wLGMGM+oH8bUjIp8YI9taJE+2utbS86daAO7QsJtTwCQk+5JpVvUM0ci73lPOgMFQyQWfcJL0eqeEXLWN2XBm2LipMlR3lu19MMPbSFOYhrhcdz1aGxmAEky1cbJjEDy+Qe2mDq472CfPUDbMlOiLyHXBwZLKpH8G6UGg4JummpQQXO9rICOF5wyUMD9O6mdYrLKRvmKt+WAEjm+plwghTCzzgE8VWSYFmT2TEOtDQ6Qo9eA+QqNRl0ByC70vRaNG6aIjgO/ZFtyHBYB+ztvHFl/ZHTpA4HCO5vlhrmRxf1fwZY4CAyuEkSu//bc36srk6eHEQJMMZChDxOByTQM4Ql2/ncYJLJ3I4Hn05Fle+EM2lC0AGuK6f8kbTr2YlB30+fUZ90FOKcrPjhOtzOMvAKUuOE4Ed1Dkupq01J4pA1icMtLcseG4UUHkVKQog/F971wHWRLZGA0hVpIoCioAU6SW0SScZei8BRRAQCIJIsWHXVVdj767Yda2xix1d6+q64tq72HvBCkjLfXMnCQTpXXk533suKXdmMmfmzr3//f9zPHt0Orere1G1M12BQ1Zvnw3h6GtyOJngnjWHM/guOJWOfxLMO+vMB0dFj/lpgnWpkZq+qgr9pAnszuoP5vU6VWa49Hpn1UCCd7QMIbir/u1vbkeOSumxCOGhBHcOp9p11bhpUmOi0bURjB0QTnDZgKQq6TXf3AfHlj/Jzb1S49z1k1NK3+C10JUKyfVWEs2Iy+t31SoO4L1UmgI746mC2q0igBNcHLgiN5d8NvdK2SlXlij+g3WbH7EBTyW/5dHLAFfp8W7V+bmLU3IPep0xz+Yn/o5v5x+HFLX4w3pKPlZGue5KlHldjO+t01yNnDxmFJ8OHVhqTREt+fbC1ue0WZLLv7fBgs5au0ZtF8lorw9LVSoBwypi0UqwzgOqgimppXTpnNSt82J42rp6T4wyive0SlFW4vRQmurhXB6XaMpW6p6oNDs3t1oaTOMIHlDv+axErV30V3QBRjAVG/Tt8q18ohZ47gcL42oPLl6Q2gJLR8aOYYwZ61eL/F+N+O63pF/qdKwzrngHElwSAo1BvAtg9OnjZ9ESBRzXi0efsEkM9iwcuNh7Kp5V+SzEZw9/iGhkfFYqLZl2yMcolDFikmeqSsw2ZMJQ6fVQwnTycLA1sLhWPehX5Gy29z4oIbB4UMJuJHN7hYy2p7WrOMFeE0YBXNdvVJpUWopM6uDoP6gD/2BE6RXNVHhyQCo1WS41TCeOzpkHErv3T5Ud0nyVnRYhGHwmpYBymaXgIthRoT5V4r0X/AfmRfN426vHfm5/BY/0RvU4XxIyk0eUIfKIX8CthnstFXmQt1lQxBZhTwfzeMH4sNn7T95KONv95Po3NjwBwIXHm+f3/S5PuDTJj0d54xL40ayCmdngQATvD7mdIEM0O3vQK1NJKmOtVIitjBPPNjSny8X7vXr+yyCdwD4bPw5sCuINs63ewTzi8baR/3skDwWgF5KjyxMXTJLeDvJ5f/bcg92sE1bIlIA0PMX88x242DCGgitzBtvmGkiPUPXY0kd6CbCy6O+kk2amkykvnaEpvydemsGbGLtPQX2Y9M9CMLiSUh4nvRr8PjzbUaQ+Vex2BN4/+7OyKNUHWX+5fVshnaqocq6flFdWVpaXL/9fasPjpsVBU7KyxMTYPzHmZS3wwf88mZW1Are5cDsBSmU2gL7mWcSXl8lZWcuhaBc/kUjLMi8H0Xk3u2e/o/bhqPfDRjwiEYGlMqkKUoO0pHwtpeyy1pac63rxsYH+4wuC5+ZJ7KCxI62ed3SlW5qs1iXvCPzF8TKQiB3bq3z6/Kyss9jMYsYGmZK/lclfYWD8DOCfw2YcAGzqsdT7JNgUMV/DMkLPYfVcKdMsJ43FQXJpslKDVRUPD5UiU4lJOUoqSVI/DcHXkznzKOHrQETvgs2iB95XNEcQ+KhpFH3IY0GKzNAYlRQ3/+3w+ZbboBIIAQSdcSU+M7Gz/ylA/C1cAqOUHrKRMXoc+xg+TsGmQvzkmWURK7GDij6MpK6j/vNQMQUbRYsUncDSFOmhg7qkeJkE01O44B9qzC5kdCayqy7XFYgD0kMTFVIqvEkS74g5rdA9bBinadEz3L59QXMqm6zuP/oM2DrXa39+tyGlDq60CSMj5gb/liKdMlg+JVQ3lkpByhK0w1Lkkn4egpVnA+c7lGG2YWPAn6JUos8sgTpC/F95edXWI/Zrqg7vrpxgwrzpONy36D/z83kN9PvE+J2cJ34jCUrEIcEVD/IC5pK8vLx7aHGQIRipbC+YweYhMZy8vLv0HhjBvf8ao77xQWCKPkbwi/tuS7GDzcv7TXVEN+VEI+UgoukD36EWF+J7ZM9ec8touNiGa8B7xxHqqvOtxQnGJWZw9EG8lc3/HXTpoAdujSREft4Y5W15i7rOz0uKtkxzp/QCY5VfbFTtuUxHOVVPeQxLhc7MsIpUNl+o/tMQ/H4VAGkcCKNXYF24cNLzSbAAG9+PExNY7Tl8iMMJtOXEEigWWkVXXLCWtU4zf8BxR05kD7EJXi6eLjVD/yowEa7uFrLonBArDucPUOzPAwtEy1n3dT042hx7GrinExFGkI31IoRq9Li7kc5xUln+GOH0l5KJVLDndCfQzFQ4ZEIcx7rzAGl6wY1sMH8cqB2zZWM5O8AQU2EW86Ned7CJtWgg4m1N6svhJL4Bh8XuXxAcw4lQjJShJHQN5eixOLYsABYVgO0XSpiEsP5d7y8lEB1ksFb3wd6a5rENI3joKUFkp0FqqkI0LOnuBeyBqoTJYBe9ObiGDMHzo8FXR3sWIpC9aSiOTgMvKUIZzArMTnpOuo544mGjIp+wVeCyYCL63U/MGucu8phxyvXTA4R+1TWoPzs7oHcYzcqn+B/aG7bZ7a9uIWHaYRNmRrrYuZEuk4lFYESYNpvtVQgW1ymbw43ArufxmXmC9KknCOsOXrAg+PAb3bGGyTNU2ZmvzV6WPg2siCyrKAgoYfcPcr3MsPS3IyH2te+wYQRPtO6edLyRGnINJhisGCDOMP4M/rOGHFBIsJ4bSa9GR7haAQnuXxETFGA+hw+ekWzxRy/G6YYKgqGWc+XXbiM9GR+xptE2J2ZnrzU1Drc18EZ4UEraf6n7oaUmA/saJ37o7Y7okV9CjQ7zKOM1e3zm1y6+DsE9uLr/xOH4GhheuwOfwRXX8xVyxYxcDBjBxYEDTYwnw1vhpMhQuzR83b45f9kY+iC9aHT92nfY0C46by61e8KRxujINYjgNLzsUSAbCGKwH4OS5PGC4/DqlfrnFWh95B4fValtvXipE+rww0L5/ilggk/pNotPD8Qr4a5IUdH54LDy7Ye9+WDqCnCMijrroSg+US6MEf3GL7okspQl2uMuiB5XFqSOOpqWTiQ4GijS7BVXf1ZPB0vl0C4EGl2VYSRPdZA1oiqooJ0G8dd0Lyj9IYb1SZtsGgIeOcHpbZm/BmqKOyzcZaH2ejcKyC/B0fHgTza+1wFUOqv67xrLQh26oI5EFHVkokHC8URZP0VUzRjVJDiRlWkWCrWe4AYT/HF7jJoFolN/0nEFGkSw0ANqCZ4+BStmCzz2wDm/eOGcCOdtXNEcSu3d0dQcUE3pLt1j8AomYsb8LL5kfNYW6x9uI6cRygVR0p3oDhbHAc8CI9ILOIp2Zi1J/R0sZ7mY0cjIK7IBjW7luHEp0Z1oy34bdJPkgE2hqK42Du5EYkauTcCXPj9EOPbRabQnyCnyZWjdmMI9YC+4yV+QrhXihrCjJoC14XX2j+ViCUQ4yiKzkj2Ic3b473P7xnhOMq69acMInsXo7L4I61NO9Kjz21XQsLTZAoEHFF4Lj51Lmlc2XIVfVFNI6zzNNvSWE82p+icC1ETwPPPfD1h79T+GksTePDtuffhN5PEHmtP9uggG+7xpV8nWGMGeVjCAlW3t6eiAWpAv033sSZeD3DzNPSes9bZFnjjQ/vH0saN6mnusmeQ1fIuvxz9VC9Au2HubIbfAK/JljCd+ktdM/DH9inylSGhxNuw3sCqizvW6H0w9YQR1hpkny7cIHPSwIF2rI0u3YQTH7hQ82b+19B2MbZKJ6zAPc0BRNRRV6YF6fijyiRHxO060pnhmO8glOGko3c1WwPNxPKqvIiWeAgcqZqGZKOp1BeyRce0ki6j0B0fIog/OoaiDAaoua4Gan33giA14HFF0E9g3sqZj262G9pFBUW1lshzK6iRL6kqw1iEYoqrd7QkIjSDtKmeAqhEsUHl9VGP2xx4KDClzVCEMzPEA52xQ1Ec0sPukat+dYIKGvHlhARO9+LHGaNffAHDpg5p3R73wR+qQ38Gy0XWepqq2vBPGgN2dmDIEMjqWv1blclE1/YxKtJ8YqQi/6x2FyZRjQ+2dXrly7W9HiY+HjEQJ3it0toHh0XZT+zFnO/tk5WdonftxO3D9tPJCp+fnPyBdm7spf9f4/Nv9xb5Wnr+X8jw/f7mvkxUei84n7V/eYzy1JokpALq7vjpHDNEyPjNlyxadiWeJ44OJ9q9ZM+xvxBkka/VYdUAr1rxb4DsTxFPTaaiWXkr37kOQ9KFOHtijJz//ZsXA7lN+vhbrNVHUcR+YfAaKsHx7xdySHyuIoJ7QmvkutO7TVNZfTA86wur2N9dUba1EI604ClJl7P8jfgKCd7COwfRRgwgkYDu4RPEXJ5hxULhqvGK1/47H3dK/WHmWeFl9+T119I8EC0RbKy502Gk9J8XtFYyixb94Fk+1+mzpTRUsNnygJccpLa352BjbAr/3M/Q5SxqUhm6PQZ68N2YjwZux0W5QfOdB632GR2jEBy2NIbnZUuK7hyUoxccp/fG0e7yHoLFosRff0JYgkqji6kAscnagQFdjxGTBxycmDR5dD8FV9KAjziN3tivGx3SN9zXsjwTU5fv4ExAcN1bF8el7m1ATAoW7BFxUvg8u4APlT9iMxYWf7VEIjr4CizYV+epG65gdXWa4LMdsCH+MmA86f3MpWKQ1nZsHbnN/Vxdc6PhT6alhNDduPHgoTvBV8od3J0AZydtWncs1heuV7yykU1SrG6+9ncnlOoDNBtPOdx6dTJAdN4gwmGsXZEZAuPOL/lMJfmIUMUmRMKiHBdeG4OBO6BlF6DxUGtuQ/Y1UIcHgHsLlcgXV465gowY4R8HzNA/qP37KBiBsE8gcDw7iFXCcyfxBVlzuhmoHUYmHuSVBFQH1iLGDe6ikyhIGq6tcmCxTqwALxE9AMDfnqOtumns/E3kqfQJYL3//LB0+mD4zfZYC3eTfAnw2uJOzsT70fL+cnNvYacPuDT54LmaCMiQ4YpGP3s4Yw4PIga29PPELXTDsmDslJwfd4Spuqv2KdO1s5/2fZANzptodwWOEl3vIpatWG2S9o27NyRk2Zhg2+5TvNsTRaJiSbFJ3WbaZcU7OUv+1CjfPaygsmCeboCsbYNU7x0e2d6ysSrrciA0qwwq9KtJuJnbJUBAMf/NwUUIv3PPw2ytQHrEKTB02VglsDMnB8fILTTYkp0Y3BiG2auyjVDiuntFLIuUsVUzc1i2mJKTWUSeOn4DgI9jlKbuwUJvDoCBgY2j0Bjq80L+wjpdFLWd42PKHq31eK329oj74R/CxGUxk75LjrFEZhJMfaOdKQqEYmpBgbJT6XKGqKfdzUla6x1a/+IXCudg10sw06YwfCf5Aw7sIZxpYFz4gQ/bRMUJGsnwGu2cM3HCqZtQ66pS5pCyOUoafURhjVpJHRtdBGVLpM8irk70rMzknZRDSK+Y30B/tVEWYot9aQHeqlBX9im4JillaV8na1lQZsWHWbPln95FF4+l/RrI31K0p1G4EVzxpMYI/MfbQPVeEyFMZgUHF8Zpb4TVNyczJOWyh4OTu7/unm1661ZGcRdUJLjmWkzNkClgdsTgqJ1O2zyHEfnJOzkGTRTk5Njk5x8vwO5iUpHeqSqOnpuO+MUlHbJaCWQk5Obt6r8uUy1D9oWpbKE01euzwwL4H3bRSHPoMV5Id0l02zMwOWnGsU1DfnDp+dRdZjq5soLUC8ahj70GyKhlycrOWKYkmGnnlYKLxQd0Kgu3hVPcEUzgtKGUHkZlyRgeO4RGOb+6H31EPW+nn5JwG4LHgpv4hnrNVNq1XhWjLadddDMPlU1VPP5RfW3clY/sR7C+MCT7UOwITKj4cAMXGXK7eOBCvOs0vaoKKdpxWKpfr68TtU3BVLS1D83cut7qv5zUSl8vcByilpxXHc3o+AHfwJxrXkMuNNOY6PATXuONVJnK5P1QXPL0AvpK9uOuws4Z/PVxCrPWVAAAgAElEQVRqSBfNKn4HwgU8mJC5hsvN0EgkyI4dREjQsONyO28A9KL/rNSmcrmTVHRjexj4WBOI2EawZ3CKtPSwocmibQQn3NU5nG9b4bCwF1L5yEn0smQRl04wDOsN8/sKPA7y47BnsLID17jkur3qlNCw31QOVT3o+92S1WxFfXRE5AMHlVSVE6AQexwcrPM8txvBhd74uOYxErNDpPGMXYr0YVPiR0fM3eh54K4qLNfAho7Mq6TQo5SaTZevpuKhEsZZuvs/YhKm8JpOmzYoD94ah2psiD3hK4vwN8QrJbDFzWqFC3iTRwhfT+sak45uj1ZJiASAHLKJcYX8an1YaaHP3jyNUZ/N/cjYE/UWEp6gGJ9MPVwxEw9OUI/cy0itkgZXxU5zt69LTK/Xa/uVFnpl8xPHYKNoSr+1bldIz7YGLV9ZfWR8sfOCV+Srgr8jElRu71Co1ZFXHO33DMZl0J8Sz03Q2ZYviOJAgj9Ed7vE7dZjff7gkcjt/Pz8Nx4ayLM041osayDBGIlatA/hNmILRpBgfkq3PFDg9md+LTFA0SpsCTYn1krpnS4wo8QhJB8XHocz2nvEwd2yj/TSyrTECKa+RjVIL0vy54b77uIPHWQ/2c/J8q33VLsrKXpDuy851HsILpryDRafjejWc/faJWL65s+IZ+GHgl+7z7uQSk6ckj+7v+fa/ORZ7/zz82mlYRrOT2EOR/c/8n+I1ZaGD3F6IxLtijDhDHKbXC3vuCa0G8G9bp6ggGd9unkTaOwQQXol7TJw0afLqvvJygUrmH4d34ttTLB0MHwKFtfmKIoTDL7qbHmqJ7YIuycK/sv/LR+cYLNps2puKuyGPzJwESM26cOjinLr6fh05aEqTgyVzdb3YbOv832NCzIxghPZ9kbP31LZ/lJzwRMljwBdtinB3IkQzHbrEigjHYgSUGxr5igAS+6CRexgWe/vR1NFG16L74rChMTslz8LZr54o+bJtusUrKj/ZSmBZKJ0rsQaJoOVILJBrLFVD/ca1nKbULTrmX43to8ff9lCUD/ajWAzFzJ2QTp4WbGO4NY4APc2pHna5yZa7lxkNu2QtVf4cZYlxRnGJGFlTk0QEAxITAeiT4U6VbaXeDbu0Wk/NhIBDqQ+iZxS/qa/RUUfTMZv4LsInhcEFxsew6xbL5aVF0x8vyWo+Qx03wbAMfRp0ClXS6qzJXb8I809PML+oTI+ggoRmfLoZdsCryRV3e8BFnY9H3K3IF/G5mJYn73Y08zT1drb3hHb0AW3Evhc2rCm3/kag6e4NCp22ryXgplD9jVEUajdCDYgI6fIVyNcWHYwO0Xkc2ZIpe8OcJs/zDNhJQvpy/xshZDh0xca4tUEIcHOJFrfF6IY1sGqPVftBIP3tKOVXtVnaD8SzLkAA5gCgvlDpx+yQ10icWkqbApVErJpKUx0PUIyYXy0QSh9ikBZhLv9mjUOw0+65oiCkjDrFmx2/JHgmbt997l9Zbwk/UX7JxEj2N6TaMtCTKkkx7cUwxKBSd1KYs0EY4MWeNqeRmWB3+1/aoK7Wtko7CwiTi6LxQfHY6xQNAFckertTNBgSg0Dkwl0LcVXeUp9rTUulyXs4ddcpyckmGXuLOfAkMa1TL/p4EWfGWSUjg+e5/RFkXm1HMM7V7HUmJMVbqMCgrdTSs47oajGne/O9qhFJphpUrrF8TtAHoHgXihpAxQjferAMiTYU2RNHNSYUMI03gDt2Rc1VnNA3R7BTSzGL64/f+h+/l4LxsshaCB4rnsOjOCBxe5gqkfpdAKxjwLVhlBS1n8huICiXWvptLBphwFq+qHUdBWYVleZuAjtRjCeDONpYCfQA8XL9xn59G2Ibxbaz3gXOGYcSl/nieiRmbqI/2I4zKzpcr1a8XgLt2cbC9gSCII9Ru5+gekR68JrVM2rEzjBR6364D6IJMTb0CbcOHuNqXH6M4MAKFVMw0fcS/Fla5jR0VuUQ7TOWJRdL5Cgm3Syxu2DE7YV3oXf3A4vNll8YtI5or4H0pvM6lkUZQT7rF21yHsAYYw7bUpDPA9Be46i/2K987am3MAjCiddYZqzPeNMaZDF3VG9gjCC/QySH9t42tOcbML6XocTxYQaRCjFCGYb+AlvR4FjxUPkPja//jO05O+aVPPqBCT4GCuXgzuZUv2s6Gy9wH5h2TMmDYjcGkTFeHkKZTzwLnrWAJiTJao0W7cmSVS7eQt5VivBpxnXKs0pv6LB26IjfKl3EFt3e7qjXeRSWNmwp2oVZVXcQx4N+w3AOo8GoB1DlTnaW+70uPbB9gE40yWMsxV8kidyGIbuygmfnFaCbYSQbsqupgQbhNDLp/vNby5Xy0O3gVdrxdrf4HBCLTmcqfjacfiw9waioPsaVw5nJHjg8uUTLagkr5aVwDow1ZcT37lfuBnHgMHhaBqhBPUwQmDJxllgqDHHWIPD0eZ4aX8UEAxGE+gwq9Icz9KZu57PCcezRSeCG0gx+A1fxrubyBHDfXBWmR0Rg+8Ie+ov//jFxS1OgRA0kMDoS7AmEXpyrC6DfzzrFEW+Y6KJbSlWoSEeUe0Zi8Z65QjbOapH/qbfyjsV+5mpQr9HtIpQtshboL2UcuO0oU9eXt59T+X7KVHIIugh+OKNs69Y80J0YV5itIUynv0RbjdbtZdotvw8Lw+BIiwwFl3HIKs2FOTlLZuYd0w50srhLm2YzZVgvZSu2djI+AnCCbPdnZd3yDL3ofAOfklODiSOcPZJhSNuqE7Gf5gHAVV2PoDX5P9get3FPCHOmZ8YdfA87WZe3ifhCZiujA2y1IZ3Sz3Tp2uwvZqLl7LZhYd8sLqep+tHwfYaIo3dzosNESmKCb9BBeSHoegxxooB1Hht9kEkPUV69wvSMWwDfM485rz48pWdLt+AtdknxQkGBR4H3mukMPGV4PChSgmbxOJdjGYQDKDrCrgb1oNDiVgFctCQoQqJk2Ay5c1veriY/Gn4VIcEvyZfLjIJ4ntZwUqzo2Il7QycYJiW80BcX/AWkjJZvEeZmczBCE6RTkkkH/cxCqW729BPwylWfQQ3Au1McJgGR0puetY9cE/xSLlZFlXKMFxq6jCpTmmaRsmzHbKyomYDWq8/ZmkM7Yk8e0e98LUKweCbu9OpQaZZTikYwYEXNdOnaFXEG2nlOMHJWen1EFy94BJiZ3jWFKl+BtIrwN4stpRakpTlm7ek6yWMEJPpsKTopGtWVsQ2kG+RmOW9c7y9vYdPVqyZuII5BQB/2Gu/ILlUSdi9oWUlVnQzJ5GfOCWrn0yavFTSXCl/Cymim1QhHDOsXgM+XG3A6WsA2pfg7XJa69fpZOreKXCV3x1nxGPK82KYvAnScqMUwzfouoTzjoFl0gZx0l1HyGyAC3g/EAwup4DyPTyeHTbcKv6Xuo3Hq1iCWRZXjhH8RFQnWCtOKVdfwsCwM3aNtkO0kcx8rkzfAU7a6WavwQdKbukOHo8EFlEiy65iG34LvmL/XsCmeE48Wz2Oi1g53DhdsLGTLxwHv/ohd2x638qs/QVY13ODN8m415xJ0sNWu0BpVB/psCOdHT8+Qf6tbR7cWLQrwbv8gpf6Fh2QOlbouThMO56xIJ52EFoyw3LY8f47oJXIikh6mvrANOmhi+Fw+0eChaNoOBr9sR5tfkJMXbatQpxhcGomeIb74a9aSTQXKn2QTsE8ObgprD+G+1oaU/6DyBEYOdEzTUWs5500grE1yPeP6gU4AHBnVCw+CEogbpKe3UL+TKEehCk7qyKYaaox810/5UqndQCC9/oURbzY4WuZasOauE8ptG+X2HKS27dbRntGKA9VURqVm3vWcrDDBUfjAUqayZ27LMj9IEbwZzxiX0lwdcvSOUr1EIzNns7R8yvFSMVnUzuVpuTGhZt2piLKZiERpCyf3Nzcry/hYo5OVBkQL0+5Bqv9PZSo8wV5r2WfcUUvS6tzrh821yDqxz0o0nYQXCW4iMwNfc6hXqzc3MXhpW59IpU2ziY5p2h0AIIp2Mi4CIzqFONBCO5KcNXrW56Dfr1joRxCkO4nS/BXI1D7aFg4EBLcCYrxNKkBnGOVBD/rg/PyQaBkF7+2Js2TDXX58mIYwAO+L8EOUULyzN5iStP3EjnhBBY2IbIm9GYQrr4z8oxRIL1JXIrNa+DX79uISrvH+8NpkzPh9eO+kdgnZVHboaLXTlkjjv/YF3bVimzeUvK+o3igLCsS3+/aKLhqtIfgpx7A4ZiUALce2ASon5RUBKdukb4Goz0JZkCnFfB7bPDOsB4D0L7BtL9Yn7FJ/ITu4QM0BoToDqBZ+nymO9rnId7x8VlRMMQsIvg5KUA8q7LEx7J21aJa8d1vJ8yqXB6Fn+k5g9/TqmRq3nVH7jOOuhGDzFiXaGG7grb8qy26qfIqRsaT4JIx4wLV6R5yG7sly2Nwubk9Po7BW8CQnld+3OU76r9CsYbVousKt846EdQTusVAIbT42eArOiDSreEKBnWjPQl2gtEe8PuRPw31B1nqBSM6MHqZ95ERp2+YZKQfbdvLn7SO5t7D5U7alXn6G/djk38hwS9J18aIk3GT5N8U09EiHx24LrEUptnDAc976gWxT+9yHiDarC8IEqRndW624UYwOka4SFRpjypYMragvPV0vAE77riF0M0u26uQURzwBznqt6r7g4leQrmVdZWlKtAa54T+QKinCgku5kx3O7J6/cEGLfY2AO1JsMAufetVsIGIIgmleYawlA/MUEP15FAzAq0bwd5AgUZX1iHJu6B2sfxYt0IBwXC0s0gUiz+iZYeqGLiSm+I4WmhRUBiIooZbwFs92J+/rUgsGEFHdThgDcHcWqa3g5QGQ1Ee7Uaga+LrEY8rilFnSFFc4wAwpNnLapPVdVBHRxSVJ/VRuH9DxcxOmUQl4DYPK5j4/CnxHEjEfqcC6miJ6hm7onoo2ssYNXkCZjJRxlhwRtER1bzxnFj+tXsif0AXlvKkJvygGtCeBCNVraEAAz91pWHrFyCZx5zIVEsSxQUAJpNsj/V1MygkB993kOA3MJ7B5wiWiI4xjUjPXap4iDUC3h98d2MP61V4pRn22pksCJWMnAjWkjmnGUYIYkIjHQuhuCBUxJlCgWEO3KwSx6zkbQGvg7DjfkU2cSXvGYRrO+wju5ogiCmZhHXGTjAWvTriEB4BeU/7J+op3PSBmXi5KFy1cD2VKMrheWdBfW+LwHo0IomCIBRSBxhkMd5UTbWyFGQslYTSd41xpTigts50BCPY08kFI3iRPXP0djdfOE7Bb7PyOJjPcIL5kXmNZIvHBJsAb3cYLYYEA1xWlCFwZR4zFvzJvulIzzdDEDOm87kBDjRXe1eqAysSPv5FwRSoRr3FDSOYSP7P093xKKwIAyDH0d3MBarN5gZvhosNsDM+hBfgvKPaw2n6MCYNnz/BWsqPdMcKgkPP0czJLld89g5zJTJcicyfiODyzzXVPNdPMO3la8cvYDaKorizDrAQZkUVe80FIWjhSsNXO+wwEno4EVxQhgxTUR/tpomitsIHZTn9JHjP+sTvgRrJobZaTemii623gu0oamEOy9m6m6FoH/C01zWwRR5lydBJBAdUuq8Joae9tCqVIMuSM/m+kgNrPoWN9+NFzeu1sF7ZENXgfTZ8VUY+C94oOXfvdOcYobe19DQwg4gyA+BU6cAAWA5nR6Bg+2HJmn7PdUdRgy/A7fEHOzwn8sAMcMGpdDehj4X0Tn5gZ1cpaVel8U34QTWg2QQXTTTuRJAxmlRt+bJ+gi+TX0e8mJYGdvT+Ya13gd4IrMd8HS66wytkaMQh8rHf5dcEKVwcxUHdC8AX1vDwyGGMj3nO6CdX09L+s+AdulVPN82M8xTp7llwjfQi2vLS7Oy9PkOmi3zXcQhWk/KD3lG1GQHdi4ZPrtCi4PkzzpSG97C7CcDmXoK8aAasmek/nZyio7/7gM5Q8uuXpMVuX6HiO3RgOeSRnkSaFUrRZvhplaSPdT1V2m84s3H6+rWi2QRHuZ18X/Lh76BBP37QgEjWJQqamsLf7cv7keAY5Q3YWIpJEY15RBbJYqg0+truX+vaeJ0oCd0Ip0nLuuac6rrgEXLLiXmCOmAleEa6td1/S6RajA/pJgPruK+QPS6QIwd7FfKTZ4k/CoQE02nnyagdkjpBTE3GnlXYf3XwFeT2tsCNFQSXh5i+Hq8RsdM7KUJjArxQDrt/u4lL8R9x+3pLa/g7C18Xpr1z2iR4PR/vWks5XKPRbIJVBLHVAs2Kd05l4nDwqK1JJS4qJfH3dk4NEcwn1vH5izIzx7wEC5zfu+8GbxQrZy3iVkM4DnTOgDvB1/i3NdShqRKl4zMzPdYD2rDMIX5vGcib4O5BIxWPlekvB5uKnzh2Tg8yetmP4Jepl+lIyfQiJA0kMAqgMJq2Z+Y80eNoFk7wMwIrU9maRhgBdrNLbuGVZnyEZqO9DLin9evWOT1gJni+ExQ48MvjjDy11SIJ7KGdCJFqxvBCOUDK9DP++obcJTkTeZxqej5L6s/jirrYr+J0VR7UZU9tx944NJtgG0E1367KGuS3AtHP/sH1730eh7/f3WzjRYEslHryUEWLs4G2rxfobEc89vEHi0lbv/thxP0O38eWylh04/BJnp1LApMycnOPI4/y6dvM5BNMj5bH6IFZ8m+xba+2Ym62kY8xV3RjqOcOks/+nYbHHZ7JR+dOFwp1n1SHBH9k7MrN7el8YRvry4iLYJ3gXIwOyF0aNk2+91D5FSutXbdYKS7xGpDB+T031/tA7tBF2GEf0lWAI+70Cbm5l8rBR+yd94D/Ao9euv2DvVqkqJT504QqL2qbh8WFWelUS01vQBe9MK78kHsBTJ9CoboMnYLQd/pFbqOMTSdkF3ge4CeIKTK8rWkqdLXJBPunzGBMxV0g7iBPrkmlx6iOKI9bxJibGPoWVsS8vCeTPqBbMt2ZxvgjOnKV0Kv6WUTsYqEr8xnG9G1AmHUL1x+Oug2uIBha44T18UtXSlxIfnVHJj1SM4XvCI9RYPEO3lO3D4hZBoZPrnZYiwexsAfPP7TZ6VLpPwvBoDQni5uVU71+oDaC81+BovsAHOTxJhlvXer29TFvlt6mVT2W83hKCFkJ8OQXjZKRS9HdsFZ7yVZTsSfR68rxzZ1ycJ/H470GVwV20AjuQri9ntizOD45bLOQG8r/j8fb9e0WiXTCTnFXoBuL16vvNpdVvA2k5+8tE1VkwvQ7TZsgG1k2kPLlOT7keRqJywvH86CEKfYM/ibIuqWDRXHgkNIM3pBk/EAugQxPMx8ZrVgZxQXbKMedZMJ7u9OcxgEQiRF8AHy0G7ZsYFmUR9Vhchk+u54vUwK9TVfrnLT+aQiuDbUR/BC570e8AAIp9gQjb9Pwmwh3lAwhpivBX5/g5GI2AgwcyZ2qNjKeEKVG8OKK1zafqqgu9Iu9rCnPkerz7Iug497K9SKMjzGoTYG7BpTP55oT5oLl3WdM8Ci4exu8OwsKCHRbM1MPEje6N/PzLsKgLoQgrjNYbTb6ZOeg2z3hRK40NBKURa7Y7MXlulx+gjwGZwRuAboLALMIpKakSUmlDiWE91gKFhL6uhM0BhDkEqV7P7lCCO6VwOWuwibtxSCX8fH1TC73FCjLrnJAZZE2+OrCYdzb6+Fd8KZpM/tqaIdAx3/yS99SLhY7MChhfT5P7XL/Iz0zXikpUG8gmYyUjBsNhdDO0bbHKid5s6pklVXWB/slqUUlySWlQrsvfCJ1nOV9ugHi/uKYm0gVRI73CwshSil2aFmwyVesy85B1ycoJoXQzjOwkXFk74AkpfhsqJLxWyT2L90Rm3InH4GJlacFhh+02MVQCG0/OSOdvD9CMx0siaEG9nVPUolOkk1KQY6wtXEhdUFxcEWJcBVgPcNXFM/jrtm6seloe4KLg6ZDYsb389NwTRpmnxbhenqf+jAjtYEO6m7u6/MHq13Kz8/P1lZL7RsuEuoWBDEgwYK//CyT1XqO7jb/pMPL1+R/8vOPOj8O6nvpx3KtOrEg7AP5ffDi/DHJ/L2CFNVSVT/aJJfwkXb/5edv1VIfbhh9j6jm+eaEY5SaxVSNbHjvQs+GHf7hq/Pz4/TP5JeD0yPwSjPy+yC1V/kpvY4tW3K8l1qi/diB5dYIW818qLrO6G5LbpiqD4JFZ8cZH4thrdsuWsUMtyI4g5dAfGEdzs+/ULN1Y9PR5gRDdd+cvq9ejyst6rX+YWd1D8L6sn4BbFUFsh7B0sqITSF09ZaXDZQjuGv0yfuET5Bfm+HRwWfk98vwErM7elosgkJoiJwfezt4GcVmdzVg0zTcO9fr31CJMgNHNptN1GOzw14Lk8xXK9ixbQzZPf3dCHKBsoFsT+xvBWsLQm8SIf2rab+S6D+gKcduo6ILSrpYW1/5K+Ax9t+ecEPsHj3YpmiArKw/W9W1R6erJxT6OBE03QjyoQijkKNAxTZkrrAWxE7/wmIHdyIJk7cu6QiPRjia/OxsamfchHXPOtHWBONaMdcZeD9EdrdzCejreQg6OqXesPWxIiFvXpAoAcb7Vxj4e/QddFfgYP6W4ioYXp2zwENFd5G8CHM0KLXSgYWMjbgH9f2rpv3VBrjkd0dkybM94DtYH/aYdPOb+yH2A1f3AIOVcLlwW+BTF5K1ly0pwMTL32AhdolF7vOmXCE/Dd5cKWopWBv2DFk94u+grdsCiy9YBto40WxYRIcAM/egpG0+RsOuWAc8dSE/99kb5Q/nYoFegsXey2QrwSaEnsDY0I/mVKt1Y1PRxgTjhVXgegqeQeWMMI0dfCytlsJV7z0oSZ9MPkC+Gm/v93tSsJWFN/oFmvvBGXCagODVnjBd9T7y8CPD0/zclIwKewXGN/ftqPeiRh1eHnJIcP1AbA1cE1oC14m+uhk5HZ9sFZzMB3f7QuFxsj6JZUL0tbQMji0Hz0w8C/qSXoDiwA2V0lS4rKjn13Bzm01QVnSVB0mfhhgirn2cvSxOzrC09Pfd4EbeT4HrRCYOvnMGLTowE3cUukp+KZje8VO4wk3dRmjVInbNRVsSPPwkWBMNfmegxingXxLqLGdI6abF1GWDMxosS1lneykLS8KGIudR/AHyaGfD0iMzwW0UgJDzJcyH4JQRSu1VNF+TjNIfgIHzvusaoLI8MNQUtR0BnrqAr1bmzD4NSLITw32G6PuHxoMhWvCmOk0GLxUtmGpdUB1b1KQ7zU7dxVzz6nvlbiyNnqjSNvAhoACYwHvse9j2yg0d6P34o11poS5eSTJYhaFLsHWUNSJ35pb01kflpFjGpO+56jeeO4N3GgfKTCeD31aA7VpUtPtFbP7+PewFSNNBUU75cb+vgPT4vkFTT3dtaEuCA5xPl4YHY12rbQqAKcMHkDtf0RxsALlvzkGPjb5FRmRKb5KbqV32AosQS/M4oT4p8zsum5Mx5by5l4sBHoP3c/Yytw62yNpuk3qR8hZfwAtvxthzg0VQwCp2CXiG3Prm3ud1rLnVyp0L8Sg09RX5cpGPCfHQ7OylQnnFakGVB4gBQj9dKqgF22I9/B9En/HRAXkQ7ORjbhViYTH8VhIAF6jvGIXe+/iDLQ7ChL0nxnDrrxjFAaZ3hllgF8sSH+Z2t2+MGldVmoc2JfgR/ex0/Q17fC6mwHWZq9iD8C5US4oM8nb/hg1PrUmIla819aqHb4B+wBRc5AgSzMbT/Pmpwah5oO8xaFLmF2iOBhgE+Pn+6wqryOECXrMI9jccB9aGPybdKPA4yA5ZMDmnf6Avvo5kTb703W9X9E0376AoYQ7VjwRj03onuuOjCNzQmxdwjkl97nHS1ek+4hjY1wP7HUsmBMP64PM0a9yShxsEkymfDNwFPUqtgrYkBk+E7qOn+8aUH/KwcT0FWhptSXDI3Q/I4OIQr8LboQC4wiTjPJP7n5kny/r1hUGoLKnTZ6V6kQle3oSQ4tjpIJPOZndjs7XWgIXwu/wknXdLddjGlmy2jhaTEPadJOXrrvmKT7pSOLV5BG/2KBrmwdZWtGM7ZgO2BttiSymD4M12fv5W9tx375XA88IXUzchv/k6bLa4oESx812gZ2KviOsLXEC+XyEwQrARtSLbkaCJEuQCpCeAhD5wnG1OWANmqLKt8GTKfweBHQ5sK0JPtqEy2w5hs+kf59DYhkonmv4jakNbEnwLeVrCB2WlAIZh8eFRmpp13keGoH/Lp6sHh6o5xKgZjlDfBfglj5DhUR/0GS+p5VMTcXWZ82pzwKIQsiY5RM1ySCxllpdfVn7GlHJmka9B8wguw845PqHNx64z9r380Xqz3IJHGnLeU8ezg9TpQ9Usp4ULRXk+MY699V4r1jY/CIBs6gsWPpUu8t0FN7Qk6P1BJEzNPDUKObhWc7qpWhxR1ZulzvgYdX02Pg/Ax2W6LC+N/CFDiH/PWncA+QDe+T9BapB7bzbadBR9o0KNPx1XWR32W8RJuJhztoS9AXv8UMgIOVY3OEmRs0ugODQtjb7DnzxtKP8FfMyeH5WwoNDCh+pjwUpSe75B9sx3v538odPI/jsYzSO4CthvweQk2ZzrCkmhtPMlLhQKHsm6IxDlgd2NoDMWARIM9vrQBUkHQn3zxbFlgaYeSSqP31FHchSS2NoJJCca5aSr/xRYcSycWVGozqRJI7DfmTIS1qO983SrbhbeAmjbadI1kesqf2gilzvQiGv76I4Ld5Ta1KlqJn5c+TXrpfUCCH539KK4XBgKBL+Zg22dtGdwuSndZ3CTGdO1rPfOIliwCN36GbrlkX6frHKYn9RpG3wuBrUgwb+55FFd7vgSArleiCNh9AmloFsId7TqGdySJzZL+MUbz8DLWdxJkGCwS1aYVVLogd+FC8zxWLQRd7g0YVBnQlBP6Y0rFLk+hBDI70u9OCi/prjyT5kMcJw7mCA9HHs5QcYa4GYAABnYSURBVL4WRa9moo3nwRUVCPz9PJ6+yVYK44jqeB7POlFNJtTQfTKg8PrL3APPeDyeIAaBsbxZb5O38h+JnVK01/I2dFqWImfpJaO9IfDvO4jpeN5dPM+YAdaFNyZOWRfu8sGzz+DDC/DdK1y/E9VlJAB3isFsudljVY/SB8ClIwEud9v2ylwmtjtOMPAQEvyOisfGh2nyeE5reKGKQ/XNkrrK9NOX4Y5X5oUG4kkon/ElJ945AGj8XYweKzbrD1WUGaTDXN1Cv6Aq2jqSJe66ylgY3y9dPgkXI00P104A6dMYu3wjf3Q++zM0eRl9ZjphKwBfPfsGMgJNvdb6D1uPPMLmRyVsXHm0JpOWZuObFlwPFvw9ew6yIlkuPbJiFH2VPGEReRFHKV1AsKeAYGHiyciJgvrgSemEvwXrwXRHBmNr0I+JgYy9PkUnXT+dJaQnKk4rDV/X8r+hHWLRFykCjaGX2FMoN0qhZ6r8ktyLbhvtFOb57uanKJqfCaxmbbdO6coZDaVRJg/AV/lAhy4OQQqnR8mr8XI/P0P88JNiU5PNUnNRHhltrpgqjCLOzr6pJ5+mW0HwDdKLpZ1XrOyyhlxB8JtSmDpWmpubO8I/l5ib64oRrJpp7TJcS3Gxp4I7Vcnqb4G7bSUoXoWvy/9iWmeqdllL33PebmPL/4q2J/gzFc/MmIadqOWZmTHqo2hhmSG/8aOUrxTSQDY5M3NM9XX71f3L5vtlZp4CZeMzrQiWroSMMIJCnPSKsmBBqt/GpuTM1oevYzIzF/F36+DrAP8+Bte7RaqbXRISvCW8bGlARudt4INApNuz6L5uLli/GFwihOgQ6DYE88xxJeBw53gZtxFdl4NvvTMdCMZePdQiNcUd6WkFN6yiX5sEZmYeAu/HZWYua4Wf0dYEfxW4Ls5IEXZ104f+fgTsm5041JN0nVFrQc6KyOXCq3tjqLOHDeU6EhLTNfqPqJTUmr/fYsj2+gZX8nBc0Rz3mnxZeNzLYhZvDK4siPK8iQThKTu5QT1jXOxZznjMHazpGr0oBmalYJ2xU7Dpq/Gal8W3zriFPJuuFrkdtCLamOBv7nh63awkvigiNFUXI1h31sPY56QetZfU/dFTQPCW4GIrWmAP4u0xRhm9ei672soEH8CuOEHBAoa0ZPLrl2SRvvqinnpiPaqn4z1B0l2ubqxTdz+6WWnYBigiMkxPFxeU1PYqdCaFc8lDUsUHg1SompfasyMRvAG3t5zL4QNHuOM3FBQlp4J9yeChDtqTXIdtZxaKOuqjrnIPQByKWnRD9ZWYMpng99m1t2gJWMG8mbJheMrHHfPvJ+PAlooS9PlMEVfMPpYEJuo0CZzCHX+6d7r7gY2itpsKmQqsTjIMZBgAASiq3MueoEaVzhDb/MRHMOF7sXhNY4ujrbvoYb8BsDC+XBDNEZQZjc/cNwc8jP2rvlx+6F1ogYdKvvvvGMNwYGTNT2ipyVEtqOJ5yAvIizwtppoHfXxwvCa7mBUBkff7XnczBNYgFQc5kRnEWWv7XRdoVZJdne2YjtsmjajcYs0lGy2LNh9kpf0u8LEDd5FcYT3uGBJGsE2NuUrigAT7CqxHi3wdSWQSUqfPZ4tA3BoHbKFaV1HNmzlEwPBzEmJaJFq3z/b66HGT9AweI9mJRJ4CVpEFBJNoJGsqeT0uIy9EhdZtK6KNCd6DsjREtNy2ElnjjF4JXlLrFpQ8QkMtjVBmNLjihKLMK4WUbqxO0kzXlirwqBX3kEdgwQewB49fjFdyQgM/CD85tBpMENhwRVx/QYTzNJh586YHmaXGsPAG3716Uwn9+RkMtCeu/Jyvs/VNFw26zCXgj+cKPHJHUYdGJaE0De3vutIwrNgoqODFgVf4L4/izGvtQRbAXYSjH2PzYAAXdd8DcFbUSS81WCXMqqxAubBE2LsQFAfqfhje26jC6egjQxcJ6mU1qPdBgZdsFXH/1sQvQ/BAd7Eh9nNSQPyAsvL4+NYnGNxGWAKCLwqEmkR5r0s394v7gWBQHoOPuHf7fAneHJwwYdIhb6GvAtYZ0wLMmQN6sAfhxcHPkFugbfCrELyKUiX+8VS78/DMzJFdo1tyHzVifcEN5aRM12zwn3osLHebWSYcDc4IGK408cdvl0Vx4JeIWn+CEO1M8ukCj3PgIzZddv8LEFdc75b2xpDx/eEhWEVesB7wBesWxy6A66db7fh/FYILqxYBb+iilup4Ybtm5+W1fL/F4OQ5VUl7X3r2lV5KHB2v3Ny5A8vxrJIj6l1Szap7VZddwqvi7gHwAvtPKeAtAbc6L4bxL2x49pG/W6Xn5QMqK2AGniM/cS5sccidtl5/Uqsd/69CcFVsChmRJvXPY2T7kCquq60BxiAd9l7y8OmkNUnyaVCjA5sEHHH7dgydmSa1o/7mkGBO9DJhWGef9+Q15BlJcnOLfPbQk3G7kKNuX89IpU1qteP/+Qm+XP2trUHFmZ1H9kZuX/babLABgCZKsDQIDvE75R/+pyE/f6z00G4R8J2FHHCIzPy8VP9fymXAv1T37nlxvPmJZZEU/MURzwLuwRem0qnalJ38rrgNxYkeqzci/1pOarXj//kJZlab7G4P+H5RVXF2nN5195l/6P0B5qa0zJ5qxMx0MMD7So+U3+UIgzUU4KL8auw+Pv8J3Ca9eHsD5MvumlCHwTp4pjcyy/VEooDgPQHFd96BvYSkbjyQIXAOTpwyUo/86vXNVjv+X5DgnX7fL1HiprGWJ8uu4HPmC+zhWw+Thw9MUUhcT5vEUUwJdDtSoQ0iSF7I9zQJqrM8GUq7dR8s/MoWOEU6wFGYBUuIcSQeRB60dL1ZFfysBJcLNM3fYATfx/8qAXzBPGmPT9EV878H71iuqrkAiZ4NFrvfr65T2ZIY31Uvuavu2UNqs60DrtiMJN8RJZb9R76e91/XFE/LOpvfQwaNp1OFL2BmwgG1OUiiyMcr0ex+daXclsTPSvAJB05UH07fbkcBM4FjGTJA8TL4V+AF5lIIAnQ4HM5AGZtvxzWfAVvEtgFqIM3BQg7HhVVyfxtIJaAcbQ5HT/TBJQ6nxxB+QT0GZHeWgw8Vg/114UVsm4+Xughj3I9dcNW87bV56DQfPyvBx6aA1+E7/d6yjmNddNo5z/0V9cFYb+cXMR9892eHeJ5HSS/eOFHrWIVqIcwODy8Fv/WnIg8YVXLfKxYcGowVOitPuV6jCmLcItW8E5Na6Dir42cm2MCnCHxm9sQItoQBITGCPw2aG7htU9Y+y9Sr5K2u5BoG2i2M2dmr+09JexZ5H3ERJ7jxy1llEVEDyv6yHQhj3EInQvB/SfBk79LP/eE67CdDjOD1YNcYMHs0KA96f9sSvDeytVNVJFrtBykGRDNDa8u+RCKtNbJ2KrHVmqirbq/di2huTCSaEIkIHpB+YtDovfLkiEb7wbHp4A5CNNE0J5prE20mguuWRN0fpWlbCD8pwQvsbQcIi0VgF30FrLD3JGJ38DkqYp9PN/oCxhCzsCELuxWS7WrDoRl7vX/0sRFTBW4g+MkVbqi4gHxx4FZ8RH3YvaUEon/Az0nw4tijU5YPFMyPhAR79fXCCL7vRLNinPHDCD4TsWpzayRT1opDLM/qGWMi9cKGQxigFFlAAGhMkT5V3JKnZfFTEnxULoTOBUsobDbna7FFKNv4FlghE9Q5EuT1cu5L2AfYBWBibmm/mkwvWg/H6dXusZNsdo9xNX23LvDj9+P/Rc6AWbDOo8jvKj+prmyl5uGnJLgsPx8ad3/Ozzf0CFW3u4498FZ0T+3VLcPB47GLFvMz9hn2v/JWz+eoimq98WnG8/z8xutk8gUb2utTRMXrPMr4/4+DLCEoTKLLFVjQtCJBkdNfM4GO5jDwxZyfAGfpjXQ1/QG7fF1EdR7/vwT3WL1XrvwKmcsNlk5RIgzUIXhyDbme1Da+d3/A9u/gzFdwjvah/q/WvR15bpgll8t9Ak5WVzVsKfzkBN8HwLUcpKpmyMkP79pvr55sQI5NTk7rp6rVhUn+AcXJNy803tW0Gmg5OD6DwpYWT6rET04wEIyiM6TT0qUyUr22eMcvbLzyaMtiSgbYEhS/viXCx23xU34Bgo/mBKkOlZNP6yo7dJ/LERujltlsUzF9KB+AjQq2jRDGrBUSgiGY+pGEtGEaaqkqY2boErzs9Vtms03EzGQ8OHmwRRawJARDMON1QnIoF/9SWgXSM2nWntT6m7Qe5iS25NqzhGAIpm2Elv7hd/5DyKlpzzS9nC1aZrNNwvywDw1x3W4oJARDJHQjEpToBEtUXtbJlWDeW+EMCGsh27fGotAbRW0u1f+9hkJCMMR3P3uyh6XbxrGj/2K9sHaiWdL/9mvHSMfrFlyclBAM8ZFBt3ZEidARO4diTEHsP9CM2zOUhS8CtQwkBEOkGpMIqqwunVDUgamt6GhsCR53baoVVosAamPOd0WJi+v/ah24h6JoWwwn2tParoEoi1rouX+F8TywIITy5gXpeoHngRbachPxjHQz+ebk4YOaw3CVutTWRHta2zUMUELhmzv7z7iFl41iX5CvFnrta5kNNx1PELfI9EpthyagSmV5q6Jdre0ahJG9OInvvtosKo9R9tPW/A+Et5AlWHPwWD2FD51SBnA46xvUYE7VvIBvLndr+WKLoxWs7YRoKYLf5+XFXDngwTpWFskxT07lt3csGkJgjoUnb+fX910cqjFVnmJPBrbCQdWMVrC2E6IFi8/SZrp/+8w88brrGDAlg95im20ycCnrRoGxME6c4V+J4OZY2zUUabA4+JOrWbT2n2Bii4veNxpVyWoQ+mY5JwFwTpRD9vAXIrjR1nZNwC04782nr+Tx/gWgVUWHGgKhiEyjEOfBswW75YT1xIVeB1v4mOrYc/OnSbghVdm7H99u4frgT4wTLbq9JmNVv8YmUgI4FVjCOOQTKiC4OHB3PV9vQTSb4FsWUobZADyq/Ga+0F42tNkHJ4ZPrWBn0CSsHNDoRFmo6VEW2dWzIOoAfmYqLXnaAM0mmDah+JRurjjBRzk4rNybfXBiuNrqimENhFd2/d+pAn6iFZzz7icsuenMCeqqEMNp0zhNswlWxJ6PexzKHlX7ZmtKOLQjvgnMrBsMfvIsGLU66kb0t3j6nnphS3CbZnM3n2CT/diPCBz7f0Mw+Io2xjuDnzodlgivZX1xRgKW0M5Bvdy2rMdoPsG7u1DegHd2Nh2e4LO4rN0/jijduxGtrjhAfVKylAWq+bAE0YQvnH6tLhq82o110t+3jvrx/Y5G8KEZ2D//UqvNFhoEY+QZA4Ao8raWPaYGoGWWC2vyk+iIBOdSmphMybhBssYIvu/fAOWllkXLEKxSw3sdjeC/jFCU1BS1lDduKKqGGiu8BFFPiyzbSKKyAhKCGwqRHnSjcUsgJ+xEfhX1dFZyKytcV0PLEFyTdW9HI7jSx7mREBLMuET2yGjRrNsG4edP2fkpcAaKafBjBmVmNl468Ta+ssC3zvQgxLU5vxKCG4SjLCiX8p62NSeH3OjGZdCBhZ+knpNzqh2qIiUENwCn3b48dbn5kQ7D4U3INygbsJ6fMq2dEhUkBNePE8zPrz4/Rqhn4Qtb3HhwV/3RqDtl4EkB+LAd+/YmPc9pbZIjWwMkBNeL066fwJzsT3TBctYKLjehF3dWvZo4hxUGXu9+8h11GnQa5fKwaVarH2iNkBBcH3ClhtmbmCcq36pijVMzclD3wSrRuwRmle0JCcH14Dztw/f8/Cm6x/hiSSvjRtfT6i/Wl2C78Ro6+/MbK6TV0pAQXA/o758aqrHZOeUxYrPgV8b1mDwF88DYiWA5O0iG1ZLliE2AhOB6wHhOQgJngfK4gBkV770m/1dPq69uR2FefFl/f2+fdq2zkRBcH0ika9GPEudw5h2qIPgtpX4PgS+s42VRyyJX8Jbs9Gu8lFYLQkJwPRh4BaTu5A+ZA86HicJQ/quL+z+rr91zLZQutQxkbgS8tlXk+wESguuHMEtHWM6APZbJnqb1mSxgbcpjFwvatHWWThVICG4ARK7WQwUM04MsGfUQXOBxkB+/QFQC0cZZOlUgIbgh+MLCwxRT0vFXzHXP1etY1n0ZxWY7ZIOJs8GuQGHweX1Sqx9ibZAQ3CAIjGCfqQ6HL76D34bV/tVX5JN5eWRspvQBvKeKyjDar2JOQnDDgBdWPIucgDM7K632L74lwyotBk4wNt4WMiwh+KdHPn1+Ftc5yyIxKystpZZl3btZWVmWnKxjADhlZdlBrdI3lEVZELQ2PVZxSAhuKPLxZSTeEGdGUi383tZJ5nF9eZs8ADjJ4+3Gv/VW0Kr9QtISghsLV4da+L2DTFkDcoeD761s49Q4SAhuJBZR3KaJv64QrbxnvGOyhOBfH/6O5O7cypcfg0V/jYzOzLxRGtbzAZ/5kxRC4pAQ3EgUUp0/J82ueJkfJPprxEVoe5UciDz8yPhZSiGBhOBG4wTTcz+fM0/0sgrBZVFZucPvIo/z6X+3z8HVAAnBjUQMKgQNty0schCoDIGvtEflMaTyJ7SvNzTQPl3Pg5ifwzpEQnCTIahSEJr/fnM/XB63aEls+WH3Dx5XyWbUf4Ob69nRMpAQ3HTg6v7gEixIK/A8wE+YD6BZ9UGWKekF4y3FQkLwr43Da8E43BY4W5tI1F8A5uOzp7lrQLacPlGZ2EdB0kX/2liqv+b0BIALSBf5LkNuj6hQCtvTzlk6VSAhuKlYuiksYQKMNl/67rcTPEb8K6Xg2jlLpwokBDcVf6wsCSJlZtr/WxzAw14+0jte+dn2n+e3SwhuKj7Q/jkdn/uX4rggga53HiJ2Kn8GxVQBJAQ3Ge+ocyeAfF+jUCGb95GHFZ9JCO4IeGMVwlvbaX2qDo+Ha1jfRR7D/5Tt5vHssAly29cC1wQJwc3AXz5ZWV57JmllZa2FbD5FkCcAlMdkZjnaTNwrJ5kH//KA06RC0yC64NVz0o2bpGflcQvB3ER+sImnhOBfG9/z8rZiBM9I9uibB3GFdA2A66SB8/BwlscQFQnBvzYucDj+E2BAerMzh2rM4Vgfwt7k9+/zaonaJRC2iT/n55gLSwhuBk5PmMfh7/cqvEZ6KVgP5g+dcblvxHNoDdNYUdrWgoTgZuC0aVz5QY+CG6TnQEBw+lSwwo/y9jnpeoFH24m61wkJwc3AjZTyUk1jwy6WRF176862RBsSuKtmpzEYnNQk2tg2QRi+FSAhuJk4RUMcAPD8ErwZezFxZO7wM4yPbWd7VT8kBDcT9xxdXTCC/f/EX431pdPzHyH32vmgxCAhuHkoJecdIwIQsE74OpPAYvdyYA9v14MSh4TgZqJU9D8hPuZD1Kuy1GaQENzBISG4g0NCcAfHL2AQLUFz8PMbREvQLPz8BtESNAs/v0G0BM3CL2EQLUHT8UsYREvQdPwSBtESNB0tNA8+Xz19QULwT4EWIlhDTJxzh6B+tk93tKGw6qLeLCg0r7mycvvuvmvz2qvUeW5NXzST4M4yEARpmQZeCjVhX9McpyrQzDTzDavadfeLt7fj7htg8Y6w8969U7vaNFdOASQEt9vuG9BFl8033V+li248JAS32+4b9Ax+4DpAWUJwk/HzEwzKs8LfN2cvEoLbbffNMIhuBCQEt9vum+Ef3AgcmN+89mjzmm9a2667X7arHXffNgSXNtNbqJlyJ8XNLDJp5u6Lmqn336zdN8MgWoJfAc1I2ZHgV4CE4A4OCcEdHBKCOzgkBHdwSAju4JAQ3MHRBgTvMVVi3AIg1041umkBh6a3bIGd31ZqzhG88FB2vtP09st7K9JvN+8EtD7Br5T3fx5vCUp1Vr9AJzZlA01v2QI7L0NkmnMEjnNeZTCa3P6+bM6rIa7NOgFtQPBuCgDFUvnHzAA4adyUDTS9ZQvsfD5bphlHcKUvH3y/2uT2L5X/+TIipFknoA0I/vIGgFMG/KwwAN53qqnGqT40vWXzd/7ANE+mGUewISDBOPhJ09svI0hpvG/WCWiTQRZ/j+4+wI0DoITwuQnNm96y2Tsvd93/TqYZRzBbevm9FJcmt7+tc74w0695J6B1CV6korIavA8iXhTcBR9kmnoHN60lhubtPGsAeCfTjCNYzACgSOZdU9vPwpj9Lv+pWSeg9e/g7/Zjod5QjhUAf/dpygaa3rLZOw9X1lAjaJxv8hHswQguls1vavsZsfD6aHJzHK1P8FabRxjKSnX2FAZPasoGmt6y2Tt//+zZVeln35t8BIUaWz+Pojb5F1xTPfUpg9asE9AGBI8iQLwD/1prNHEy1/SWLbBz2EU3vfkZ6y6eT5refptJF5+nzToBkkhWR4eE4A4OCcEdHBKCOzgkBHdwSAju4JAQ3MEhIbiDQ0JwB4eE4A4OCcEdHBKCOzgkBHdwSAju4JAQ3MEhIbiDQ0JwB4eE4A4OCcEdHBKCOzj+zwm+bdreR9DakBDcwfH/R/A6Cr/MTmTffdtkqlbv46AsSVVjSrseVavh/49gPnXjklDRi9tS0wtHUsB2k0f/ydetnP6r4v+PYHC9V+/nor9vdy0F1y3AFuOr4F1xex5Uq+H/kGDADKv487YJ9n8LUDqvt8GcZuod/qT4PyT4pLXuZdHfcJCFEfzwCf+y7Zb2PKhWw/8fwd/NTq8niWoxhQTPsnn+mLiyXQ+rtfD/R/CUAaDcRWTYLiT4s19ntXjJM1iCXxD/pwRfH4Ajob2Po/Xxf0rw/w8kBHdwSAju4JAQ3MEhIbiDQ0JwB4eE4A4OCcEdHBKCOzgkBHdwSAju4JAQ3MEhIbiDQ0JwB4eE4A4OCcEdHBKCOzj+B3GJAT3kyVkVAAAAAElFTkSuQmCC\">"
      ]
     },
     "metadata": {},
     "output_type": "display_data"
    }
   ],
   "source": [
    "(x, y) = unzip $ map (fromIntegral *** fromIntegral) path :: ([Double], [Double])\n",
    "[rgraph| plot(x_hs, y_hs, type='lines')|]"
   ]
  },
  {
   "cell_type": "code",
   "execution_count": 40,
   "metadata": {},
   "outputs": [],
   "source": [
    "type State = (Double, Double)"
   ]
  },
  {
   "cell_type": "code",
   "execution_count": 41,
   "metadata": {},
   "outputs": [],
   "source": [
    "jump :: State -> RVar State\n",
    "jump (x, y) = do\n",
    "    angle <- uniform 0 (2*pi)\n",
    "    let (dx, dy) = (cos angle, sin angle)\n",
    "    return (x + dx, y + dy)"
   ]
  },
  {
   "cell_type": "code",
   "execution_count": 42,
   "metadata": {},
   "outputs": [],
   "source": [
    "path <- sample $ runH 10000 jump (0, 0)"
   ]
  },
  {
   "cell_type": "code",
   "execution_count": 43,
   "metadata": {},
   "outputs": [
    {
     "data": {
      "text/html": [
       "<style>/* Styles used for the Hoogle display in the pager */\n",
       ".hoogle-doc {\n",
       "display: block;\n",
       "padding-bottom: 1.3em;\n",
       "padding-left: 0.4em;\n",
       "}\n",
       ".hoogle-code {\n",
       "display: block;\n",
       "font-family: monospace;\n",
       "white-space: pre;\n",
       "}\n",
       ".hoogle-text {\n",
       "display: block;\n",
       "}\n",
       ".hoogle-name {\n",
       "color: green;\n",
       "font-weight: bold;\n",
       "}\n",
       ".hoogle-head {\n",
       "font-weight: bold;\n",
       "}\n",
       ".hoogle-sub {\n",
       "display: block;\n",
       "margin-left: 0.4em;\n",
       "}\n",
       ".hoogle-package {\n",
       "font-weight: bold;\n",
       "font-style: italic;\n",
       "}\n",
       ".hoogle-module {\n",
       "font-weight: bold;\n",
       "}\n",
       ".hoogle-class {\n",
       "font-weight: bold;\n",
       "}\n",
       ".get-type {\n",
       "color: green;\n",
       "font-weight: bold;\n",
       "font-family: monospace;\n",
       "display: block;\n",
       "white-space: pre-wrap;\n",
       "}\n",
       ".show-type {\n",
       "color: green;\n",
       "font-weight: bold;\n",
       "font-family: monospace;\n",
       "margin-left: 1em;\n",
       "}\n",
       ".mono {\n",
       "font-family: monospace;\n",
       "display: block;\n",
       "}\n",
       ".err-msg {\n",
       "color: red;\n",
       "font-style: italic;\n",
       "font-family: monospace;\n",
       "white-space: pre;\n",
       "display: block;\n",
       "}\n",
       "#unshowable {\n",
       "color: red;\n",
       "font-weight: bold;\n",
       "}\n",
       ".err-msg.in.collapse {\n",
       "padding-top: 0.7em;\n",
       "}\n",
       ".highlight-code {\n",
       "white-space: pre;\n",
       "font-family: monospace;\n",
       "}\n",
       ".suggestion-warning { \n",
       "font-weight: bold;\n",
       "color: rgb(200, 130, 0);\n",
       "}\n",
       ".suggestion-error { \n",
       "font-weight: bold;\n",
       "color: red;\n",
       "}\n",
       ".suggestion-name {\n",
       "font-weight: bold;\n",
       "}\n",
       "</style><img src=\"data:image/png;base64,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\">\n"
      ],
      "text/plain": [
       "<img src=\"data:image/png;base64,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\">"
      ]
     },
     "metadata": {},
     "output_type": "display_data"
    }
   ],
   "source": [
    "(x, y) = unzip path\n",
    "[rgraph| plot(x_hs, y_hs, type='lines')|]"
   ]
  },
  {
   "cell_type": "markdown",
   "metadata": {},
   "source": [
    "## Snakes & ladders"
   ]
  },
  {
   "cell_type": "code",
   "execution_count": 44,
   "metadata": {},
   "outputs": [],
   "source": [
    "import qualified Data.Vector as V"
   ]
  },
  {
   "cell_type": "code",
   "execution_count": 45,
   "metadata": {},
   "outputs": [],
   "source": [
    "ladders = [(11, 43), (25, 54), (40, 81),\n",
    "           (60, 79), (73, 88)]\n",
    "snakes = [(37, 2), (46, 20), (55, 29),\n",
    "          (61, 8), (68, 13), (72, 49),\n",
    "          (75, 22), (87, 67), (90, 77),\n",
    "          (94, 31), (96, 11)]\n",
    "\n",
    "board = V.fromList [0..100] V.// ladders V.// snakes"
   ]
  },
  {
   "cell_type": "code",
   "execution_count": 46,
   "metadata": {},
   "outputs": [],
   "source": [
    "runUntil :: (a -> Bool) -> (a -> RVar a) -> a -> RVar a\n",
    "runUntil f t x\n",
    "  | f x = return x\n",
    "  | otherwise = t x >>= runUntil f t"
   ]
  },
  {
   "cell_type": "code",
   "execution_count": 47,
   "metadata": {},
   "outputs": [],
   "source": [
    "count :: (a -> RVar a) -> (Int, a) -> RVar (Int, a)\n",
    "count t (k, x) = t x >>= \\x' -> return (k+1, x')"
   ]
  },
  {
   "cell_type": "code",
   "execution_count": 48,
   "metadata": {},
   "outputs": [],
   "source": [
    "move k x = randomElement [1..k] >>= return . go x\n",
    "    where\n",
    "        go x i | x+i <= 100 = board V.! (x+i)\n",
    "               | otherwise  = x\n",
    "game k = fst <$> runUntil ((== 100) . snd) (count (move k)) (0, 0)"
   ]
  },
  {
   "cell_type": "code",
   "execution_count": 49,
   "metadata": {},
   "outputs": [
    {
     "data": {
      "text/plain": [
       "25"
      ]
     },
     "metadata": {},
     "output_type": "display_data"
    }
   ],
   "source": [
    "sample (game 6)"
   ]
  },
  {
   "cell_type": "code",
   "execution_count": 50,
   "metadata": {},
   "outputs": [
    {
     "data": {
      "text/html": [
       "<style>/* Styles used for the Hoogle display in the pager */\n",
       ".hoogle-doc {\n",
       "display: block;\n",
       "padding-bottom: 1.3em;\n",
       "padding-left: 0.4em;\n",
       "}\n",
       ".hoogle-code {\n",
       "display: block;\n",
       "font-family: monospace;\n",
       "white-space: pre;\n",
       "}\n",
       ".hoogle-text {\n",
       "display: block;\n",
       "}\n",
       ".hoogle-name {\n",
       "color: green;\n",
       "font-weight: bold;\n",
       "}\n",
       ".hoogle-head {\n",
       "font-weight: bold;\n",
       "}\n",
       ".hoogle-sub {\n",
       "display: block;\n",
       "margin-left: 0.4em;\n",
       "}\n",
       ".hoogle-package {\n",
       "font-weight: bold;\n",
       "font-style: italic;\n",
       "}\n",
       ".hoogle-module {\n",
       "font-weight: bold;\n",
       "}\n",
       ".hoogle-class {\n",
       "font-weight: bold;\n",
       "}\n",
       ".get-type {\n",
       "color: green;\n",
       "font-weight: bold;\n",
       "font-family: monospace;\n",
       "display: block;\n",
       "white-space: pre-wrap;\n",
       "}\n",
       ".show-type {\n",
       "color: green;\n",
       "font-weight: bold;\n",
       "font-family: monospace;\n",
       "margin-left: 1em;\n",
       "}\n",
       ".mono {\n",
       "font-family: monospace;\n",
       "display: block;\n",
       "}\n",
       ".err-msg {\n",
       "color: red;\n",
       "font-style: italic;\n",
       "font-family: monospace;\n",
       "white-space: pre;\n",
       "display: block;\n",
       "}\n",
       "#unshowable {\n",
       "color: red;\n",
       "font-weight: bold;\n",
       "}\n",
       ".err-msg.in.collapse {\n",
       "padding-top: 0.7em;\n",
       "}\n",
       ".highlight-code {\n",
       "white-space: pre;\n",
       "font-family: monospace;\n",
       "}\n",
       ".suggestion-warning { \n",
       "font-weight: bold;\n",
       "color: rgb(200, 130, 0);\n",
       "}\n",
       ".suggestion-error { \n",
       "font-weight: bold;\n",
       "color: red;\n",
       "}\n",
       ".suggestion-name {\n",
       "font-weight: bold;\n",
       "}\n",
       "</style><img src=\"data:image/png;base64,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\">\n"
      ],
      "text/plain": [
       "<img src=\"data:image/png;base64,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\">"
      ]
     },
     "metadata": {},
     "output_type": "display_data"
    }
   ],
   "source": [
    "ls <- sample $ replicateM 10000 (game 6)\n",
    "dLs = fmap fromIntegral ls :: [Double]\n",
    "[rgraph| hist(dLs_hs, breaks=40)|]"
   ]
  },
  {
   "cell_type": "code",
   "execution_count": 51,
   "metadata": {},
   "outputs": [
    {
     "data": {
      "text/html": [
       "<style>/* Styles used for the Hoogle display in the pager */\n",
       ".hoogle-doc {\n",
       "display: block;\n",
       "padding-bottom: 1.3em;\n",
       "padding-left: 0.4em;\n",
       "}\n",
       ".hoogle-code {\n",
       "display: block;\n",
       "font-family: monospace;\n",
       "white-space: pre;\n",
       "}\n",
       ".hoogle-text {\n",
       "display: block;\n",
       "}\n",
       ".hoogle-name {\n",
       "color: green;\n",
       "font-weight: bold;\n",
       "}\n",
       ".hoogle-head {\n",
       "font-weight: bold;\n",
       "}\n",
       ".hoogle-sub {\n",
       "display: block;\n",
       "margin-left: 0.4em;\n",
       "}\n",
       ".hoogle-package {\n",
       "font-weight: bold;\n",
       "font-style: italic;\n",
       "}\n",
       ".hoogle-module {\n",
       "font-weight: bold;\n",
       "}\n",
       ".hoogle-class {\n",
       "font-weight: bold;\n",
       "}\n",
       ".get-type {\n",
       "color: green;\n",
       "font-weight: bold;\n",
       "font-family: monospace;\n",
       "display: block;\n",
       "white-space: pre-wrap;\n",
       "}\n",
       ".show-type {\n",
       "color: green;\n",
       "font-weight: bold;\n",
       "font-family: monospace;\n",
       "margin-left: 1em;\n",
       "}\n",
       ".mono {\n",
       "font-family: monospace;\n",
       "display: block;\n",
       "}\n",
       ".err-msg {\n",
       "color: red;\n",
       "font-style: italic;\n",
       "font-family: monospace;\n",
       "white-space: pre;\n",
       "display: block;\n",
       "}\n",
       "#unshowable {\n",
       "color: red;\n",
       "font-weight: bold;\n",
       "}\n",
       ".err-msg.in.collapse {\n",
       "padding-top: 0.7em;\n",
       "}\n",
       ".highlight-code {\n",
       "white-space: pre;\n",
       "font-family: monospace;\n",
       "}\n",
       ".suggestion-warning { \n",
       "font-weight: bold;\n",
       "color: rgb(200, 130, 0);\n",
       "}\n",
       ".suggestion-error { \n",
       "font-weight: bold;\n",
       "color: red;\n",
       "}\n",
       ".suggestion-name {\n",
       "font-weight: bold;\n",
       "}\n",
       "</style><img src=\"data:image/png;base64,iVBORw0KGgoAAAANSUhEUgAAAeAAAAHgCAMAAABKCk6nAAAC61BMVEUAAAABAQECAgIDAwMEBAQFBQUGBgYHBwcICAgJCQkKCgoLCwsMDAwNDQ0ODg4PDw8QEBARERESEhITExMUFBQVFRUWFhYXFxcYGBgZGRkaGhobGxscHBwdHR0eHh4fHx8gICAhISEiIiIjIyMkJCQlJSUmJiYnJycoKCgpKSkqKiorKyssLCwtLS0uLi4vLy8wMDAxMTEyMjIzMzM0NDQ1NTU2NjY3Nzc4ODg5OTk6Ojo7Ozs8PDw9PT0+Pj4/Pz9AQEBBQUFCQkJERERFRUVGRkZHR0dISEhJSUlLS0tMTExNTU1OTk5PT09QUFBRUVFSUlJTU1NUVFRVVVVWVlZXV1dYWFhZWVlaWlpbW1tcXFxdXV1eXl5fX19gYGBhYWFiYmJjY2NkZGRlZWVmZmZnZ2doaGhpaWlqampra2tsbGxtbW1ubm5vb29wcHBxcXFycnJzc3N0dHR1dXV2dnZ3d3d4eHh5eXl6enp7e3t8fHx9fX1+fn5/f3+AgICBgYGCgoKDg4OFhYWGhoaHh4eIiIiJiYmKioqLi4uMjIyNjY2Ojo6Pj4+QkJCRkZGSkpKTk5OVlZWWlpaXl5eYmJiZmZmampqbm5udnZ2enp6fn5+goKChoaGioqKkpKSlpaWmpqanp6eoqKipqamqqqqrq6usrKytra2urq6vr6+wsLCxsbGysrKzs7O0tLS1tbW2tra3t7e5ubm6urq7u7u8vLy9vb2+vr6/v7/AwMDBwcHCwsLDw8PExMTFxcXGxsbHx8fIyMjJycnKysrLy8vMzMzNzc3Ozs7Pz8/Q0NDR0dHS0tLT09PU1NTV1dXW1tbX19fY2NjZ2dna2trb29vc3Nzd3d3e3t7f39/g4ODh4eHi4uLj4+Pk5OTl5eXm5ubn5+fo6Ojp6enq6urr6+vs7Ozt7e3u7u7v7+/w8PDx8fHy8vLz8/P09PT19fX29vb39/f4+Pj5+fn6+vr7+/v8/Pz9/f3+/v7////70cMsAAATKklEQVR4nO3df3wU9Z3H8W8IXsjvhGgRYkIbJCiRhIgYkF+BoBVTQVSO41Q4ldZaKvaKaK8Gi60oQsXaSqPt9VpUxOBBWy8YQgumFqxy9FxbjBRQfiUQRX4kJuT7583ufr+TZGd3Z2d3Jjvfz76fj4cwzu/lBbv7TTYzjANpLN4nAM5CYOIQmDgEJg6BiUNg4hCYOAQmDoGJQ2DiEJg4BCYOgYlDYOIQmDgEJg6BiUNg4hCYOAQmDoGJQ2DiEJg4RQN3MrZf+20We4Iz1mnXXt8ZOWCd/j/72CjOR7G6oGueZ8l2HdRhtAKPY02x7PUONnmH/j8IHE+9An/+ebc+O8bAs9imnv9B4HjqCez7o945JePim/ZpfRnbwE8/cHlaWa1W/eS83PJX2Th+lOW9NW4jr5+QkTNjD9/PitYOK3ymqTx9WrN/Z3ID7+b/4ZtzdHZOaW2fwOIIknbUN0oz57YZFriOuoGvKCsry/QHbslKunkqG3b2t19mKw50V7KCWansad59HSufk+ILnF7ANh5KTa4czwq69zP2T6O0/0akszm+fekb/LaMPfCub+8lrKB8QO/A8gjy+OcZGzR6AFtmWOA66gb28wV+k408xpfO3e97it7OCk7zHSz7QiO7ooM/5gvMnmhtb7xhJe8YxE5ogT18Kpvf3cBG+Palb6A9IfhzbmIlZ7u/3juwfgRBC7yJr2VTDAtcR93AvZ6iWwezpIrHjvpfg59l39SW5LOD69hSzv/PF3jQBW3W3344u5Cxo/tZPucLWK32XD3cty99Az1wDavhvLF3YP0IwnmW1MV3afsOXOA6JALztpVjGcv6e6/Ahaz5SfYA53/1vwZrc966KG3B8xnewMO9gX8REFjbQA/8fbaC8z/2eQ2WRxB8R23S9h24wHVIBN5016/4P65j67TAO3kDKzyt1cm6sJmNOMOX6YG/yx7i77AggfUN9MAvsTHn+Dd7B9aPIOiBAxe4DonAb7JBc25NY43aS+stf+2eygpvSmNreEcRK9DeGMvAq1l29ZeS2MeGwPoGemBty+FXM3/gghLN7/QjCHrgwAWuQyIwf2l8VlrpLzh/bYg2TPpsSVFa2QvaMKl5Zubon+uBz9ySduVvKtl6Q+CeDWRgfvDGrNFr/IF9NuhHEHqeogMWuI6igSPR2rTXG+GGeJ9HfBEO/PeBSTVrR7IX4n0e8UU4MK+fmp0+trbbfMWI1cnh90Ybd+osyoGBIzB5CEwcAhOHwMQhMHEITBwCE4fAxCEwcQhMHAITh8DEITBxCEwcAhOHwMQhMHEITBwCE4fAxCEwcQhMHAITF1HgC59dcPo8wCHmgc/XjBzIki9f0d4PZwO2Mw98x8zG1i9O7przb/1wNmA788DZR3y/nb3Y6VMBJ5gHLnvR99tr5U6fCjjBPPDuoaNvv/v2McN298PZgO0ieBfdWb9+1fp62y4ICf0KwyTiMEwiztFh0m9WSS6+mCNxjg6TJtULK9dY3xhs4egwqVJOvI7A8eLoMAmB4y+aYdKrVT7jTashcPxFMkw65b0SUVdL4OyXnzPbEIHjzzzw+yVJRVs4P2BYE4FVYB546qMdO/L3xBZ4w52vCP9j+QwhJuaBU09zvvmarpgCf/9KOSAutnyGEBPzwMVbOe+e/b3YAlcbZkH/MA9clzH5OG8pL0NgJUXwLvponfYk3f7SQ4HzEVgFMXyqEoFVgMDEmQf2SIELEFgF5oErWFq+T+ACBFaBeeDuRfcHX4DAKojgNXjb6uDzowqcUyVc/WQkpwex6u83WTlyYtvK6I8MkUNg4hCYOAQmDoGJQ2DiEJg4BCYOgYlDYOIQmDgEJg6BiUNg4hCYOAQmDoGJQ2DiEJg4BCYOgYlDYOIQmDgEJg6BiYtb4JenLBcei/4UwFQMV5uNLfDq8XuE8biUrYNiuNpsjIFnyKkZCOwg88AhrzaLwCowDxzyarMIrALzwCGvNovAKjAPHPJqswisggjeRYe6KQcCqyB+wyQE7hcYJhGHYRJxGCYRh2EScRgmERfNMEnclGPMg2ZbInD8YZhEHIZJxGGYRByGScRhmEQchknE4btJxMXtU5UI3D8QmDjzwPbelAOB+5l5YHtvyoHA/cw8sL035UDgfhbBa7C9N+WQEwjcP/AmizgEJg6BiUNg4hCYOAQmzgWBK1tPCV9EfzIQggsCD557m9+MR6M/GQjBBYFz5Xci33ok+pOBEBCYOAQmDoGJQ2DiEJg4BCYOgYlDYOIQmDgEJg6BiUNg4hCYOAQmDoGJQ2DiEJg4BCYOgYlDYOJccKU7BHaSC650h8BOcsGV7hDYSS640h0CO8kFV7pDYCe54Ep3COwkF1zpDoGdhGEScRgmEYdhEnHRDJNsvikHAjsJwyTiMEwiDsMk4iL8duGnbcZ5CKwC88DvT5/bWp2SPO1w4AIEVoF54Kn3fzfv4fbzS6sDFyCwCswDpx47nXSe87bMwAUIrALzwIXbmtjbnDeOClyAwCowD/zTi7J+OuzuRTkbAxcgsAoieBe9/wj3PPXEPsN8BFYBPlVJHAITh8DEuSnwf+VVCSPPRX9a0IebAtdOlLOqT0d/WtAHAhOHwMQhMHEITBwCE4fAxCEwcSLwkh1dljdFYBWIwDWlQ+570/i5urAQWAX6U3TzmilD7n3Dyr3HEFgFeuC2jQtzSyYOey3yTRFYBSLwU5Xp1z/7EefbL418UwRWgQi8aJP/j/QM/gUTIwJ3PFfP61YbfkI0LARWgQh859W7+XuTFlnaFIFVIAJnNGu/HMy2tCkCq0AEHvEn7ZemIkubIrAKROANeUueXnrxLy1tisAqkOPgD1Z+veY9a5sisArwzQbiROBtE0d5Wdo0VOCOZkkPhsBxIwIXLt/n0VjaNFTgl6csFtLkLASOGxF4aBQfRA4VeMPP5JReE4HjRgRe/YTF7xVyBFaDCDwpPbPYrtdgBHYTEdjjZ2lTBFaBPkzqOtJtcVMEVoEIfKQqNeNARXOIlaxdbRaB3UQEnv+Ns0Mu1MwItoblq80isJuIwIPb+BB+Ki3YGpavNovAbiICl27RAjeUBFvD8k05ENhNRODGvFtTF17y+2BrWL7aLAK7iXwX3frLx2uPBF3D8tVmEdhNHLjaLAK7iQhc4RdiJQyT1CUCNzU1vfXKtFeCrRGPYdKsQ6eEYH+zwILeT9Eny4KtEY9h0tCp4nI7E/493MmDud6B3zNcUNYr5E05SkP84dsQeIh8v7f322HOHSLQ6zV43MClwdaIxzAJgW3T8xrc1OQJ+u2GeAyTENg27hwmIbBtROD8nGwh+GonThnnIbAKRODnK3ceaap6pq3NeHeVDyr3HqxIvmjKocAFCKwCEfiyj7Vfjl0WbI2KB9tnLznfvuzGwAUIrAIRuOAP2i+7hgZbI+MYv3w/559GfFMOBHYTEXj94IdrHxn8ZLA1Zq7pvne9lm1s4AIEVoF8F/32d+Z9qz7oMOnj8VfcPKByWt6uwAUIrIJIPnT33q9W/2Sz8ZPxCKyCiD50FxwCq8D8Q3chIbAKzD90FxICq8D8Q3chIbAKzD90FxICq8D8Q3chIbAKROAx/2t9UwRWgQj8+H0dljdFYBWIwNOyMy930c8HI7Bt3PnzwQhsG1/g9DbOf/251U0RWAW+wEwLnH3A6qYIrAIEJg6BifMHbti9O/313bsNn4wNC4FV4AucJ1naFIFV4MDFSO0MvCVXvym48fOeEAGXB96o/zzcvGPRn2kiQ2DiEJg4BCYOgYlDYOIQmDgEJg6BiUNg4hCYOAQmDoGJQ2DiEJi4iAL3+9VmEdg25oHjcbVZBLaNeeB4XG0WgW1jHjgeN+VAYNuYB47r1WYROFbmgeN6tVkEjpXLrzaLwLHCMIk4DJOIwzCJuGiGSZv8P2swph9uyoHAsYpmmNTpv6XRi/36L/ia6tuEX5ueMvRQZphU+Ptmv4Z7TE8ZeigzTCrcJyb2I7AVkX67sMnwJhqBlRBp4LzDhlkIrALzwOnJXmxAcuACBFaBeeD3J97W3NKSu7clcAECqyCCp+iuH4/aiqdoVUX0Gvzh9AWZCKymyN5kXVg/r9UwE4FVoMynKhE4OghMHAITh8DEITBxCEwcAhOHwMQhMHHqBf5g5itCXVdU551Y1Au87ZJVwjUfRXXeiUXBwPrdnRYhsDkEJg6BiUNg4hCYOAQmDoGJQ2DiEJg4lQPP/+89wnGLp55AVA5cXL3Y71//xdqZJxKVA49sFBNH5kd+1okGgYlDYOIQmDgEJg6BiUNg4hCYOAQmDoGJU+ZqswgcHWWuNovA0VHmarMIHB1lbsqBwNFR5qYcCBwdda42i8BRUe9qswhsCYZJxGGYRByGScRFM0za7L93woR+vSkHAkcnmmHSF/G4KQcCRwfDJOIwTCIukmHSqW7tly63XPEdgS2J4JL+JUlFWzg/YFjTPYEPXbte+PnZcA8lEZkHnvpox478Pa4O/O4l8spKX5VrgWAeOPW0NjC6psvVgYfLWd9C4ADmgYu3ct49+3sIrCbzwHUZk4/zlvIyBFZSBO+ij9ZpT9LtLz0UOB+BVUDiU5UIHBoCE4fAxBELvFjeRrq5LZKHkACIBS67Xly2Y+GcSB5CAiAWuLROTHx6s8nZJwqygafLSyztMX4fLJFQDXw4fblQ8WeTx0Eb1cCHLpWzHno71ANICAhMHAITh8DEITBxCEwcAhNHP/CS/5Rf8TgU6pFQRj/whBvFVzyWzQz1SCijH7jiRTHRWRX8fGlDYOISKfAE/fsPHcHPnKIECtyeKr//MHl78DOnKIECnx8sZz3WEPzMKUJg4hCYOAQmDoGJQ2DiEJi4hAy8/Hn5FY8frJI+Cf5glGdf4GPyZwrWPStnuTXw9BnySx4Z9cLircEfpPLsC1wufqZg8VUL5Cy3Bq5cazidpxDYICBwpZxYol/zBoHjD4H9Fo6tEr7NSUFgv1k1hsdBAwL7IbAR0cA544TSHZwABPbrFVhOPPcyJwCB/YIEvqNQvu/6iv7lkA+5ahDYL0jgeUvlVJb8csg37pIXxXyVK8K+m3IQDqzPumeGvChmvvyyzuI/cVez76YcCRH4bjmVLb8wu2Km/LLnKrlsz2T53F4h/+nXx+1L3fbdlCOxAuuzHpwpv3Fxqcw6dqG+lnztvmexXOsNOdHwqFz4dJdYvesdufAv3dwm0dyU43X/TTmuW95nvatvE4qHy6lUOTE6X04NkhNjh8iplFvFxPiL9Q2/JiYm5cpZ6TeIicosOStzhpi4IV3OypkkJm7Sj513rZiYmyJnDRlrOJ1hVxlOurDYMKuoyDBrVIFhX1cNM8wqZ1KSPjUwV0jOERPZ+jImZ+VcKXcxWs7KtfS1thhuytHa99PFZ08JrS1y6ricOKnPOnHKMNUz67hhomcq7IYnDKtb3fDEScOGLa2GtVqNs04GebRhDxTRSR83rtWzoeHFMrbAIW/KASqI4aYcoIIYxsGgAgQmDoGJQ2DiEJg4BCYOgYlDYOIQmDj7Ao+rctSI6Y7ufsy1ju5+4lLzP0Bn2BfY4U8jzjvm6O5Xb3F099tXOLr7MBDYD4FNIXAYCGwKgaODwH4IbAqBw6AQ2OErQc4/4eju1/7O0d3/YaWjuw/DvsCnbdtTPHZ/ztlPrFw44+juw8BXsohDYOIQmDgEJg6BiUNg4hCYOAQmzq7Ae8pz7rL0Q1EWzExJSbnJoUN0V3i4vmsHjuDfv5OPwIRNgTuHvfBJVY35elEpbPB4DjlziG2LmEc/eweO4N+/k4/AjE2Bt13JeeNIe/YV6IuUTscOsfr+NI++aweO4N+/k4/AjE2B19/OeevAYFfyiN2HOdVF/3zYqUPke/Szd+QI3v07+wjCsynwqru1v6fsM3t2FmDnFVs9d0506hDeAGLXjhzBu39nH0F4Nv4LPpns3F/OMwNOOHQI+S9Y27UjR/Du38u5RxCeTYHrx3C+a4Q9+wrUtF37i39Rm0OH8AYQu3bkCN79O/sIwrPtXfTmc7c49KmFhpw/frp8ulOHyPfoZ+/IEbz7d/YRhGfXOPjPpXmODfHWDM28+ROnDuF7ChW7duIIvv07+gjCw1eyiENg4hCYOAQmDoGJQ2DiEJg4BCYOgYlDYOIQmDgEJg6BiUNg4hCYOAQmDoGJQ2DiEJg4BCYuwQK3ZfPPWYthtmdUkHVpQGAvBCbhmcsuW6MH7rovJ0+/Opmn+PEvDX+z7zwiEijwjtwdhyv1wBuLD/wlRd6x3ZP0o3PLJvedR0QCBX7gYc536oE3jNzLW+T9Uz1ZnXxfSd95RCRQ4Hm1nB/RA3euHf6Vp+WPGXiKtf9K+s4jIoECL32E8yY98EcHu98du0Es8r7J0gL3mUdEAgXemdd0/PocLfCHbW1t7U+VffyPcbVikQjcZx4RCRSYr8vPfyFfC+xV+1l1eu49+muwP3CfeUQkUuCElNiB9y3wuTfe5+GgxA6cABCYOAQmDoGJQ2DiEJg4BCYOgYlDYOIQmDgEJg6BiUNg4hCYOAQmDoGJQ2Di/h8k4Ytvj8GlVQAAAABJRU5ErkJggg==\">\n"
      ],
      "text/plain": [
       "<img src=\"data:image/png;base64,iVBORw0KGgoAAAANSUhEUgAAAeAAAAHgCAMAAABKCk6nAAAC61BMVEUAAAABAQECAgIDAwMEBAQFBQUGBgYHBwcICAgJCQkKCgoLCwsMDAwNDQ0ODg4PDw8QEBARERESEhITExMUFBQVFRUWFhYXFxcYGBgZGRkaGhobGxscHBwdHR0eHh4fHx8gICAhISEiIiIjIyMkJCQlJSUmJiYnJycoKCgpKSkqKiorKyssLCwtLS0uLi4vLy8wMDAxMTEyMjIzMzM0NDQ1NTU2NjY3Nzc4ODg5OTk6Ojo7Ozs8PDw9PT0+Pj4/Pz9AQEBBQUFCQkJERERFRUVGRkZHR0dISEhJSUlLS0tMTExNTU1OTk5PT09QUFBRUVFSUlJTU1NUVFRVVVVWVlZXV1dYWFhZWVlaWlpbW1tcXFxdXV1eXl5fX19gYGBhYWFiYmJjY2NkZGRlZWVmZmZnZ2doaGhpaWlqampra2tsbGxtbW1ubm5vb29wcHBxcXFycnJzc3N0dHR1dXV2dnZ3d3d4eHh5eXl6enp7e3t8fHx9fX1+fn5/f3+AgICBgYGCgoKDg4OFhYWGhoaHh4eIiIiJiYmKioqLi4uMjIyNjY2Ojo6Pj4+QkJCRkZGSkpKTk5OVlZWWlpaXl5eYmJiZmZmampqbm5udnZ2enp6fn5+goKChoaGioqKkpKSlpaWmpqanp6eoqKipqamqqqqrq6usrKytra2urq6vr6+wsLCxsbGysrKzs7O0tLS1tbW2tra3t7e5ubm6urq7u7u8vLy9vb2+vr6/v7/AwMDBwcHCwsLDw8PExMTFxcXGxsbHx8fIyMjJycnKysrLy8vMzMzNzc3Ozs7Pz8/Q0NDR0dHS0tLT09PU1NTV1dXW1tbX19fY2NjZ2dna2trb29vc3Nzd3d3e3t7f39/g4ODh4eHi4uLj4+Pk5OTl5eXm5ubn5+fo6Ojp6enq6urr6+vs7Ozt7e3u7u7v7+/w8PDx8fHy8vLz8/P09PT19fX29vb39/f4+Pj5+fn6+vr7+/v8/Pz9/f3+/v7////70cMsAAATKklEQVR4nO3df3wU9Z3H8W8IXsjvhGgRYkIbJCiRhIgYkF+BoBVTQVSO41Q4ldZaKvaKaK8Gi60oQsXaSqPt9VpUxOBBWy8YQgumFqxy9FxbjBRQfiUQRX4kJuT7583ufr+TZGd3Z2d3Jjvfz76fj4cwzu/lBbv7TTYzjANpLN4nAM5CYOIQmDgEJg6BiUNg4hCYOAQmDoGJQ2DiEJg4BCYOgYlDYOIQmDgEJg6BiUNg4hCYOAQmDoGJQ2DiEJg4RQN3MrZf+20We4Iz1mnXXt8ZOWCd/j/72CjOR7G6oGueZ8l2HdRhtAKPY02x7PUONnmH/j8IHE+9An/+ebc+O8bAs9imnv9B4HjqCez7o945JePim/ZpfRnbwE8/cHlaWa1W/eS83PJX2Th+lOW9NW4jr5+QkTNjD9/PitYOK3ymqTx9WrN/Z3ID7+b/4ZtzdHZOaW2fwOIIknbUN0oz57YZFriOuoGvKCsry/QHbslKunkqG3b2t19mKw50V7KCWansad59HSufk+ILnF7ANh5KTa4czwq69zP2T6O0/0akszm+fekb/LaMPfCub+8lrKB8QO/A8gjy+OcZGzR6AFtmWOA66gb28wV+k408xpfO3e97it7OCk7zHSz7QiO7ooM/5gvMnmhtb7xhJe8YxE5ogT18Kpvf3cBG+Palb6A9IfhzbmIlZ7u/3juwfgRBC7yJr2VTDAtcR93AvZ6iWwezpIrHjvpfg59l39SW5LOD69hSzv/PF3jQBW3W3344u5Cxo/tZPucLWK32XD3cty99Az1wDavhvLF3YP0IwnmW1MV3afsOXOA6JALztpVjGcv6e6/Ahaz5SfYA53/1vwZrc966KG3B8xnewMO9gX8REFjbQA/8fbaC8z/2eQ2WRxB8R23S9h24wHVIBN5016/4P65j67TAO3kDKzyt1cm6sJmNOMOX6YG/yx7i77AggfUN9MAvsTHn+Dd7B9aPIOiBAxe4DonAb7JBc25NY43aS+stf+2eygpvSmNreEcRK9DeGMvAq1l29ZeS2MeGwPoGemBty+FXM3/gghLN7/QjCHrgwAWuQyIwf2l8VlrpLzh/bYg2TPpsSVFa2QvaMKl5Zubon+uBz9ySduVvKtl6Q+CeDWRgfvDGrNFr/IF9NuhHEHqeogMWuI6igSPR2rTXG+GGeJ9HfBEO/PeBSTVrR7IX4n0e8UU4MK+fmp0+trbbfMWI1cnh90Ybd+osyoGBIzB5CEwcAhOHwMQhMHEITBwCE4fAxCEwcQhMHAITh8DEITBxCEwcAhOHwMQhMHEITBwCE4fAxCEwcQhMHAITF1HgC59dcPo8wCHmgc/XjBzIki9f0d4PZwO2Mw98x8zG1i9O7przb/1wNmA788DZR3y/nb3Y6VMBJ5gHLnvR99tr5U6fCjjBPPDuoaNvv/v2McN298PZgO0ieBfdWb9+1fp62y4ICf0KwyTiMEwiztFh0m9WSS6+mCNxjg6TJtULK9dY3xhs4egwqVJOvI7A8eLoMAmB4y+aYdKrVT7jTashcPxFMkw65b0SUVdL4OyXnzPbEIHjzzzw+yVJRVs4P2BYE4FVYB546qMdO/L3xBZ4w52vCP9j+QwhJuaBU09zvvmarpgCf/9KOSAutnyGEBPzwMVbOe+e/b3YAlcbZkH/MA9clzH5OG8pL0NgJUXwLvponfYk3f7SQ4HzEVgFMXyqEoFVgMDEmQf2SIELEFgF5oErWFq+T+ACBFaBeeDuRfcHX4DAKojgNXjb6uDzowqcUyVc/WQkpwex6u83WTlyYtvK6I8MkUNg4hCYOAQmDoGJQ2DiEJg4BCYOgYlDYOIQmDgEJg6BiUNg4hCYOAQmDoGJQ2DiEJg4BCYOgYlDYOIQmDgEJg6BiYtb4JenLBcei/4UwFQMV5uNLfDq8XuE8biUrYNiuNpsjIFnyKkZCOwg88AhrzaLwCowDxzyarMIrALzwCGvNovAKjAPHPJqswisggjeRYe6KQcCqyB+wyQE7hcYJhGHYRJxGCYRh2EScRgmERfNMEnclGPMg2ZbInD8YZhEHIZJxGGYRByGScRhmEQchknE4btJxMXtU5UI3D8QmDjzwPbelAOB+5l5YHtvyoHA/cw8sL035UDgfhbBa7C9N+WQEwjcP/AmizgEJg6BiUNg4hCYOAQmzgWBK1tPCV9EfzIQggsCD557m9+MR6M/GQjBBYFz5Xci33ok+pOBEBCYOAQmDoGJQ2DiEJg4BCYOgYlDYOIQmDgEJg6BiUNg4hCYOAQmDoGJQ2DiEJg4BCYOgYlDYOJccKU7BHaSC650h8BOcsGV7hDYSS640h0CO8kFV7pDYCe54Ep3COwkF1zpDoGdhGEScRgmEYdhEnHRDJNsvikHAjsJwyTiMEwiDsMk4iL8duGnbcZ5CKwC88DvT5/bWp2SPO1w4AIEVoF54Kn3fzfv4fbzS6sDFyCwCswDpx47nXSe87bMwAUIrALzwIXbmtjbnDeOClyAwCowD/zTi7J+OuzuRTkbAxcgsAoieBe9/wj3PPXEPsN8BFYBPlVJHAITh8DEuSnwf+VVCSPPRX9a0IebAtdOlLOqT0d/WtAHAhOHwMQhMHEITBwCE4fAxCEwcSLwkh1dljdFYBWIwDWlQ+570/i5urAQWAX6U3TzmilD7n3Dyr3HEFgFeuC2jQtzSyYOey3yTRFYBSLwU5Xp1z/7EefbL418UwRWgQi8aJP/j/QM/gUTIwJ3PFfP61YbfkI0LARWgQh859W7+XuTFlnaFIFVIAJnNGu/HMy2tCkCq0AEHvEn7ZemIkubIrAKROANeUueXnrxLy1tisAqkOPgD1Z+veY9a5sisArwzQbiROBtE0d5Wdo0VOCOZkkPhsBxIwIXLt/n0VjaNFTgl6csFtLkLASOGxF4aBQfRA4VeMPP5JReE4HjRgRe/YTF7xVyBFaDCDwpPbPYrtdgBHYTEdjjZ2lTBFaBPkzqOtJtcVMEVoEIfKQqNeNARXOIlaxdbRaB3UQEnv+Ns0Mu1MwItoblq80isJuIwIPb+BB+Ki3YGpavNovAbiICl27RAjeUBFvD8k05ENhNRODGvFtTF17y+2BrWL7aLAK7iXwX3frLx2uPBF3D8tVmEdhNHLjaLAK7iQhc4RdiJQyT1CUCNzU1vfXKtFeCrRGPYdKsQ6eEYH+zwILeT9Eny4KtEY9h0tCp4nI7E/493MmDud6B3zNcUNYr5E05SkP84dsQeIh8v7f322HOHSLQ6zV43MClwdaIxzAJgW3T8xrc1OQJ+u2GeAyTENg27hwmIbBtROD8nGwh+GonThnnIbAKRODnK3ceaap6pq3NeHeVDyr3HqxIvmjKocAFCKwCEfiyj7Vfjl0WbI2KB9tnLznfvuzGwAUIrAIRuOAP2i+7hgZbI+MYv3w/559GfFMOBHYTEXj94IdrHxn8ZLA1Zq7pvne9lm1s4AIEVoF8F/32d+Z9qz7oMOnj8VfcPKByWt6uwAUIrIJIPnT33q9W/2Sz8ZPxCKyCiD50FxwCq8D8Q3chIbAKzD90FxICq8D8Q3chIbAKzD90FxICq8D8Q3chIbAKROAx/2t9UwRWgQj8+H0dljdFYBWIwNOyMy930c8HI7Bt3PnzwQhsG1/g9DbOf/251U0RWAW+wEwLnH3A6qYIrAIEJg6BifMHbti9O/313bsNn4wNC4FV4AucJ1naFIFV4MDFSO0MvCVXvym48fOeEAGXB96o/zzcvGPRn2kiQ2DiEJg4BCYOgYlDYOIQmDgEJg6BiUNg4hCYOAQmDoGJQ2DiEJi4iAL3+9VmEdg25oHjcbVZBLaNeeB4XG0WgW1jHjgeN+VAYNuYB47r1WYROFbmgeN6tVkEjpXLrzaLwLHCMIk4DJOIwzCJuGiGSZv8P2swph9uyoHAsYpmmNTpv6XRi/36L/ia6tuEX5ueMvRQZphU+Ptmv4Z7TE8ZeigzTCrcJyb2I7AVkX67sMnwJhqBlRBp4LzDhlkIrALzwOnJXmxAcuACBFaBeeD3J97W3NKSu7clcAECqyCCp+iuH4/aiqdoVUX0Gvzh9AWZCKymyN5kXVg/r9UwE4FVoMynKhE4OghMHAITh8DEITBxCEwcAhOHwMQhMHHqBf5g5itCXVdU551Y1Au87ZJVwjUfRXXeiUXBwPrdnRYhsDkEJg6BiUNg4hCYOAQmDoGJQ2DiEJg4lQPP/+89wnGLp55AVA5cXL3Y71//xdqZJxKVA49sFBNH5kd+1okGgYlDYOIQmDgEJg6BiUNg4hCYOAQmDoGJU+ZqswgcHWWuNovA0VHmarMIHB1lbsqBwNFR5qYcCBwdda42i8BRUe9qswhsCYZJxGGYRByGScRFM0za7L93woR+vSkHAkcnmmHSF/G4KQcCRwfDJOIwTCIukmHSqW7tly63XPEdgS2J4JL+JUlFWzg/YFjTPYEPXbte+PnZcA8lEZkHnvpox478Pa4O/O4l8spKX5VrgWAeOPW0NjC6psvVgYfLWd9C4ADmgYu3ct49+3sIrCbzwHUZk4/zlvIyBFZSBO+ij9ZpT9LtLz0UOB+BVUDiU5UIHBoCE4fAxBELvFjeRrq5LZKHkACIBS67Xly2Y+GcSB5CAiAWuLROTHx6s8nZJwqygafLSyztMX4fLJFQDXw4fblQ8WeTx0Eb1cCHLpWzHno71ANICAhMHAITh8DEITBxCEwcAhNHP/CS/5Rf8TgU6pFQRj/whBvFVzyWzQz1SCijH7jiRTHRWRX8fGlDYOISKfAE/fsPHcHPnKIECtyeKr//MHl78DOnKIECnx8sZz3WEPzMKUJg4hCYOAQmDoGJQ2DiEJi4hAy8/Hn5FY8frJI+Cf5glGdf4GPyZwrWPStnuTXw9BnySx4Z9cLircEfpPLsC1wufqZg8VUL5Cy3Bq5cazidpxDYICBwpZxYol/zBoHjD4H9Fo6tEr7NSUFgv1k1hsdBAwL7IbAR0cA544TSHZwABPbrFVhOPPcyJwCB/YIEvqNQvu/6iv7lkA+5ahDYL0jgeUvlVJb8csg37pIXxXyVK8K+m3IQDqzPumeGvChmvvyyzuI/cVez76YcCRH4bjmVLb8wu2Km/LLnKrlsz2T53F4h/+nXx+1L3fbdlCOxAuuzHpwpv3Fxqcw6dqG+lnztvmexXOsNOdHwqFz4dJdYvesdufAv3dwm0dyU43X/TTmuW95nvatvE4qHy6lUOTE6X04NkhNjh8iplFvFxPiL9Q2/JiYm5cpZ6TeIicosOStzhpi4IV3OypkkJm7Sj513rZiYmyJnDRlrOJ1hVxlOurDYMKuoyDBrVIFhX1cNM8wqZ1KSPjUwV0jOERPZ+jImZ+VcKXcxWs7KtfS1thhuytHa99PFZ08JrS1y6ricOKnPOnHKMNUz67hhomcq7IYnDKtb3fDEScOGLa2GtVqNs04GebRhDxTRSR83rtWzoeHFMrbAIW/KASqI4aYcoIIYxsGgAgQmDoGJQ2DiEJg4BCYOgYlDYOIQmDj7Ao+rctSI6Y7ufsy1ju5+4lLzP0Bn2BfY4U8jzjvm6O5Xb3F099tXOLr7MBDYD4FNIXAYCGwKgaODwH4IbAqBw6AQ2OErQc4/4eju1/7O0d3/YaWjuw/DvsCnbdtTPHZ/ztlPrFw44+juw8BXsohDYOIQmDgEJg6BiUNg4hCYOAQmzq7Ae8pz7rL0Q1EWzExJSbnJoUN0V3i4vmsHjuDfv5OPwIRNgTuHvfBJVY35elEpbPB4DjlziG2LmEc/eweO4N+/k4/AjE2Bt13JeeNIe/YV6IuUTscOsfr+NI++aweO4N+/k4/AjE2B19/OeevAYFfyiN2HOdVF/3zYqUPke/Szd+QI3v07+wjCsynwqru1v6fsM3t2FmDnFVs9d0506hDeAGLXjhzBu39nH0F4Nv4LPpns3F/OMwNOOHQI+S9Y27UjR/Du38u5RxCeTYHrx3C+a4Q9+wrUtF37i39Rm0OH8AYQu3bkCN79O/sIwrPtXfTmc7c49KmFhpw/frp8ulOHyPfoZ+/IEbz7d/YRhGfXOPjPpXmODfHWDM28+ROnDuF7ChW7duIIvv07+gjCw1eyiENg4hCYOAQmDoGJQ2DiEJg4BCYOgYlDYOIQmDgEJg6BiUNg4hCYOAQmDoGJQ2DiEJg4BCYuwQK3ZfPPWYthtmdUkHVpQGAvBCbhmcsuW6MH7rovJ0+/Opmn+PEvDX+z7zwiEijwjtwdhyv1wBuLD/wlRd6x3ZP0o3PLJvedR0QCBX7gYc536oE3jNzLW+T9Uz1ZnXxfSd95RCRQ4Hm1nB/RA3euHf6Vp+WPGXiKtf9K+s4jIoECL32E8yY98EcHu98du0Es8r7J0gL3mUdEAgXemdd0/PocLfCHbW1t7U+VffyPcbVikQjcZx4RCRSYr8vPfyFfC+xV+1l1eu49+muwP3CfeUQkUuCElNiB9y3wuTfe5+GgxA6cABCYOAQmDoGJQ2DiEJg4BCYOgYlDYOIQmDgEJg6BiUNg4hCYOAQmDoGJQ2Di/h8k4Ytvj8GlVQAAAABJRU5ErkJggg==\">"
      ]
     },
     "metadata": {},
     "output_type": "display_data"
    }
   ],
   "source": [
    "ls <- sample $ replicateM 10000 (game 20)\n",
    "dLs = fmap fromIntegral ls :: [Double]\n",
    "[rgraph| hist(dLs_hs, breaks=40)|]"
   ]
  },
  {
   "cell_type": "markdown",
   "metadata": {},
   "source": [
    "### Snakes & ladders with infinite tree\n",
    "\n",
    "Nice, bit leaks memory."
   ]
  },
  {
   "cell_type": "code",
   "execution_count": 25,
   "metadata": {},
   "outputs": [],
   "source": [
    "import Data.Tree"
   ]
  },
  {
   "cell_type": "code",
   "execution_count": 26,
   "metadata": {},
   "outputs": [],
   "source": [
    "ladders = [(11, 43), (25, 54), (40, 81), \n",
    "           (60, 79), (73, 88)]\n",
    "snakes = [(37, 2), (46, 20), (55, 29), \n",
    "          (61, 8), (68, 13), (72, 49), \n",
    "          (75, 22), (87, 67), (90, 77),\n",
    "          (94, 31), (96, 11)]\n",
    "\n",
    "board = V.fromList [0..100] V.// ladders V.// snakes"
   ]
  },
  {
   "cell_type": "code",
   "execution_count": 27,
   "metadata": {},
   "outputs": [
    {
     "data": {
      "text/plain": [
       "[0,1,2,3,4,5,6,7,8,9,10,43,12,13,14,15,16,17,18,19,20,21,22,23,24,54,26,27,28,29,30,31,32,33,34,35,36,2,38,39,81,41,42,43,44,45,20,47,48,49,50,51,52,53,54,29,56,57,58,59,79,8,62,63,64,65,66,67,13,69,70,71,49,88,74,22,76,77,78,79,80,81,82,83,84,85,86,67,88,89,77,91,92,93,31,95,11,97,98,99,100]"
      ]
     },
     "metadata": {},
     "output_type": "display_data"
    }
   ],
   "source": [
    "board"
   ]
  },
  {
   "cell_type": "code",
   "execution_count": 28,
   "metadata": {},
   "outputs": [],
   "source": [
    "snakeSpace :: Int -> Int -> Tree Int\n",
    "snakeSpace _ 100 = Node 100 []\n",
    "snakeSpace k x = Node x (fmap go [1..k])\n",
    "  where\n",
    "    go i | x+i <= 100 = snakeSpace k (board V.! (x+i)) \n",
    "         | otherwise = snakeSpace k x"
   ]
  },
  {
   "cell_type": "code",
   "execution_count": 29,
   "metadata": {},
   "outputs": [],
   "source": [
    "win (Node 100 _) = True\n",
    "win _ = False"
   ]
  },
  {
   "cell_type": "code",
   "execution_count": 30,
   "metadata": {},
   "outputs": [],
   "source": [
    "randomTreeWalk (Node _ next) = randomElement next\n",
    "\n",
    "move :: (Int, Tree a) -> RVar (Int, Tree a)\n",
    "move (k, s) = randomTreeWalk s >>= \\n -> return (k+1, n)   "
   ]
  },
  {
   "cell_type": "code",
   "execution_count": 31,
   "metadata": {},
   "outputs": [],
   "source": [
    "runUntil :: (a -> Bool) -> (a -> RVar a) -> a -> RVar a\n",
    "runUntil f t x\n",
    "  | f x = return x\n",
    "  | otherwise = t x >>= runUntil f t"
   ]
  },
  {
   "cell_type": "code",
   "execution_count": 36,
   "metadata": {},
   "outputs": [],
   "source": [
    "game k = fst <$> runUntil (win . snd) move (0, snakeSpace k 0)"
   ]
  },
  {
   "cell_type": "code",
   "execution_count": 43,
   "metadata": {},
   "outputs": [
    {
     "data": {
      "text/html": [
       "<style>/* Styles used for the Hoogle display in the pager */\n",
       ".hoogle-doc {\n",
       "display: block;\n",
       "padding-bottom: 1.3em;\n",
       "padding-left: 0.4em;\n",
       "}\n",
       ".hoogle-code {\n",
       "display: block;\n",
       "font-family: monospace;\n",
       "white-space: pre;\n",
       "}\n",
       ".hoogle-text {\n",
       "display: block;\n",
       "}\n",
       ".hoogle-name {\n",
       "color: green;\n",
       "font-weight: bold;\n",
       "}\n",
       ".hoogle-head {\n",
       "font-weight: bold;\n",
       "}\n",
       ".hoogle-sub {\n",
       "display: block;\n",
       "margin-left: 0.4em;\n",
       "}\n",
       ".hoogle-package {\n",
       "font-weight: bold;\n",
       "font-style: italic;\n",
       "}\n",
       ".hoogle-module {\n",
       "font-weight: bold;\n",
       "}\n",
       ".hoogle-class {\n",
       "font-weight: bold;\n",
       "}\n",
       ".get-type {\n",
       "color: green;\n",
       "font-weight: bold;\n",
       "font-family: monospace;\n",
       "display: block;\n",
       "white-space: pre-wrap;\n",
       "}\n",
       ".show-type {\n",
       "color: green;\n",
       "font-weight: bold;\n",
       "font-family: monospace;\n",
       "margin-left: 1em;\n",
       "}\n",
       ".mono {\n",
       "font-family: monospace;\n",
       "display: block;\n",
       "}\n",
       ".err-msg {\n",
       "color: red;\n",
       "font-style: italic;\n",
       "font-family: monospace;\n",
       "white-space: pre;\n",
       "display: block;\n",
       "}\n",
       "#unshowable {\n",
       "color: red;\n",
       "font-weight: bold;\n",
       "}\n",
       ".err-msg.in.collapse {\n",
       "padding-top: 0.7em;\n",
       "}\n",
       ".highlight-code {\n",
       "white-space: pre;\n",
       "font-family: monospace;\n",
       "}\n",
       ".suggestion-warning { \n",
       "font-weight: bold;\n",
       "color: rgb(200, 130, 0);\n",
       "}\n",
       ".suggestion-error { \n",
       "font-weight: bold;\n",
       "color: red;\n",
       "}\n",
       ".suggestion-name {\n",
       "font-weight: bold;\n",
       "}\n",
       "</style><img src=\"data:image/png;base64,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\">\n"
      ],
      "text/plain": [
       "<img src=\"data:image/png;base64,iVBORw0KGgoAAAANSUhEUgAAAeAAAAHgCAMAAABKCk6nAAAC61BMVEUAAAABAQECAgIDAwMEBAQFBQUGBgYHBwcICAgJCQkKCgoLCwsMDAwNDQ0ODg4PDw8QEBARERESEhITExMUFBQVFRUWFhYXFxcYGBgZGRkaGhobGxscHBwdHR0eHh4fHx8gICAhISEiIiIjIyMkJCQlJSUmJiYnJycoKCgpKSkqKiorKyssLCwtLS0uLi4vLy8wMDAxMTEyMjIzMzM0NDQ1NTU3Nzc4ODg5OTk6Ojo7Ozs8PDw9PT0+Pj4/Pz9AQEBBQUFCQkJDQ0NERERFRUVGRkZHR0dISEhJSUlKSkpLS0tMTExNTU1OTk5PT09QUFBRUVFSUlJTU1NUVFRVVVVWVlZXV1dYWFhZWVlaWlpbW1tdXV1eXl5fX19gYGBhYWFiYmJjY2NkZGRlZWVmZmZnZ2doaGhpaWlqampra2tsbGxtbW1vb29wcHBxcXFycnJ0dHR1dXV2dnZ3d3d4eHh5eXl6enp7e3t8fHx9fX1+fn5/f3+AgICBgYGCgoKDg4OEhISFhYWGhoaHh4eIiIiJiYmKioqLi4uMjIyNjY2Ojo6Pj4+QkJCRkZGSkpKTk5OUlJSVlZWWlpaXl5eYmJiZmZmampqbm5ucnJydnZ2enp6fn5+goKChoaGioqKlpaWmpqanp6eoqKipqamqqqqrq6usrKytra2urq6vr6+wsLCxsbGysrKzs7O0tLS1tbW2tra3t7e5ubm6urq7u7u8vLy9vb2+vr6/v7/AwMDBwcHCwsLDw8PExMTFxcXGxsbHx8fIyMjJycnKysrLy8vMzMzNzc3Ozs7Pz8/Q0NDR0dHS0tLT09PU1NTV1dXW1tbX19fY2NjZ2dna2trb29vc3Nzd3d3e3t7f39/g4ODh4eHi4uLj4+Pk5OTl5eXm5ubn5+fo6Ojp6enq6urr6+vs7Ozt7e3u7u7v7+/w8PDx8fHy8vLz8/P09PT19fX29vb39/f4+Pj5+fn6+vr7+/v8/Pz9/f3+/v7///9fDAU/AAASwklEQVR4nO3deXxU5b3H8YcEGsgOoaUkJGhYSwqRpGwCBg3aVpDFGsvFKrXUixaxFVvlhhZrxbJU2+utaYp62wsFWazQ9oZVg7ENLlxahwIpAgKFBKaELes8f96TyZlnJrNwznNmJnOe33w/r5dwOGd+MwfeMpOHTHIYR6RjsT4BFN0ATDwAEw/AxAMw8QBMPAATD8DEAzDxAEw8ABMPwMQDMPEATDwAEw/AxAMw8QBMPAATD8DEAzDxAEw8ABNPUeBWxo5qP93NnueMtUbqXt8flvCS+MUhNoLzEWxr0FteZ4mRetAoRwu4mNWEc68PsMn7xC8AHMt8gC9fdondYQLfzTZ7fwHgWOYFdv9RV09J7T/jkObL2Hre+PjQ5MJKTf3C/X3HvsGK+VmW9W7xJl41ITXz9gP8KMtfm533Ys3YlNvqOu/MM9Ax/ox7z9nZmWMquwDrj+BJe9Q/jUm71xlwwHapCzyysLAwrRO4Pr3HrKks++qOm9jy464Slnt3H7aauyaxsXOS3MApuWzTyT6JJeNYrusoY58Zof03JIXNcd+XGNhRyB7/0H3vBSx3bIIvsOcRPI9/nbHeoxLYkwEHbJe6wJ25gXexYf/kS+496n6K3sNyG/k+ltG+l41s5j90A7PnG5r23rWCN/dm5zVgB5/K5rl2syHu+xID2hNCJ+dmVnDV9YgvsHgEPQ14M1/LpgQcsF3qAvs8RTf0Yz3G//Bs52vwz9mj2pEcduIltoTzv7mBe7dru/7+3Ow8xs4eZTmcz2eV2nP1YPd9iQEBXM7KOd/rCyweQe8669HG92v37X/AdpEA5s4VtzCWfsQHOI/VvcAe5/yvna/B2p53eyXPfyW1A3hwB/BrfsDagABexpZz/k6X12DPI+i5H7VGu2//A7aLBPDmB3/DP5nEXtKAq/lulteo6aS3b2NDrvAnBfD32FL+PgsCLAYE8AY2+hp/1BdYPIKeAPY/YLtIAO9ived8LZnt1V5a5/7VNZXlzUhma3hzPsvVPjD2AK9iGTM/14N9GgAsBgSwNjm4iHUC5xZo/UE8gp4A9j9gu0gA8w3j0pPHvMb5lgHaMunS4vzkwnXaMqluetqoXwngK3OTv/A/JawiANg74AHmJ76SPmpNJ7C79eIR9LxP0X4HbJeiwGZqqDnYgXBXrM8jthEGPtKzR/naYWxdrM8jthEG5lVTM1JuqXQZ39B0Wz3L700RvNPoRhkYcQCTD8DEAzDxAEw8ABMPwMQDMPEATDwAEw/AxAMw8QBMPAATD8DEAzDxAEw8ABMPwMQDMPEATDwAEw/AxAMw8QBMPAATD8DEAzDxAEw8ABMPwMQDMPEATLyoAK9bKVofjftH5osK8Lgq0a3RuH9kvqgAlwTdRLEIwMQDMPEATDwAEw/AxAMw8QBMPAATD8DEAzDxAEw8ABMPwMQDMPEATDwAEw/AxAMw8QBMPAATD8DEAzDxAEw8ABMPwMQDMPEATDwAEw/AxAMw8QBMPFPA7Zfape4UwPbJGPh6+bCeLHHo8ibzdwpg+2QM/MD0vQ0tF/bP+ab5OwWwfTIGzjjj/ulqf/N3CmD7ZAxc+Kr7py1jzd8pgO2TMXDtwFFlD5eNzq41f6cAtk8mPopurapYWVHVKnGnALZPWCYRD8sk4mGZRDwsk4iHZRLxsEwiHpZJxLOyTHqj1F3RilC3B7B9CmOZ9LuXQ40A2D6FsUwCsAqFsUwCsAqFsUwCsAqFsUwCsAqFsUwCsAqZWSZddGk/tNX77wawChkDf1zQI/8tzo8H3BLAKmQMPPU/mvflHACwohkD92nkfNuX2gCsZsbAw7dz7pr9NIDVzBh4a+rkc7x+bCGAlczER9Fnt2pP0k0blvrvB7AKhfHFZwBWIQATD8DEAzDxAEw8ABMPwMQDMPGiDTypThTw+UbUDUUbuM+3RVOtPxSyXLSBM4PuRd0WgIkHYOIBmHgAJh6AiQdg4gGYeAAmHoCJB2DiAZh4ACYegIkHYOIBmHgAJh6AiQdg4gGYeAAmHoCJB2DiAZh4ACYegIkHYOIBmHgAJh6AiQdg4oVx9VEAq1C0L6sD4BgX7cvqADjGRfuyOgCOcdG+rA6AY1y0L6sD4BgX7cvqADjGYZlEPCyTiIdlEvGwTCIelknEwzKJeFaWSUc2unviuVATALZPJj9deN7p84uDFe4W/ijUrQFsn4yBZ5zkpyYk9Jp22v8AnqJVyBg4ycHLHrrasnSO/wEAq5Ap4PzDnDvT/Q8AWIVMAO9unbmD87ez/Q8AWIWMgafnJWWO5Hsy1/ofALAKmfkouuVYNX9vT8BuAKsQ3lVJPAATzxjY4cn/AIBVyBh4PEvOced/AMAqZAzsWvBY8AMAViETr8E7VwXfD2AVwgdZxAMw8QBMPB148b426VEAq5AOXD5mwKJdge9tv2EAViHxFF23ZsqAhX9qkRiVBe5d7KlottQ5ojASwM5ND/UtmJi9xfyoLLB3s+0O84+CwksH/mlJyp0//wfnez5vfhTAKqQDL9jc6P75Cv4GE0sHbn65im9dFfDlRzcMwCqkA3+jqJZ/dOsCqVEAq5AOnFqn/XAiQ2oUwCqkAw95T/uhJl9qFMAqpAOvz1q8ekn/16VGAaxCnnXw4RWPlH8kNwpgFerGTzYAOBbpwDsnjuhIahTAKqQD5z11KNj76m4YgFVIBx54TX4UwCqkA696XvJzhRzAaqQD35qSNhyvwRTTgUO8t/2GAViFxDKp7YxLchTAKqQDnyntk3p8fJ3UKIBVSAee9+9XB7SX3y41CmAV0oH7OfkAfjFZahTAKqQDj3lLA95dIDUKYBXSgfdmfa3PQ5/9o9QogFXI81F0w+vPVp6RGwWwCuGzScTTgcd3JjUKYBXSgWtqat7deNtGqVEAq5DvU/SFQqlRAKuQL/BHaVKjAFYhn9fg4p5LpEYBrELe1+CaGofcpxsArEJYJhFPB87JzNAzPwpgFdKBXympPlNT+qLT6bzxzX0DsArpwIM+1X745yCpUQCrkA6c+7b2w/6BUqMAViEduKLf9yt/0O8FqVEAq5Dno+g/f/f+71SFWiZF5uqjAI5Fxm+6i9jVRwEci4zfdBexq48COBYZv+kuYlcfBXAsMn7TXcSuPgrgWGT8pruIXX0UwLHIxJvuAq4+qgdgFTL1pjssk9RNBx79fyFvEY1lUslFkcy3P0Xy6cDPLmoOdYsoLJNaPlPqadpcqdNFsunAt2WkDQ3x9cFRWCY19xObl2eYPFFkLeOvD47CMgnA3ZcbOMXJ+W8vh7hFFJZJAO6+3MBMA844HuomAcukNzpfPkc/EWoCwPbJBHDkl0kA7r6MgaOwTAJw99UJvLu2NuXN2tqAl9mOorBMAnD35QbO8hTsFlgmKZ3x+6KxTFI6Y2Ask5TOxFc2RP6zSQDuvmLypSsA7r4ATDxjYIcjxD9UA1iFjIHHs+Qcd/4HAKxCxsCuBY8FPwBgFTLxGrxzVfD9AFYhfJBFPAATD8DEAzDxAEw8ABMPwMQDMPEATDwAEw/AxAMw8QBMPAATD8DEAzDxAEw8ABMPwMQDMPFiDlxaJ2q0fi4oVLEGPtf7Pk/3zLN+LihUsQY+O0Bsniuzfi4oVAAmHoCJB2DiAZh4ACYegIkHYOIBmHgAJh6AiQdg4gGYeAAmHoCJB2DiAZh4ACYegIkHYOJFDvgn3xYN8e4FcIyLHPCkA6IM714Ax7jIARs9LwM4JpkCNnXlMwDbMmNgs1c+A7AtMwY2e+UzANsyY2CzVz4DsC2L3JXPwgY+OdS70NpseFrIXJG78lnYwH8bKL7O8O0HDU8LmStyVz4LHzhXbH4C4Ehlo2USgKORjZZJAI5GVpZJZ6rcLVvd5XYAtmVWlklvP+Vu9rIutwOwLbPRMgnA0chOyyQARyEsk4hn8tOF552B+wCsQsbAM07yUxMSek077X8AwCpkDJzk4GUPXW1ZOsf/AIBVyBRw/mHOnen+BwCsQiaAd7fO3KEtfrP9DwBYhYyBp+clZY7kezLX+h8AsAqZ+Si65Vg1f29PwG4Aq5CN3lUJ4GhkU+B5F0XN1s8Q2RW4JlV8k+G7Fls/Q2RX4OqhYvPjRdbPEAGYfAAmHoCJB2DiAZh4ACYegIkHYOIBmHi2B/7gtgrRB9ZPNm6zPfD23I2eXviu9ZON2+wPXCA23wewfAAmHoCJB2DiAZh4ACYegIkHYOIBmHgAJh6AiacS8FvZpZ5K1lk65ThMJeDfFntv8IzcucZvACYegIkHYOIBmHgAJh6AiQdg4gGYeAAmnqLAu/6tShTwPRaRT4oC/9dNKz09/JzcacdZqgJPFpv/+2OT5xufAZh46gP/eoj4JGLpDpOnHkepD7yyVGy+ucbonOMvABOPFPCWp8XVD+uuGZ1+nEQKeNlN4vKld1QYnX6cRAr46Vlic/0vQ553fAVg4lEFXjXZe7XpD0P+FuIgqsCL7xEfbr3wesjfQhxEFnie2HwVwNZSBXiJ95+6CmaI5+1FxwJ+QySLA+AFC8Vm2fwDnpa8xeOiOAN+Qmw+8EXx93ryIU43U8Dtl9qD7FUb+O5ysfmjXZxuxsDXy4f1ZIlDlzf5HyADfI/3L3PRx2Jvi/fCL+e9m//iimUM/MD0vQ0tF/bP+ab/ATLA01aLza8WCevcKeLKL+klYjPnd+KtQru87Je4QVe8t71sdNvIZgycccb909X+Ys+bnb/XSU91uV2R+EO4r493s3ewzXuTxOY93tt+OUVs3pEmNqdkiM0J/cRm8WfF5pjPi81ROWJz+GCxmT9EbOaOEJvZBWJzwC1is/84sdl3ktj0AU5lwUq41/tofUWp3s1k723Ti0WjxNR9472bQ703GCS2irybxVLvcDAGLnzV/dOWsWKP/uTV0PWSVVeDPqWdC7rX8AbnJG7g3XuhXmw2+Gw2iM36C94pn82wT1fm9xP+/Qa8WIYHXDtwVNnDZaOza2XuFtklEx9Ft1ZVrKyoao3+uaAoFMY6GKkQgIkHYOIBmHgAJh6AiQdg4gGYeAAmXuSAi0utdPvNlsYmjrI0VvglS2PDp1oaG2xpqvTWiJF0FDngEuObBKlxpqWxd5ZZGvvPjZbGFh6xNGbtT8TqWIgAbCIAdwRg/wDMARy5sRAB2EQA7gjA/hEDLjW+SZCuzDK+TZD2lxvfJki/3Gxp7BFrXwVh7U/E6liIIgfc2J1j7VcsjV1vsTTWrb81q2Mhwr9kEQ/AxAMw8QBMPAATD8DEAzDxAEy8SAEfGJv5oNQXRbnGO7xjpqe3jUgu+Vh67LWbUmfXyz8Y545kC+c4PSkpaYb82Om70sYftnKSNy5CwK3Z606Xyvzz4c4FzCHGTE+fTdt+adkXZceO9f7zJ3c8Kv1gnLdNTJQ/R5632+E4KT82bvXZJ0osnKRBEQLe+QXO9w6TGFj1WLJDjJme3jqZ8+YeFyXH/lub2jBZ+sE4/9l9ifLn2JLk/jo92bGPRrp400ELJ2lQhIAryjhv6BnsO3mELMchxkxPN57jfN/NLsmx9rb2wwuelH4wfmxEXaL8OR7LnJn/9VPSY7+ZtXDY3BPyJ2lUhIBXPqz9r8sMv5OBbx3A+pjEtGtbzu/lxzawgeekp9qnba9PlD/H6pHbHd+YKD22KuGVI9+ZYOFPxKAI/g2+kGjpb7A2Zn66YU5xrYUx3vB8ofRUxXxen2jlwTi/knBeduwXJZxfT6y38mg3LELAVaM53z9EaqQDWB8zPd1U9HQblx6rfJnzi6xJ9sHuT8vqy7JqZMdq9mh/+Xo5Zce2acDNvS7KjhkWsY+it12bu1xqJMchxkxPbyg8rtUmObY1+++nv1cs/WANp04dTDjVJDu2O/Odfz01TfrRrmVtuLR0ivSYYZFaB/9lTJbkuq0D2DNmdnqp+/vU1EuOuZ4ZkHrnEekH0+p4ipYeWzMwbdZp+bF3xqR++YSVk7xx+Jcs4gGYeAAmHoCJB2DiAZh4ACYegIkHYOIBmHgAJh6AiQdg4gGYeAAmHoCJB2DiAZh4ACYegIkXZ8DODH6Z1QfsdoyIwbl0TwDuCMAkenHQoDUCuG1RZtYKzxHH8Gc/N3hX131EiiPgfX33nSoRwJuGH/8gyfMd7Bw9fnLtycld9xEpjoAf/z7n1QJ4/bCDvN5z/VRHeis/VNB1H5HiCPj+Ss7PCODWtYNvXu352gHHcO2/gq77iBRHwEt+wHmNAP7HCdeHt6zXD3V8kKUBd9lHpDgCrs6qOXdnpgZ8zOl0Nv208NNPiiv1Qzpwl31EiiNg/lJOzrocDbijykszU/p+S7wGdwJ32UekeAKOy+Ib+NB8dwtjfR5RLL6B4yAAEw/AxAMw8QBMPAATD8DEAzDxAEw8ABMPwMQDMPEATDwAEw/AxAMw8QBMvP8HRwHCMUjMTgYAAAAASUVORK5CYII=\">"
      ]
     },
     "metadata": {},
     "output_type": "display_data"
    }
   ],
   "source": [
    "ls <- sample $ replicateM 10000 (game 6)\n",
    "dLs = fmap fromIntegral ls :: [Double]\n",
    "[rgraph| hist(dLs_hs, breaks=40)|]"
   ]
  },
  {
   "cell_type": "code",
   "execution_count": 42,
   "metadata": {},
   "outputs": [
    {
     "data": {
      "text/html": [
       "<style>/* Styles used for the Hoogle display in the pager */\n",
       ".hoogle-doc {\n",
       "display: block;\n",
       "padding-bottom: 1.3em;\n",
       "padding-left: 0.4em;\n",
       "}\n",
       ".hoogle-code {\n",
       "display: block;\n",
       "font-family: monospace;\n",
       "white-space: pre;\n",
       "}\n",
       ".hoogle-text {\n",
       "display: block;\n",
       "}\n",
       ".hoogle-name {\n",
       "color: green;\n",
       "font-weight: bold;\n",
       "}\n",
       ".hoogle-head {\n",
       "font-weight: bold;\n",
       "}\n",
       ".hoogle-sub {\n",
       "display: block;\n",
       "margin-left: 0.4em;\n",
       "}\n",
       ".hoogle-package {\n",
       "font-weight: bold;\n",
       "font-style: italic;\n",
       "}\n",
       ".hoogle-module {\n",
       "font-weight: bold;\n",
       "}\n",
       ".hoogle-class {\n",
       "font-weight: bold;\n",
       "}\n",
       ".get-type {\n",
       "color: green;\n",
       "font-weight: bold;\n",
       "font-family: monospace;\n",
       "display: block;\n",
       "white-space: pre-wrap;\n",
       "}\n",
       ".show-type {\n",
       "color: green;\n",
       "font-weight: bold;\n",
       "font-family: monospace;\n",
       "margin-left: 1em;\n",
       "}\n",
       ".mono {\n",
       "font-family: monospace;\n",
       "display: block;\n",
       "}\n",
       ".err-msg {\n",
       "color: red;\n",
       "font-style: italic;\n",
       "font-family: monospace;\n",
       "white-space: pre;\n",
       "display: block;\n",
       "}\n",
       "#unshowable {\n",
       "color: red;\n",
       "font-weight: bold;\n",
       "}\n",
       ".err-msg.in.collapse {\n",
       "padding-top: 0.7em;\n",
       "}\n",
       ".highlight-code {\n",
       "white-space: pre;\n",
       "font-family: monospace;\n",
       "}\n",
       ".suggestion-warning { \n",
       "font-weight: bold;\n",
       "color: rgb(200, 130, 0);\n",
       "}\n",
       ".suggestion-error { \n",
       "font-weight: bold;\n",
       "color: red;\n",
       "}\n",
       ".suggestion-name {\n",
       "font-weight: bold;\n",
       "}\n",
       "</style><img src=\"data:image/png;base64,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\">\n"
      ],
      "text/plain": [
       "<img src=\"data:image/png;base64,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\">"
      ]
     },
     "metadata": {},
     "output_type": "display_data"
    }
   ],
   "source": [
    "ls <- sample $ replicateM 10000 (game 20)\n",
    "dLs = fmap fromIntegral ls :: [Double]\n",
    "[rgraph| hist(dLs_hs, breaks=40)|]"
   ]
  },
  {
   "cell_type": "markdown",
   "metadata": {},
   "source": [
    "# `Num` typeclass\n",
    "\n",
    "Don't think so. Confusing. Sometime you want to add different, sometimes you want to multiply the same. Can be pretty confusing with stadard syntax."
   ]
  },
  {
   "cell_type": "code",
   "execution_count": 49,
   "metadata": {},
   "outputs": [],
   "source": [
    ":ex TypeSynonymInstances\n",
    ":ex FlexibleInstances"
   ]
  },
  {
   "cell_type": "code",
   "execution_count": 51,
   "metadata": {},
   "outputs": [],
   "source": [
    "import Control.Applicative"
   ]
  },
  {
   "cell_type": "code",
   "execution_count": 61,
   "metadata": {},
   "outputs": [],
   "source": [
    "instance Num a => Num (RVar a) where\n",
    "  (+) = liftA2 (+)\n",
    "  (*) = liftA2 (*)\n",
    "  negate = fmap negate\n",
    "  abs = fmap abs\n",
    "  signum = fmap abs\n",
    "  fromInteger = return . fromInteger"
   ]
  },
  {
   "cell_type": "code",
   "execution_count": 75,
   "metadata": {},
   "outputs": [],
   "source": [
    "dice2 = randomElement [1..6] + randomElement [1..6]"
   ]
  },
  {
   "cell_type": "code",
   "execution_count": 76,
   "metadata": {},
   "outputs": [
    {
     "data": {
      "text/plain": [
       "7"
      ]
     },
     "metadata": {},
     "output_type": "display_data"
    }
   ],
   "source": [
    "sample dice2"
   ]
  }
 ],
 "metadata": {
  "kernelspec": {
   "display_name": "Haskell",
   "language": "haskell",
   "name": "haskell"
  },
  "language_info": {
   "codemirror_mode": "ihaskell",
   "file_extension": ".hs",
   "name": "haskell",
   "version": "8.2.2"
  },
  "toc": {
   "base_numbering": 1,
   "nav_menu": {},
   "number_sections": true,
   "sideBar": true,
   "skip_h1_title": false,
   "title_cell": "Table of Contents",
   "title_sidebar": "Contents",
   "toc_cell": true,
   "toc_position": {},
   "toc_section_display": true,
   "toc_window_display": false
  }
 },
 "nbformat": 4,
 "nbformat_minor": 2
}
