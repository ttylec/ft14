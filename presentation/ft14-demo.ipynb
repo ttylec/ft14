{
 "cells": [
  {
   "cell_type": "markdown",
   "metadata": {
    "toc": true
   },
   "source": [
    "<h1>Table of Contents<span class=\"tocSkip\"></span></h1>\n",
    "<div class=\"toc\"><ul class=\"toc-item\"><li><span><a href=\"#Sampling-random-variables\" data-toc-modified-id=\"Sampling-random-variables-1\"><span class=\"toc-item-num\">1&nbsp;&nbsp;</span>Sampling random variables</a></span></li><li><span><a href=\"#Coin-toss\" data-toc-modified-id=\"Coin-toss-2\"><span class=\"toc-item-num\">2&nbsp;&nbsp;</span>Coin toss</a></span></li><li><span><a href=\"#Monty-Hall-problem\" data-toc-modified-id=\"Monty-Hall-problem-3\"><span class=\"toc-item-num\">3&nbsp;&nbsp;</span>Monty Hall problem</a></span></li><li><span><a href=\"#Compute-$\\pi$\" data-toc-modified-id=\"Compute-$\\pi$-4\"><span class=\"toc-item-num\">4&nbsp;&nbsp;</span>Compute $\\pi$</a></span></li><li><span><a href=\"#Stochastic-processes\" data-toc-modified-id=\"Stochastic-processes-5\"><span class=\"toc-item-num\">5&nbsp;&nbsp;</span>Stochastic processes</a></span><ul class=\"toc-item\"><li><span><a href=\"#Random-walk\" data-toc-modified-id=\"Random-walk-5.1\"><span class=\"toc-item-num\">5.1&nbsp;&nbsp;</span>Random walk</a></span></li><li><span><a href=\"#Snakes-&amp;-ladders\" data-toc-modified-id=\"Snakes-&amp;-ladders-5.2\"><span class=\"toc-item-num\">5.2&nbsp;&nbsp;</span>Snakes &amp; ladders</a></span><ul class=\"toc-item\"><li><span><a href=\"#Snakes-&amp;-ladders-with-infinite-tree\" data-toc-modified-id=\"Snakes-&amp;-ladders-with-infinite-tree-5.2.1\"><span class=\"toc-item-num\">5.2.1&nbsp;&nbsp;</span>Snakes &amp; ladders with infinite tree</a></span></li></ul></li></ul></li><li><span><a href=\"#Num-typeclass\" data-toc-modified-id=\"Num-typeclass-6\"><span class=\"toc-item-num\">6&nbsp;&nbsp;</span><code>Num</code> typeclass</a></span></li></ul></div>"
   ]
  },
  {
   "cell_type": "markdown",
   "metadata": {},
   "source": [
    "We will use [HaskellR](https://github.com/tweag/HaskellR) to have some nice plots when needed"
   ]
  },
  {
   "cell_type": "code",
   "execution_count": 17,
   "metadata": {},
   "outputs": [],
   "source": [
    ":ext QuasiQuotes"
   ]
  },
  {
   "cell_type": "code",
   "execution_count": 18,
   "metadata": {},
   "outputs": [],
   "source": [
    "import qualified H.Prelude as H\n",
    "import Control.Monad\n",
    "H.initialize H.defaultConfig"
   ]
  },
  {
   "cell_type": "markdown",
   "metadata": {},
   "source": [
    "# Sampling random variables"
   ]
  },
  {
   "cell_type": "code",
   "execution_count": 19,
   "metadata": {},
   "outputs": [],
   "source": [
    "import Data.Random"
   ]
  },
  {
   "cell_type": "markdown",
   "metadata": {},
   "source": [
    "Let us remind types:\n",
    "\n",
    "```haskell\n",
    "sample     :: MonadRandom  m   => RVar a -> m a\n",
    "sampleFrom :: RandomSource m s => s -> RVar a -> m a\n",
    "```\n",
    "\n",
    "for sampling and\n",
    "```haskell\n",
    "instance Distribution StdUniform Double\n",
    "instance Distribution Normal Double\n",
    "\n",
    "stdUniform :: Distribution StdUniform a => RVar a\n",
    "normal     :: Distribution Normal a     => a -> a -> RVar a\n",
    "```\n",
    "\n",
    "we can now try to sample few values:"
   ]
  },
  {
   "cell_type": "code",
   "execution_count": 24,
   "metadata": {},
   "outputs": [
    {
     "data": {
      "text/plain": [
       "2.7530415379165563e-2"
      ]
     },
     "metadata": {},
     "output_type": "display_data"
    }
   ],
   "source": [
    "sample stdUniform :: IO Double  -- uniform"
   ]
  },
  {
   "cell_type": "code",
   "execution_count": 26,
   "metadata": {},
   "outputs": [
    {
     "data": {
      "text/plain": [
       "True"
      ]
     },
     "metadata": {},
     "output_type": "display_data"
    }
   ],
   "source": [
    "sample stdUniform :: IO Bool  -- unifor"
   ]
  },
  {
   "cell_type": "code",
   "execution_count": 27,
   "metadata": {},
   "outputs": [
    {
     "data": {
      "text/plain": [
       "1.9772210015522618"
      ]
     },
     "metadata": {},
     "output_type": "display_data"
    }
   ],
   "source": [
    "sample (normal 1 1) :: IO Double  -- normal"
   ]
  },
  {
   "cell_type": "markdown",
   "metadata": {},
   "source": [
    "Since `RVar` is a monad, we can use the whole variety of functions that manimulate monadic values, e.g.:\n",
    "\n",
    "```haskell\n",
    "replicateM :: Monad m => Int -> m a -> m [a]\n",
    "\n",
    "-- specialized for us\n",
    "replicateM :: Int -> RVar a -> RVar [a]\n",
    "```\n",
    "\n",
    "to construct a random variable of list type."
   ]
  },
  {
   "cell_type": "code",
   "execution_count": 28,
   "metadata": {},
   "outputs": [
    {
     "data": {
      "text/plain": [
       "[0.3685645432917104,0.30772605059821645,0.29678726330758765,0.6781379871654991,0.5542588755887883,0.6523544872204408,0.9884006847091482,8.803403976268775e-2,0.22097947761293746,0.6086313633109024]"
      ]
     },
     "metadata": {},
     "output_type": "display_data"
    }
   ],
   "source": [
    "replicateM 10 $ sample stdUniform :: IO [Double] -- 10 uniforms Double"
   ]
  },
  {
   "cell_type": "code",
   "execution_count": null,
   "metadata": {},
   "outputs": [],
   "source": [
    "-- 10 normal Double"
   ]
  },
  {
   "cell_type": "markdown",
   "metadata": {},
   "source": [
    "This tells us nothing. But let's do some simple plots:"
   ]
  },
  {
   "cell_type": "code",
   "execution_count": 29,
   "metadata": {},
   "outputs": [
    {
     "data": {
      "text/html": [
       "<style>/* Styles used for the Hoogle display in the pager */\n",
       ".hoogle-doc {\n",
       "display: block;\n",
       "padding-bottom: 1.3em;\n",
       "padding-left: 0.4em;\n",
       "}\n",
       ".hoogle-code {\n",
       "display: block;\n",
       "font-family: monospace;\n",
       "white-space: pre;\n",
       "}\n",
       ".hoogle-text {\n",
       "display: block;\n",
       "}\n",
       ".hoogle-name {\n",
       "color: green;\n",
       "font-weight: bold;\n",
       "}\n",
       ".hoogle-head {\n",
       "font-weight: bold;\n",
       "}\n",
       ".hoogle-sub {\n",
       "display: block;\n",
       "margin-left: 0.4em;\n",
       "}\n",
       ".hoogle-package {\n",
       "font-weight: bold;\n",
       "font-style: italic;\n",
       "}\n",
       ".hoogle-module {\n",
       "font-weight: bold;\n",
       "}\n",
       ".hoogle-class {\n",
       "font-weight: bold;\n",
       "}\n",
       ".get-type {\n",
       "color: green;\n",
       "font-weight: bold;\n",
       "font-family: monospace;\n",
       "display: block;\n",
       "white-space: pre-wrap;\n",
       "}\n",
       ".show-type {\n",
       "color: green;\n",
       "font-weight: bold;\n",
       "font-family: monospace;\n",
       "margin-left: 1em;\n",
       "}\n",
       ".mono {\n",
       "font-family: monospace;\n",
       "display: block;\n",
       "}\n",
       ".err-msg {\n",
       "color: red;\n",
       "font-style: italic;\n",
       "font-family: monospace;\n",
       "white-space: pre;\n",
       "display: block;\n",
       "}\n",
       "#unshowable {\n",
       "color: red;\n",
       "font-weight: bold;\n",
       "}\n",
       ".err-msg.in.collapse {\n",
       "padding-top: 0.7em;\n",
       "}\n",
       ".highlight-code {\n",
       "white-space: pre;\n",
       "font-family: monospace;\n",
       "}\n",
       ".suggestion-warning { \n",
       "font-weight: bold;\n",
       "color: rgb(200, 130, 0);\n",
       "}\n",
       ".suggestion-error { \n",
       "font-weight: bold;\n",
       "color: red;\n",
       "}\n",
       ".suggestion-name {\n",
       "font-weight: bold;\n",
       "}\n",
       "</style><img src=\"data:image/png;base64,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\">\n"
      ],
      "text/plain": [
       "<img src=\"data:image/png;base64,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\">"
      ]
     },
     "metadata": {},
     "output_type": "display_data"
    }
   ],
   "source": [
    "rs <- sample $ replicateM 10000 stdUniform :: IO [Double]  -- get bigger sample\n",
    "[rgraph|hist(rs_hs)|]  -- plot histogram with R"
   ]
  },
  {
   "cell_type": "code",
   "execution_count": 30,
   "metadata": {},
   "outputs": [
    {
     "data": {
      "text/html": [
       "<style>/* Styles used for the Hoogle display in the pager */\n",
       ".hoogle-doc {\n",
       "display: block;\n",
       "padding-bottom: 1.3em;\n",
       "padding-left: 0.4em;\n",
       "}\n",
       ".hoogle-code {\n",
       "display: block;\n",
       "font-family: monospace;\n",
       "white-space: pre;\n",
       "}\n",
       ".hoogle-text {\n",
       "display: block;\n",
       "}\n",
       ".hoogle-name {\n",
       "color: green;\n",
       "font-weight: bold;\n",
       "}\n",
       ".hoogle-head {\n",
       "font-weight: bold;\n",
       "}\n",
       ".hoogle-sub {\n",
       "display: block;\n",
       "margin-left: 0.4em;\n",
       "}\n",
       ".hoogle-package {\n",
       "font-weight: bold;\n",
       "font-style: italic;\n",
       "}\n",
       ".hoogle-module {\n",
       "font-weight: bold;\n",
       "}\n",
       ".hoogle-class {\n",
       "font-weight: bold;\n",
       "}\n",
       ".get-type {\n",
       "color: green;\n",
       "font-weight: bold;\n",
       "font-family: monospace;\n",
       "display: block;\n",
       "white-space: pre-wrap;\n",
       "}\n",
       ".show-type {\n",
       "color: green;\n",
       "font-weight: bold;\n",
       "font-family: monospace;\n",
       "margin-left: 1em;\n",
       "}\n",
       ".mono {\n",
       "font-family: monospace;\n",
       "display: block;\n",
       "}\n",
       ".err-msg {\n",
       "color: red;\n",
       "font-style: italic;\n",
       "font-family: monospace;\n",
       "white-space: pre;\n",
       "display: block;\n",
       "}\n",
       "#unshowable {\n",
       "color: red;\n",
       "font-weight: bold;\n",
       "}\n",
       ".err-msg.in.collapse {\n",
       "padding-top: 0.7em;\n",
       "}\n",
       ".highlight-code {\n",
       "white-space: pre;\n",
       "font-family: monospace;\n",
       "}\n",
       ".suggestion-warning { \n",
       "font-weight: bold;\n",
       "color: rgb(200, 130, 0);\n",
       "}\n",
       ".suggestion-error { \n",
       "font-weight: bold;\n",
       "color: red;\n",
       "}\n",
       ".suggestion-name {\n",
       "font-weight: bold;\n",
       "}\n",
       "</style><img src=\"data:image/png;base64,iVBORw0KGgoAAAANSUhEUgAAAeAAAAHgCAMAAABKCk6nAAAC3FBMVEUAAAABAQECAgIDAwMEBAQFBQUGBgYHBwcICAgJCQkKCgoLCwsMDAwNDQ0ODg4PDw8QEBARERESEhITExMUFBQVFRUWFhYXFxcYGBgZGRkaGhobGxscHBwdHR0eHh4fHx8gICAhISEiIiIjIyMkJCQlJSUmJiYnJycoKCgpKSkqKiorKyssLCwtLS0uLi4vLy8wMDAxMTEyMjIzMzM0NDQ1NTU3Nzc4ODg5OTk6Ojo7Ozs8PDw9PT0+Pj4/Pz9AQEBBQUFCQkJERERFRUVGRkZHR0dISEhJSUlKSkpLS0tMTExNTU1PT09QUFBRUVFSUlJTU1NUVFRVVVVWVlZXV1dZWVlaWlpbW1tdXV1eXl5fX19gYGBhYWFiYmJjY2NkZGRlZWVmZmZnZ2doaGhpaWlqampra2tsbGxtbW1ubm5vb29wcHBxcXFycnJzc3N0dHR1dXV2dnZ3d3d4eHh5eXl6enp7e3t8fHx+fn5/f3+AgICBgYGCgoKDg4OEhISFhYWGhoaHh4eIiIiJiYmKioqLi4uMjIyNjY2Ojo6Pj4+QkJCRkZGSkpKTk5OUlJSVlZWYmJiZmZmampqbm5udnZ2enp6fn5+goKChoaGioqKjo6OlpaWmpqanp6eoqKipqamqqqqrq6usrKytra2urq6vr6+wsLCxsbGysrKzs7O0tLS1tbW3t7e5ubm6urq7u7u8vLy9vb2+vr6/v7/AwMDBwcHCwsLDw8PExMTFxcXGxsbHx8fIyMjJycnKysrLy8vMzMzNzc3Ozs7Pz8/Q0NDR0dHS0tLT09PU1NTV1dXW1tbX19fY2NjZ2dna2trb29vc3Nzd3d3e3t7f39/g4ODh4eHi4uLj4+Pk5OTl5eXm5ubn5+fo6Ojp6enq6urr6+vs7Ozt7e3u7u7v7+/w8PDx8fHy8vLz8/P09PT19fX29vb39/f4+Pj5+fn6+vr7+/v8/Pz9/f3+/v7///9ii81QAAARnUlEQVR4nO3diXsV1RnH8cNigQRIWCoSBGoggGAIgQoiS5TUKqhRiRYqiFqpUrCt0NYGC22JotSlmgJqFywoS+sWhWjBaOMCoo1lEZVNISEFjZCE5PwDnUxuxmTOzNyZuWfuPfPe3/d5JI/vzJwc7ufhJgM3CeOIdCzRG0DBBmDiAZh4ACYegIkHYOIBmHgAJh6AiQdg4gGYeAAmHoCJB2DiAZh4ACYegIkHYOIBmHgAJh6AiQdg4gGYeKEGbmBsr/ZmOlvBGWuQteo7WR0fsT96mnWS9Y7iEkXgcaw8llVns0mv2R8FcBxrA/zll03GOEbg6ew5h6MAjmPfAOsP+/bJ3fvO2K35MraOn1o4NCVntaZefWOv3GfZOH6U9Xlj3AZeOqF7+uVv870sc1XGoIfLc1On7m9ZrPWC5svvbR5ELois2pr2nl4a3eP6Gm4+oGhhBx6Rk5PTowX4eM8O10xhGbUvfIctPdCUxwZO78Ye5E0TWW5BFx04dSDb8Fm3TnkXs4FNexn71nDtvyGprEBfy7jghRy28L3mScsFrau2vs/TjHUd2ZHdw80HFC3swC3pwK+yrM/5ouv36k/R29jAU/w1ltZYxkbU8ft0YLai6kzZFct4XVd2TAOu5FPYTU1b2RB9LeMC7Qlhkz5pucBYNZIG/BxfxSZz8wFFCztwm6foqt6sw/j7jrZ8DH6U/Vg7MoB9+ghbxPmHOnDXRm30399dO4ixo3vZAM5nsdXac/VgfS3jgjbAzRcYq0Y6zTqc5Tu09cwHFI0QMK9ZNoaxnnvaAA9i++9nCzn/oOVjsDZ545yUWU90bwYe3Az8pAlYu6ANcPMFxqqR9PdUrq1nPqBohICfu/nP/JOJ7BENeDvfygad4v9iPRs3syFf8XsM4J+zxfwdZgFsXGACNlaNZACbDygaIeBXWdeCG1JYmfah9boPmqawQTNS2EO8LpMN1D4xbgVeydKuPrcDOyQAGxeYgI1VIxnA5gOKRgiYP3Nxz5TRT3K+sZ92m3RyQWZKzhrtNml/fo+RfzKAv7ou5cK/5bESAfibC0xP0a2rRvrmKdp0QNFCDeymqvJdzSBXJHofiYo88J7OHYpWZbE1id5HoiIPzEunpKWOWd0U/UTHNrXecm+Qsqn4RR84yQMw8QBMPAATD8DEAzDxAEw8ABMPwMQDMPEATDwAEw/AxAMw8QBMPAATD8DEAzDxAEw8ABMPwMQDMPEATDwAEw/AxAMw8QBMPAATD8DEAzDxAEw8ABMPwMRLcuA/Fos9lehNSS3JgceUik1I9KakluTAeS5n4Q3ArmbhLYmA/3dCbLLFeQAOZzXnzxRLtzgRwOGs6nqLIYDpBGDiAZh4ACYegIkHYOIBmHgAJh6AiQdg4gGYeAAmHoCJB2DiAZh4ACYegIkHYOIBmHgAJh6AiQdg4gGYeAAmHoCJB2DiAZh4ACYegIkHYOIBmHgAJh6AiQdg4gGYeAAmHoCJB2DiAZh4ACYegIkHYOIBmHgAJh6AiQdg4gGYeAAmHoCJB2D7Gk82Br2P4AOwTaeLsjqzTkOXnonDboIMwDbNzi+rqq/eUXBLHHYTZAC2Ke2I/qa2b9BbCTgA25SzVn+zMTforQQcgG2q6D+ycF5hdkZFHHYTZAC2q6G0pLiktCH4vQQbgO1LrtukERY/cvaxoHcXWLhNEupp8SNnw/sJCG6TXM3C+7SN2yRXM8rASXeblGzASXeblGzA4m3SoZZPPLbsCW5bAQRgp47VtPmf8pZbh1lFgexISjXiD/ved63FeQDmfMZn/OCEjudcdth84O+PB7IjGVUOFX/Y95XnW5wIYM67VPLCObX1iwvMBxQG3n2XONszwOJEAOvAmR9pT3o9zQcAHIZcAG9tuPoFzl/PMB8AcBiKDpw/qEv6CL4tfZX5AIDDkJvPouv3bedvbhPGAA5DMbyqEsBhCMCuZpSBK1szHwBwGIoOPJ6lDNAzHwBwGIoO3DT3TusDAA5DLj4Gv7LSeg7gMIRPslzNAKxWADYCsKsZgNUKwEYAdjUDsFoB2AjArmYAVisAGwHY1QzAagVgIwC7mgFYrQBsBGBXMwCrFYCNAOxqBmC1ArARgF3NAKxWADYCsKsZgNUKwEYAdjUDsFoB2AjArmYAVisAGwHY1QzAagVgIwC7mgFYrQBsBGBXMwCrFYCNAOxqBmC1ArARgF3NAKxWADYCsKsZgNUKwEYAdjUDsFoB2AjArmYAVisAGwHY1QzAagVgIwC7mgFYrQBsBGBXMwCrFYCNAOxqBmC1ArARgF3NAKxWADaKAC947aznSwEchiLARaP7zX+1wflUcwAOQ8ZT9P6HJve77aV6D5cCOAwZwDUb5vQadUnGRveXAjgMRYAfyEv93qMfc77tPPeXAjgMRYDnPndKf/sV/gTTBK57vJRvWnnG06UADkMR4B+OreA7L51rc1LjyUaLKYDDUAS4+37tl0/TrM44XZTVmXUaulT44w3gMBQBHvKm9kt5ptUZs/PLquqrdxTcYj4A4DAUAV7XZ8GDi/o+ZXVG2hH9TW1f8wEAh6HW++CPlv2oaKflGTlr9Tcbc80HAByGov9jQ0X/kYXzCrMzKswHAByGIsCvXDK8OctTGkpLiktKxb+oBnAYigAPWrK7UsvmJNwmhR64/9e2Z+A2iRMAXrnC9t8KcZvECQBfmtpjmM3HYNwmcQLAlS1ZnYHbJE4AmPOzR5qsz8BtEicAfGRat+4Hxu+3PEW4Tao/obf2sTjsz18ANooA33RHbb/GosttTjLdJm2ZqTfhZwHvzX8ANooA967h/fiJFKszcJvECQCP/qcGvHWU1Rm4TeIEgMv63NBtzrdftDoDt0mcADCvemr56iOWZ+A2iVMAtg+3SZwA8PiWLE/BvyYRAC4vL39j/dT1ni5NJuBe08QyTsW4y7jU9im6OsfTpckEbDW7rtrbphJTW+CdPazOqKy0+YtqAHvbVGJq8zF4XOdFVmeMZykD9MwHAOxtU4npm4/B5eWVlv/c0DT3TutLAextU4nJxVf4v7LSeg5gb5tKTBHgAelpkdxfCmBvm0pMEeAn8rYfKZ/2cE1NjftLAextU4kpAnz+Ie2Xz8/3dKkiwE0nxHbMF89LbuCBr2u/7Ojv6VJFgLddNFNoosUdfXIDl/T+xepf9r7f06WKAL/8W3G2abQ4S25g/tZPb7yr1OZVWTYB2HljahT9RXe2Adh5Y2rk4kV3dgHYeWNq5OpFd9YB2HljahT9RXe2Adh5Y2oU/UV3tgHYeWNqFP1Fd7YB2HljahT9RXe2Adh5Y2oUAc5+3/ulAHbemBpFgJfPr/N8KYCdN6ZGEeCpaT2G2n2PDrsA7LwxNYr+9cG2Adh5Y2qkA6fWcP7XL71eCmDnjamRDsw04LQDXi8FsPPG1AjAvmcAjk8AdqwFeGtFReqWigrh68scA7DzxtRIB+7TmqdLAey8MTUK/08+A7BjAPY9A3B8ArBjAPY9A3B8ArBjAPY9A3B8ArBjAPY9A3B8ArBjAPY9A3B8ArBjAPY9A3B8ArBjAPY9A3B8ArBjAPY9A3B8ArBjAPY9A3B8ArBjAPY9A3B8ArBjAPY9A3B8ArBjAPY9A3B8ArBjAPY9A3B8ArBjAPY9A3B8ArBjAPY9A3B8ArBjAPY9A3B8ArBjAPY9A3B8ArBjAPY9A3B8ArBjAPY9IwTceLLRYgpg542pUXTg00VZnVmnoUvPmA8A2HljahQdeHZ+WVV99Y6CW8wHAOy8MTWKDpzW8qMcavuaDwDYeWNqFB04Z63+ZmOu+QCAnTemRtGBK/qPLJxXmJ0hfKdSADtvTI1cfBbdUFpSXFLaIMwB7LwxNcJtku8ZFWDcJtnMqADjNslmRgVYvE16dppe9t2B7cpLAHYMt0m+Z1SAcZtkM6MCjNskmxkZ4OaO1YgzADtvTI2iA8/4jB+c0PGcyw6bDwDYeWNqFB24SyUvnFNbv7jAfADAzhtTI1fAmR9xXtPTfADAzhtTIxfAWxuufoHz1zPMBwDsvDE1ig6cP6hL+gi+LX2V+UACgKtLxYqXiOcB2MjNZ9H1+7bzN7cJ4wQAP31DsdD388XzAGwUrldVPrVWnK0AsFMA9j0DsPyUAr5o6jSh/KMWJyY0APueZewTZ3d+YHFiQgOw7xmA5QdgzwHY9wzA8gOw5wDsewZg+QHYcwD2PQOw/ADsOQD7ngFYfgD2HIB9zwAsPwB7DsC+ZwCWH4A9B2DfMwDLD8CeA7DvGYDlB2DPAdj3DMDyA7DnAOx7BmD5AdhzAPY9A7D8AOw5APueAVh+APYcgH3PACw/AHsOwL5nAJYfgD0HYN8zAMsPwJ4DsO8ZgOUHYM8B2PcMwPIDsOcA7HsGYPkB2HMA9j0DsPwA7DkA+54BWH4A9py6wFtvF8srEs9TCvi7ueL3rxz1hsXFcUtd4BVP7he6Ufj5eooBZ28SZ7992eLiuKUw8Ivi7FYAew3AvmcAji0ASwnAvmcAji0ASwnAvmcAji0ASwnAvmcAji0ASwnAvmcAji0ASwnAvmcAji0ASwnAvmcAji0ASwnAvmcAji0AS0kN4LfEH+xdfOU68bxQAi+YZ/G7+8RiwUBSA3jhyvVCY5aL54USeNoPxN/c/KctFgwkRYB3irMryAAXi7M1AAawnADse0YIuPFko8UUwOLMLfDjv3lb7ITFO4m56MCni7I6s05Dl54xH/AJfNjit3bTu+J5pIHn5iwRmnm/xTuJuejAs/PLquqrdxQIj61P4MIF4u/t3A3iebSBbxdn62eJn22v/4/FO/ZUdOC0I/qb2r7GZMtMvYlL2p13TaZYGhPrcNVMoV4TxVn/bHGWmSnORp8nzi5NF2dXpYizmV0tZt1cnpcyXZylTxJn540WZxcMEWfZFg8WS7d4VO+VC5zT8gVfG3ONSf0Jvaq6dufVnhD7wmJ2zO2sWpxVVbm8OJZ3HI9rrX4j1W7fifDBMjbgiv4jC+cVZmdUeFkWqZKLz6IbSkuKS0obgt8LCqAY7oNRGAIw8QBMPAATD8DEAzDxAEw8ABMPwMQLFniS+F2jYmrsWMkLDpa83vDJctebNCdWgmCB8ySvZ/Wd7mJK9gbv2i13vZ0LY10BwFIDcGwB2HMAlhqAYwvAngOw1JINeJrk9f4i++XEsjf4kw/lrvf+3bGuECzwKcnr1dVFP8dTsjf4peT1mmJeEH+TRTwAEw/AxAMw8QBMPAATD8DEAzDxggauTJG63ObhKXkxf0Wl0du56Td7+kquKMndnV7Mj1/AwGcv6SRzuaM9nj/564tkrdaQsebwNIufpeY3ubvTi/3xCxj4DzOlAm+axHldB1nf6uCVCzkvy5K0GJe9O73YH79ggfcN3y8V+NQXnL92QZOk1UoKOa/qbPXtR/wld3fNSXj8AgVuvOz541KBOW/aPOAfstYqnsd5PTspazkud3dczuMXGPCjaWlrSmZxecDNC/KqgnHyvhC9+U9wdSd5f4Ll7k5LxuMX6J/gG3v06cX6lMtb8MzYX52Vt1ppNuc7hshbT+7uuJzHL1DgqoMHd3U8KPFG5JmcA1qyHsWGjM1fX7dU0mJc9u64nMcv6PtguR+DF+vfeea4rOX+PbqPzPtgybvTU/spGiU+ABMPwMQDMPEATDwAEw/AxAMw8QBMPAATD8DEAzDxAEw8ABMPwMQDMPEATDwAEw/AxAMw8ZIeuHJ4oncQbAAGMKkqpy7PPjs/vc8yYzBs+bmDX+XtZpRKOuC0O3ZtGHbg3S6tPxu2ssPvv75nEm83o1TSAXev4+uydvHjrd8zr7JnA989qv2MUkkHPJTzhlWDL3iw9SsaKodp/41qP6NU0gFrn1N9/GnTe2PWtRlowO1mlEpG4AdyDn0ybnWbgQbcbkapZAQ+eXVqr1vr2gw04HYzSiUbcNKVtMC7Z+ndluh9BF3SAidLACYegIkHYOIBmHgAJh6AiQdg4gGYeAAmHoCJB2DiAZh4ACYegIkHYOIBmHj/B0h251ob+yVsAAAAAElFTkSuQmCC\">\n"
      ],
      "text/plain": [
       "<img src=\"data:image/png;base64,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\">"
      ]
     },
     "metadata": {},
     "output_type": "display_data"
    }
   ],
   "source": [
    "rs <- sample $ replicateM 10000 stdNormal :: IO [Double]\n",
    "[rgraph|hist(rs_hs)|]"
   ]
  },
  {
   "cell_type": "markdown",
   "metadata": {},
   "source": [
    "# Coin toss\n",
    "\n",
    "Construct random variable for our custom type, using other predefined random variables."
   ]
  },
  {
   "cell_type": "code",
   "execution_count": 31,
   "metadata": {},
   "outputs": [],
   "source": [
    "import Data.Random.Distribution.Bernoulli (bernoulli)"
   ]
  },
  {
   "cell_type": "markdown",
   "metadata": {},
   "source": [
    "We will use:\n",
    "\n",
    "```haskell\n",
    "bernoulli :: Distribution (Bernoulli b) a => b -> RVar a\n",
    "```\n",
    "\n",
    "which constructs random variable with Bernoulli distribution:\n",
    "\n",
    "- it returns either of two values; `(True, False)` for us;\n",
    "- `True` with probability `p` and `False` with probability `1-p` \n",
    "\n",
    "We will draw Boolean values, so for us it will specialize to:\n",
    "\n",
    "```haskell\n",
    "bernoulli :: Double -> RVar Bool\n",
    "```"
   ]
  },
  {
   "cell_type": "code",
   "execution_count": 32,
   "metadata": {},
   "outputs": [],
   "source": [
    "data Coin = Head | Tail deriving (Bounded, Enum, Show)"
   ]
  },
  {
   "cell_type": "code",
   "execution_count": 34,
   "metadata": {},
   "outputs": [],
   "source": [
    "toss :: RVar Coin\n",
    "toss = do\n",
    "    b <- bernoulli 0.5\n",
    "    case b of\n",
    "      True -> return Head\n",
    "      False -> return Tail"
   ]
  },
  {
   "cell_type": "code",
   "execution_count": 37,
   "metadata": {},
   "outputs": [
    {
     "data": {
      "text/plain": [
       "Head"
      ]
     },
     "metadata": {},
     "output_type": "display_data"
    }
   ],
   "source": [
    "sample toss"
   ]
  },
  {
   "cell_type": "markdown",
   "metadata": {},
   "source": [
    "We can make it simpler for those more familiar with monadic and applicative syntax:"
   ]
  },
  {
   "cell_type": "code",
   "execution_count": 38,
   "metadata": {},
   "outputs": [],
   "source": [
    "bool2Coin :: Bool -> Coin\n",
    "bool2Coin True = Head\n",
    "bool2Coin False = Tail"
   ]
  },
  {
   "cell_type": "code",
   "execution_count": 39,
   "metadata": {},
   "outputs": [
    {
     "data": {
      "text/html": [
       "<style>/* Styles used for the Hoogle display in the pager */\n",
       ".hoogle-doc {\n",
       "display: block;\n",
       "padding-bottom: 1.3em;\n",
       "padding-left: 0.4em;\n",
       "}\n",
       ".hoogle-code {\n",
       "display: block;\n",
       "font-family: monospace;\n",
       "white-space: pre;\n",
       "}\n",
       ".hoogle-text {\n",
       "display: block;\n",
       "}\n",
       ".hoogle-name {\n",
       "color: green;\n",
       "font-weight: bold;\n",
       "}\n",
       ".hoogle-head {\n",
       "font-weight: bold;\n",
       "}\n",
       ".hoogle-sub {\n",
       "display: block;\n",
       "margin-left: 0.4em;\n",
       "}\n",
       ".hoogle-package {\n",
       "font-weight: bold;\n",
       "font-style: italic;\n",
       "}\n",
       ".hoogle-module {\n",
       "font-weight: bold;\n",
       "}\n",
       ".hoogle-class {\n",
       "font-weight: bold;\n",
       "}\n",
       ".get-type {\n",
       "color: green;\n",
       "font-weight: bold;\n",
       "font-family: monospace;\n",
       "display: block;\n",
       "white-space: pre-wrap;\n",
       "}\n",
       ".show-type {\n",
       "color: green;\n",
       "font-weight: bold;\n",
       "font-family: monospace;\n",
       "margin-left: 1em;\n",
       "}\n",
       ".mono {\n",
       "font-family: monospace;\n",
       "display: block;\n",
       "}\n",
       ".err-msg {\n",
       "color: red;\n",
       "font-style: italic;\n",
       "font-family: monospace;\n",
       "white-space: pre;\n",
       "display: block;\n",
       "}\n",
       "#unshowable {\n",
       "color: red;\n",
       "font-weight: bold;\n",
       "}\n",
       ".err-msg.in.collapse {\n",
       "padding-top: 0.7em;\n",
       "}\n",
       ".highlight-code {\n",
       "white-space: pre;\n",
       "font-family: monospace;\n",
       "}\n",
       ".suggestion-warning { \n",
       "font-weight: bold;\n",
       "color: rgb(200, 130, 0);\n",
       "}\n",
       ".suggestion-error { \n",
       "font-weight: bold;\n",
       "color: red;\n",
       "}\n",
       ".suggestion-name {\n",
       "font-weight: bold;\n",
       "}\n",
       "</style><div class=\"suggestion-name\" style=\"clear:both;\">Use <$></div><div class=\"suggestion-row\" style=\"float: left;\"><div class=\"suggestion-warning\">Found:</div><div class=\"highlight-code\" id=\"haskell\">bernoulli 0.5 >>= return . bool2Coin</div></div><div class=\"suggestion-row\" style=\"float: left;\"><div class=\"suggestion-warning\">Why Not:</div><div class=\"highlight-code\" id=\"haskell\">bool2Coin <$> bernoulli 0.5</div></div>"
      ],
      "text/plain": [
       "Line 1: Use <$>\n",
       "Found:\n",
       "bernoulli 0.5 >>= return . bool2Coin\n",
       "Why not:\n",
       "bool2Coin <$> bernoulli 0.5"
      ]
     },
     "metadata": {},
     "output_type": "display_data"
    }
   ],
   "source": [
    "toss = bernoulli 0.5 >>= return . bool2Coin"
   ]
  },
  {
   "cell_type": "code",
   "execution_count": 40,
   "metadata": {},
   "outputs": [],
   "source": [
    "toss = bool2Coin <$> bernoulli 0.5"
   ]
  },
  {
   "cell_type": "code",
   "execution_count": 41,
   "metadata": {},
   "outputs": [],
   "source": [
    "xs <- fmap show <$> sample (replicateM 10000 toss)"
   ]
  },
  {
   "cell_type": "code",
   "execution_count": 42,
   "metadata": {},
   "outputs": [
    {
     "data": {
      "text/plain": [
       "xs_hs\n",
       "Head Tail \n",
       "4972 5028"
      ]
     },
     "metadata": {},
     "output_type": "display_data"
    }
   ],
   "source": [
    "[rprint| table(xs_hs) |]"
   ]
  },
  {
   "cell_type": "markdown",
   "metadata": {},
   "source": [
    "# Monty Hall problem\n",
    "\n",
    "From [wiki]():\n",
    "\n",
    "> Suppose you're on a game show, and you're given the choice of three doors: Behind one door is a car; behind the others, goats. You pick a door, say No. 1, and the host, who knows what's behind the doors, opens another door, say No. 3, which has a goat. He then says to you, \"Do you want to pick door No. 2?\" Is it to your advantage to switch your choice?\n",
    "\n",
    "![img](Monty_open_door.svg.png)"
   ]
  },
  {
   "cell_type": "code",
   "execution_count": 43,
   "metadata": {},
   "outputs": [
    {
     "data": {
      "text/plain": []
     },
     "metadata": {},
     "output_type": "display_data"
    }
   ],
   "source": [
    "import Data.Random.List (randomElement)\n",
    "import Data.List"
   ]
  },
  {
   "cell_type": "markdown",
   "metadata": {},
   "source": [
    "We start with types and utility functions:"
   ]
  },
  {
   "cell_type": "code",
   "execution_count": 44,
   "metadata": {},
   "outputs": [],
   "source": [
    "data Result = Win | Loose deriving (Eq, Show)\n",
    "data Door = First | Second | Third deriving (Bounded, Enum, Eq, Show)\n",
    "\n",
    "result :: Door -> Door -> Result\n",
    "result prize choice | prize == choice = Win\n",
    "                    | otherwise       = Loose\n",
    "doors = [minBound..maxBound]"
   ]
  },
  {
   "cell_type": "markdown",
   "metadata": {},
   "source": [
    "Now, we implement two strategies:"
   ]
  },
  {
   "cell_type": "code",
   "execution_count": 46,
   "metadata": {},
   "outputs": [],
   "source": [
    "mhChange :: RVar Result\n",
    "mhChange = do\n",
    "    prize <- randomElement doors\n",
    "    choice <- randomElement doors\n",
    "    open <- randomElement (doors \\\\ [prize, choice])\n",
    "    let change = head $ doors \\\\ [choice, open]\n",
    "    return $ result prize change "
   ]
  },
  {
   "cell_type": "code",
   "execution_count": 48,
   "metadata": {},
   "outputs": [],
   "source": [
    "mhKeep :: RVar Result\n",
    "mhKeep = do\n",
    "    prize <- randomElement doors\n",
    "    choice <- randomElement doors\n",
    "    return $ result prize choice"
   ]
  },
  {
   "cell_type": "code",
   "execution_count": 49,
   "metadata": {},
   "outputs": [],
   "source": [
    "mhKeep = result <$> randomElement doors <*> randomElement doors"
   ]
  },
  {
   "cell_type": "markdown",
   "metadata": {},
   "source": [
    "Now, small utility function that compute frequency on `Win` results in the list:"
   ]
  },
  {
   "cell_type": "code",
   "execution_count": 50,
   "metadata": {},
   "outputs": [],
   "source": [
    "winFreq :: [Result] -> Double\n",
    "winFreq rs = let l = fromIntegral . length\n",
    "                 w = l $ filter (==Win) rs\n",
    "             in w / l rs"
   ]
  },
  {
   "cell_type": "code",
   "execution_count": 51,
   "metadata": {},
   "outputs": [
    {
     "data": {
      "text/plain": [
       "0.6654"
      ]
     },
     "metadata": {},
     "output_type": "display_data"
    }
   ],
   "source": [
    "change <- sample $ replicateM 10000 mhChange\n",
    "winFreq change"
   ]
  },
  {
   "cell_type": "code",
   "execution_count": 52,
   "metadata": {},
   "outputs": [
    {
     "data": {
      "text/plain": [
       "0.3335"
      ]
     },
     "metadata": {},
     "output_type": "display_data"
    }
   ],
   "source": [
    "keep <- sample $ replicateM 10000 mhKeep\n",
    "winFreq keep"
   ]
  },
  {
   "cell_type": "markdown",
   "metadata": {},
   "source": [
    "# Compute $\\pi$\n",
    "\n",
    "A very basic (and inefficient) way to approximate $\\pi$.\n",
    "\n",
    "<img src=\"pi.jpg\" width=\"400px\">"
   ]
  },
  {
   "cell_type": "code",
   "execution_count": 53,
   "metadata": {},
   "outputs": [],
   "source": [
    "inCircle :: Double -> Double -> Bool\n",
    "inCircle x y = x^2 + y^2 <= 1"
   ]
  },
  {
   "cell_type": "code",
   "execution_count": 56,
   "metadata": {},
   "outputs": [],
   "source": [
    "areaMC :: [Bool] -> Double\n",
    "areaMC ps = let l = fromIntegral . length \n",
    "            in l (filter id ps) / l ps"
   ]
  },
  {
   "cell_type": "code",
   "execution_count": 57,
   "metadata": {},
   "outputs": [],
   "source": [
    "point = inCircle <$> stdUniform <*> stdUniform"
   ]
  },
  {
   "cell_type": "code",
   "execution_count": 58,
   "metadata": {},
   "outputs": [],
   "source": [
    "piMC n = (*4) . areaMC <$> sample (replicateM n point)"
   ]
  },
  {
   "cell_type": "code",
   "execution_count": 59,
   "metadata": {},
   "outputs": [
    {
     "data": {
      "text/plain": [
       "3.141448"
      ]
     },
     "metadata": {},
     "output_type": "display_data"
    }
   ],
   "source": [
    "piMC 1000000"
   ]
  },
  {
   "cell_type": "markdown",
   "metadata": {},
   "source": [
    "# Stochastic processes\n",
    "\n",
    "Let's just generalize type, in obvious way, *because we can*:"
   ]
  },
  {
   "cell_type": "code",
   "execution_count": 63,
   "metadata": {},
   "outputs": [],
   "source": [
    "run :: Int -> (a -> RVar a) -> a -> RVar a\n",
    "run n t s0 = t s0 >>= run (n-1) t"
   ]
  },
  {
   "cell_type": "markdown",
   "metadata": {},
   "source": [
    "We may also need a variant that remembrs whole history (here, in reverse order, but it doesn't matter)"
   ]
  },
  {
   "cell_type": "code",
   "execution_count": 64,
   "metadata": {},
   "outputs": [],
   "source": [
    "runH :: Int -> (a -> RVar a) -> a -> RVar [a]\n",
    "runH n t x = runH' n t [x]\n",
    "\n",
    "runH' :: Int -> (a -> RVar a) -> [a] -> RVar [a]\n",
    "runH' 0 _ xs = return xs\n",
    "runH' _ _ [] = return []\n",
    "runH' n t h@(x:_) = do\n",
    "  next <- t x\n",
    "  runH' (n-1) t (next:h)"
   ]
  },
  {
   "cell_type": "markdown",
   "metadata": {},
   "source": [
    "## Random walk\n",
    "\n",
    "Now, we implement what we discussed:"
   ]
  },
  {
   "cell_type": "code",
   "execution_count": 65,
   "metadata": {},
   "outputs": [],
   "source": [
    "type State = (Int, Int)"
   ]
  },
  {
   "cell_type": "markdown",
   "metadata": {},
   "source": [
    "Randomly select one of 8 directions:"
   ]
  },
  {
   "cell_type": "code",
   "execution_count": 66,
   "metadata": {},
   "outputs": [],
   "source": [
    "jump :: State -> RVar State\n",
    "jump (x, y) = do\n",
    "    (dx, dy) <- randomElement [(0, 1), (1, 1), (1, 0), (1, -1), \n",
    "                               (0, -1), (-1, -1), (-1, 0), (-1, 1)]\n",
    "    return (x + dx, y + dy)"
   ]
  },
  {
   "cell_type": "code",
   "execution_count": 67,
   "metadata": {},
   "outputs": [],
   "source": [
    "path <- sample $ runH 10000 jump (0, 0)"
   ]
  },
  {
   "cell_type": "code",
   "execution_count": 68,
   "metadata": {},
   "outputs": [],
   "source": [
    "import Control.Arrow"
   ]
  },
  {
   "cell_type": "code",
   "execution_count": 69,
   "metadata": {},
   "outputs": [
    {
     "data": {
      "text/html": [
       "<style>/* Styles used for the Hoogle display in the pager */\n",
       ".hoogle-doc {\n",
       "display: block;\n",
       "padding-bottom: 1.3em;\n",
       "padding-left: 0.4em;\n",
       "}\n",
       ".hoogle-code {\n",
       "display: block;\n",
       "font-family: monospace;\n",
       "white-space: pre;\n",
       "}\n",
       ".hoogle-text {\n",
       "display: block;\n",
       "}\n",
       ".hoogle-name {\n",
       "color: green;\n",
       "font-weight: bold;\n",
       "}\n",
       ".hoogle-head {\n",
       "font-weight: bold;\n",
       "}\n",
       ".hoogle-sub {\n",
       "display: block;\n",
       "margin-left: 0.4em;\n",
       "}\n",
       ".hoogle-package {\n",
       "font-weight: bold;\n",
       "font-style: italic;\n",
       "}\n",
       ".hoogle-module {\n",
       "font-weight: bold;\n",
       "}\n",
       ".hoogle-class {\n",
       "font-weight: bold;\n",
       "}\n",
       ".get-type {\n",
       "color: green;\n",
       "font-weight: bold;\n",
       "font-family: monospace;\n",
       "display: block;\n",
       "white-space: pre-wrap;\n",
       "}\n",
       ".show-type {\n",
       "color: green;\n",
       "font-weight: bold;\n",
       "font-family: monospace;\n",
       "margin-left: 1em;\n",
       "}\n",
       ".mono {\n",
       "font-family: monospace;\n",
       "display: block;\n",
       "}\n",
       ".err-msg {\n",
       "color: red;\n",
       "font-style: italic;\n",
       "font-family: monospace;\n",
       "white-space: pre;\n",
       "display: block;\n",
       "}\n",
       "#unshowable {\n",
       "color: red;\n",
       "font-weight: bold;\n",
       "}\n",
       ".err-msg.in.collapse {\n",
       "padding-top: 0.7em;\n",
       "}\n",
       ".highlight-code {\n",
       "white-space: pre;\n",
       "font-family: monospace;\n",
       "}\n",
       ".suggestion-warning { \n",
       "font-weight: bold;\n",
       "color: rgb(200, 130, 0);\n",
       "}\n",
       ".suggestion-error { \n",
       "font-weight: bold;\n",
       "color: red;\n",
       "}\n",
       ".suggestion-name {\n",
       "font-weight: bold;\n",
       "}\n",
       "</style><img src=\"data:image/png;base64,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\">\n"
      ],
      "text/plain": [
       "<img src=\"data:image/png;base64,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\">"
      ]
     },
     "metadata": {},
     "output_type": "display_data"
    }
   ],
   "source": [
    "(x, y) = unzip $ map (fromIntegral *** fromIntegral) path :: ([Double], [Double])\n",
    "[rgraph| plot(x_hs, y_hs, type='lines')|]"
   ]
  },
  {
   "cell_type": "code",
   "execution_count": 70,
   "metadata": {},
   "outputs": [],
   "source": [
    "type State = (Double, Double)"
   ]
  },
  {
   "cell_type": "code",
   "execution_count": 71,
   "metadata": {},
   "outputs": [],
   "source": [
    "jump :: State -> RVar State\n",
    "jump (x, y) = do\n",
    "    angle <- uniform 0 (2*pi)\n",
    "    let (dx, dy) = (cos angle, sin angle)\n",
    "    return (x + dx, y + dy)"
   ]
  },
  {
   "cell_type": "code",
   "execution_count": 77,
   "metadata": {},
   "outputs": [],
   "source": [
    "path <- sample $ runH 10000 jump (0, 0)"
   ]
  },
  {
   "cell_type": "code",
   "execution_count": 78,
   "metadata": {},
   "outputs": [
    {
     "data": {
      "text/html": [
       "<style>/* Styles used for the Hoogle display in the pager */\n",
       ".hoogle-doc {\n",
       "display: block;\n",
       "padding-bottom: 1.3em;\n",
       "padding-left: 0.4em;\n",
       "}\n",
       ".hoogle-code {\n",
       "display: block;\n",
       "font-family: monospace;\n",
       "white-space: pre;\n",
       "}\n",
       ".hoogle-text {\n",
       "display: block;\n",
       "}\n",
       ".hoogle-name {\n",
       "color: green;\n",
       "font-weight: bold;\n",
       "}\n",
       ".hoogle-head {\n",
       "font-weight: bold;\n",
       "}\n",
       ".hoogle-sub {\n",
       "display: block;\n",
       "margin-left: 0.4em;\n",
       "}\n",
       ".hoogle-package {\n",
       "font-weight: bold;\n",
       "font-style: italic;\n",
       "}\n",
       ".hoogle-module {\n",
       "font-weight: bold;\n",
       "}\n",
       ".hoogle-class {\n",
       "font-weight: bold;\n",
       "}\n",
       ".get-type {\n",
       "color: green;\n",
       "font-weight: bold;\n",
       "font-family: monospace;\n",
       "display: block;\n",
       "white-space: pre-wrap;\n",
       "}\n",
       ".show-type {\n",
       "color: green;\n",
       "font-weight: bold;\n",
       "font-family: monospace;\n",
       "margin-left: 1em;\n",
       "}\n",
       ".mono {\n",
       "font-family: monospace;\n",
       "display: block;\n",
       "}\n",
       ".err-msg {\n",
       "color: red;\n",
       "font-style: italic;\n",
       "font-family: monospace;\n",
       "white-space: pre;\n",
       "display: block;\n",
       "}\n",
       "#unshowable {\n",
       "color: red;\n",
       "font-weight: bold;\n",
       "}\n",
       ".err-msg.in.collapse {\n",
       "padding-top: 0.7em;\n",
       "}\n",
       ".highlight-code {\n",
       "white-space: pre;\n",
       "font-family: monospace;\n",
       "}\n",
       ".suggestion-warning { \n",
       "font-weight: bold;\n",
       "color: rgb(200, 130, 0);\n",
       "}\n",
       ".suggestion-error { \n",
       "font-weight: bold;\n",
       "color: red;\n",
       "}\n",
       ".suggestion-name {\n",
       "font-weight: bold;\n",
       "}\n",
       "</style><img src=\"data:image/png;base64,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\">\n"
      ],
      "text/plain": [
       "<img src=\"data:image/png;base64,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\">"
      ]
     },
     "metadata": {},
     "output_type": "display_data"
    }
   ],
   "source": [
    "(x, y) = unzip path\n",
    "[rgraph| plot(x_hs, y_hs, type='lines')|]"
   ]
  },
  {
   "cell_type": "markdown",
   "metadata": {},
   "source": [
    "## Snakes & ladders"
   ]
  },
  {
   "cell_type": "code",
   "execution_count": 81,
   "metadata": {},
   "outputs": [],
   "source": [
    "import qualified Data.Vector as V"
   ]
  },
  {
   "cell_type": "code",
   "execution_count": 82,
   "metadata": {},
   "outputs": [],
   "source": [
    "ladders = [(11, 43), (25, 54), (40, 81),\n",
    "           (60, 79), (73, 88)]\n",
    "snakes = [(37, 2), (46, 20), (55, 29),\n",
    "          (61, 8), (68, 13), (72, 49),\n",
    "          (75, 22), (87, 67), (90, 77),\n",
    "          (94, 31), (96, 11)]\n",
    "\n",
    "board = V.fromList [0..100] V.// ladders V.// snakes"
   ]
  },
  {
   "cell_type": "code",
   "execution_count": 83,
   "metadata": {},
   "outputs": [
    {
     "data": {
      "text/plain": [
       "[0,1,2,3,4,5,6,7,8,9,10,43,12,13,14,15,16,17,18,19,20,21,22,23,24,54,26,27,28,29,30,31,32,33,34,35,36,2,38,39,81,41,42,43,44,45,20,47,48,49,50,51,52,53,54,29,56,57,58,59,79,8,62,63,64,65,66,67,13,69,70,71,49,88,74,22,76,77,78,79,80,81,82,83,84,85,86,67,88,89,77,91,92,93,31,95,11,97,98,99,100]"
      ]
     },
     "metadata": {},
     "output_type": "display_data"
    }
   ],
   "source": [
    "board"
   ]
  },
  {
   "cell_type": "code",
   "execution_count": 84,
   "metadata": {},
   "outputs": [],
   "source": [
    "runUntil :: (a -> Bool) -> (a -> RVar a) -> a -> RVar a\n",
    "runUntil f t x\n",
    "  | f x = return x\n",
    "  | otherwise = t x >>= runUntil f t"
   ]
  },
  {
   "cell_type": "code",
   "execution_count": 85,
   "metadata": {},
   "outputs": [],
   "source": [
    "count :: (a -> RVar a) -> (Int, a) -> RVar (Int, a)\n",
    "count t (k, x) = t x >>= \\x' -> return (k+1, x')"
   ]
  },
  {
   "cell_type": "code",
   "execution_count": 87,
   "metadata": {},
   "outputs": [],
   "source": [
    "move k x = randomElement [1..k] >>= return . go x\n",
    "    where\n",
    "        go x i | x+i <= 100 = board V.! (x+i)\n",
    "               | otherwise  = x\n",
    "game k = fst <$> runUntil ((== 100) . snd) (count (move k)) (0, 0)"
   ]
  },
  {
   "cell_type": "code",
   "execution_count": 89,
   "metadata": {},
   "outputs": [
    {
     "data": {
      "text/html": [
       "<style>/* Styles used for the Hoogle display in the pager */\n",
       ".hoogle-doc {\n",
       "display: block;\n",
       "padding-bottom: 1.3em;\n",
       "padding-left: 0.4em;\n",
       "}\n",
       ".hoogle-code {\n",
       "display: block;\n",
       "font-family: monospace;\n",
       "white-space: pre;\n",
       "}\n",
       ".hoogle-text {\n",
       "display: block;\n",
       "}\n",
       ".hoogle-name {\n",
       "color: green;\n",
       "font-weight: bold;\n",
       "}\n",
       ".hoogle-head {\n",
       "font-weight: bold;\n",
       "}\n",
       ".hoogle-sub {\n",
       "display: block;\n",
       "margin-left: 0.4em;\n",
       "}\n",
       ".hoogle-package {\n",
       "font-weight: bold;\n",
       "font-style: italic;\n",
       "}\n",
       ".hoogle-module {\n",
       "font-weight: bold;\n",
       "}\n",
       ".hoogle-class {\n",
       "font-weight: bold;\n",
       "}\n",
       ".get-type {\n",
       "color: green;\n",
       "font-weight: bold;\n",
       "font-family: monospace;\n",
       "display: block;\n",
       "white-space: pre-wrap;\n",
       "}\n",
       ".show-type {\n",
       "color: green;\n",
       "font-weight: bold;\n",
       "font-family: monospace;\n",
       "margin-left: 1em;\n",
       "}\n",
       ".mono {\n",
       "font-family: monospace;\n",
       "display: block;\n",
       "}\n",
       ".err-msg {\n",
       "color: red;\n",
       "font-style: italic;\n",
       "font-family: monospace;\n",
       "white-space: pre;\n",
       "display: block;\n",
       "}\n",
       "#unshowable {\n",
       "color: red;\n",
       "font-weight: bold;\n",
       "}\n",
       ".err-msg.in.collapse {\n",
       "padding-top: 0.7em;\n",
       "}\n",
       ".highlight-code {\n",
       "white-space: pre;\n",
       "font-family: monospace;\n",
       "}\n",
       ".suggestion-warning { \n",
       "font-weight: bold;\n",
       "color: rgb(200, 130, 0);\n",
       "}\n",
       ".suggestion-error { \n",
       "font-weight: bold;\n",
       "color: red;\n",
       "}\n",
       ".suggestion-name {\n",
       "font-weight: bold;\n",
       "}\n",
       "</style><span class='get-type'>game :: Int -> RVarT Identity Int</span>"
      ],
      "text/plain": [
       "game :: Int -> RVarT Identity Int"
      ]
     },
     "metadata": {},
     "output_type": "display_data"
    }
   ],
   "source": [
    ":t game"
   ]
  },
  {
   "cell_type": "code",
   "execution_count": 93,
   "metadata": {},
   "outputs": [
    {
     "data": {
      "text/plain": [
       "23"
      ]
     },
     "metadata": {},
     "output_type": "display_data"
    }
   ],
   "source": [
    "sample (game 6)"
   ]
  },
  {
   "cell_type": "code",
   "execution_count": 94,
   "metadata": {},
   "outputs": [
    {
     "data": {
      "text/html": [
       "<style>/* Styles used for the Hoogle display in the pager */\n",
       ".hoogle-doc {\n",
       "display: block;\n",
       "padding-bottom: 1.3em;\n",
       "padding-left: 0.4em;\n",
       "}\n",
       ".hoogle-code {\n",
       "display: block;\n",
       "font-family: monospace;\n",
       "white-space: pre;\n",
       "}\n",
       ".hoogle-text {\n",
       "display: block;\n",
       "}\n",
       ".hoogle-name {\n",
       "color: green;\n",
       "font-weight: bold;\n",
       "}\n",
       ".hoogle-head {\n",
       "font-weight: bold;\n",
       "}\n",
       ".hoogle-sub {\n",
       "display: block;\n",
       "margin-left: 0.4em;\n",
       "}\n",
       ".hoogle-package {\n",
       "font-weight: bold;\n",
       "font-style: italic;\n",
       "}\n",
       ".hoogle-module {\n",
       "font-weight: bold;\n",
       "}\n",
       ".hoogle-class {\n",
       "font-weight: bold;\n",
       "}\n",
       ".get-type {\n",
       "color: green;\n",
       "font-weight: bold;\n",
       "font-family: monospace;\n",
       "display: block;\n",
       "white-space: pre-wrap;\n",
       "}\n",
       ".show-type {\n",
       "color: green;\n",
       "font-weight: bold;\n",
       "font-family: monospace;\n",
       "margin-left: 1em;\n",
       "}\n",
       ".mono {\n",
       "font-family: monospace;\n",
       "display: block;\n",
       "}\n",
       ".err-msg {\n",
       "color: red;\n",
       "font-style: italic;\n",
       "font-family: monospace;\n",
       "white-space: pre;\n",
       "display: block;\n",
       "}\n",
       "#unshowable {\n",
       "color: red;\n",
       "font-weight: bold;\n",
       "}\n",
       ".err-msg.in.collapse {\n",
       "padding-top: 0.7em;\n",
       "}\n",
       ".highlight-code {\n",
       "white-space: pre;\n",
       "font-family: monospace;\n",
       "}\n",
       ".suggestion-warning { \n",
       "font-weight: bold;\n",
       "color: rgb(200, 130, 0);\n",
       "}\n",
       ".suggestion-error { \n",
       "font-weight: bold;\n",
       "color: red;\n",
       "}\n",
       ".suggestion-name {\n",
       "font-weight: bold;\n",
       "}\n",
       "</style><img src=\"data:image/png;base64,iVBORw0KGgoAAAANSUhEUgAAAeAAAAHgCAMAAABKCk6nAAAC5VBMVEUAAAABAQECAgIDAwMEBAQFBQUGBgYHBwcICAgJCQkKCgoLCwsMDAwNDQ0ODg4PDw8QEBARERESEhITExMUFBQVFRUWFhYXFxcYGBgZGRkaGhobGxscHBwdHR0eHh4fHx8gICAhISEiIiIjIyMkJCQlJSUmJiYnJycoKCgpKSkqKiorKyssLCwtLS0uLi4vLy8wMDAxMTEyMjIzMzM0NDQ1NTU2NjY3Nzc4ODg5OTk6Ojo7Ozs8PDw9PT0+Pj4/Pz9AQEBBQUFCQkJDQ0NERERFRUVGRkZHR0dISEhJSUlKSkpLS0tMTExNTU1PT09QUFBRUVFSUlJTU1NUVFRVVVVWVlZXV1dYWFhZWVlaWlpbW1tdXV1eXl5fX19gYGBhYWFiYmJjY2NkZGRlZWVmZmZnZ2doaGhpaWlqampra2tsbGxtbW1vb29wcHBxcXFycnJ0dHR1dXV2dnZ3d3d4eHh5eXl6enp7e3t8fHx9fX1+fn5/f3+AgICCgoKDg4OEhISFhYWGhoaHh4eIiIiJiYmKioqLi4uMjIyNjY2Ojo6Pj4+QkJCRkZGSkpKTk5OUlJSVlZWYmJiZmZmampqbm5udnZ2enp6fn5+goKChoaGioqKjo6OkpKSlpaWmpqanp6eoqKipqamqqqqrq6usrKytra2urq6vr6+wsLCxsbGysrKzs7O0tLS1tbW2tra3t7e5ubm6urq7u7u8vLy9vb2+vr6/v7/AwMDBwcHCwsLDw8PExMTFxcXGxsbHx8fIyMjJycnKysrLy8vMzMzNzc3Ozs7Pz8/Q0NDR0dHS0tLT09PU1NTV1dXW1tbX19fY2NjZ2dna2trb29vc3Nzd3d3e3t7f39/g4ODh4eHi4uLj4+Pk5OTl5eXm5ubn5+fo6Ojp6enq6urr6+vs7Ozt7e3u7u7v7+/w8PDx8fHy8vLz8/P09PT19fX29vb39/f4+Pj5+fn6+vr7+/v8/Pz9/f3+/v7////AFpWcAAAStElEQVR4nO3dfXwU9YHH8R8ELpAHEoyFkpCA4bFQiCF6UUQMNmhbnsXY1ifw1KoVOIHaekG9HrQ8nNpqLvjQ6x0cFMFWr154Foxe8Aql7VIBERAoJJACAnn+/X2bzWRmsnmYh33I/L77/bxekmFmfzOTvrvZ/ZHdHSEZdKK7T4BFNgKDR2DwCAwegcEjMHgEBo/A4BEYPAKDR2DwCAwegcEjMHgEBo/A4BEYPAKDR2DwCAwegcEjMHgEBk9R4HohDvu/TBPLpRD14drrJyN6vqz/5aAYJeUosbnDW14TceE6aITDAs4T5aHs9QExaZf+FwJ3Zybgy5eb9NUhAk8Tm4y/ELg7M4AD/1PvuT3p+ukH/b5CrJOXFgxPyCn1q5+/r3/ur0WePCPSPszbKMtuSUq9c588LLLXpGe9VJ6beMfRlp21Dmge/uPAmjOzUseXtgHWjtCa/6jvj0++p7rdBs+lLvDonJyc5Bbgyn49Zk4W6VfeGyqWHWsqEJnT+opVsmmiyJ0dHwBOzBQbT/SNK7hZZDYdFuLvRvn/G5YoZgf2pQ94L0cs+H1g72NFZm5PM3DrEVqPf02IPmN6isXtNngudYFbCgBvEyP+KhfeczjwI3qHyLwkd4mUxp1idK18PgAsllfV7Lz7BVnbR5zzA/vkZPHdpu1iWGBf+gD/D4QWzk1i7JWmx83A+hG0/MCb5Bpxe7sNnktdYNOP6KrrRI/858+0PAa/Ip70b8kQx18WC6X8UwC4T6N/1V9+MitLiDOHRYaU94tS/8/qIYF96QN04GJRLOVOM7B+BK1rokeD3Ovfd/AGzwUBLKtfuFGIfp+agLPE0Z+KBVL+seUx2L/mw94J97+W1Aw8pBn4jSBg/wAd+DmxTMoP2jwGtx5BK3DUcv++gzd4LgjgTQ/9Un4+UbzsB94jt4usS36dfo1bxLAv5WId+BmxRH4iOgDWB+jA68W4q/JJM7B+BC0dOHiD54IA3ib6zJ6bIHb6H1rn/LFpssianiBWy9pskel/YtwKvFKkzBjQQ3zRDlgfoAP7Rw6ZIFqAM8f6+2/9CFo6cPAGzwUBLNff3C9h/BtSvj3QP026+HR2Qs5a/zTp6NTkMf+mA385J+Fr/1kgStoBGwNageXxb/Ubs7oFONA6/Qhaxo/ooA2eS1FgO1WVH2hGuLu7z6N7Awb+tFeP4jUjxNruPo/uDRhYlk1OSbyxtMn6hrbb3Dr93hjGnUY2ZGAmCQwfgcEjMHgEBo/A4BEYPAKDR2DwCAwegcEjMHgEBo/A4BEYPAKDR2DwCAwegcEjMHgEBo/A4BEYPAKDR2DwCAwegcEjMHgEBo/A4BEYPAKDR2DwIgO8foWRdz9hKCaKDPCkMqOccH6GAnNaZIALTMtTCNydERg8AoNHYPAIDB6BwSMweAQGj8DgERg8AoNHYPAIDB6BwSMweAQGj8DgERg8AoNHYPAIDB6BwSMweAQGzxZw48VGZ3slsGeyBr5WPKKXiBu+rMbBXgnsmayBH5i6s6ru/N7Z8x3slcCeyRo45XTgy5XrHeyVwJ7JGjjn9cCXt3Md7JXAnskauGLQmKJHisalVzjYK4E9k41n0fVlJStKyuqd7JXAnonTJPA4TQKP0yTwOE0Cj9Mk8DhNAs/NNOmdewMV/qLTIQT2TG6mSXUXAr3+804HENgzhTBN+q9XOx1DYM8UwjSJwCoUwjSJwCoUwjSJwCoUwjSJwCoUwm+TCKxCdqZJF5qJGiqDVxNYhayB/zy2R/ZvpTzW7pYEViFr4Mn/VLsrYx+BFc0auO8lKbfc1EBgNbMGHvmulE2zfkRgNbMG3pw06ayszM0hsJLZeBZ9ZrP/h3TN+iXB6wmsQiG8+YzAKkRg8AgMHoHBIzB4kQeeWLFP70/uj8bcFXng/o8ZDb3o/nDMVVEANr1gb1a1+8MxVxEYPAKDR2DwCAwegcEjMHgEBo/A4BEYPAKDR2DwCAwegcEjMHgEBo/A4BEYPAKDR2DwCAwegcEjMHgEBo/A4BEYPAKDR2DwCAwegcEjMHgEBo/A4BEYPAKD5+a6SVoEVqHIXzeJwN1a5K+bROBuLfLXTSJwtxb56yYRuFuL/HWTCNytRf66SQTu1jhNAo/TJPA4TQKP0yTwOE0Cj9Mk8DhNAs/mrwvPmWV+XRho3KJOb05gz2QNPP2EPHlLz95TTgVv4D1YhayB432y6OErdUtmB28gsArZAs4+JGV1v+ANBFYhG8Db62e8J+Xu9OANBFYha+CpWfGpo+WO1DXBGwisQnaeRdcd2SM/2tFuNYFViK+qBI/A4FkD+1oL3kBgFbIGzhcJGYGCNxBYhayBm+Y91fEGAquQjcfgrSs7Xk9gFeKTLPAIDF50gWccu6BH66gUXeD0affqDf3C/aGZ7aILPOhzY/kh0zKLWAQGj8DgERg8AoNHYPA04Kd3NTgeSmAV0oCLxw98Ylv717Z3GYFVSP8RfXT17QMffb/OwVACq5AOXL3x4f5jb01/2/5QAquQBvyzgsS7XvlMyh1ftT+UwCqkAc/bdCnw9Uveg8HSgGtfLZObV7b7lIYuI7AKacAPTqiQ+2+b52gogVVIA0466v/jeIqjoQRWIQ142Ef+P8qzHQ0lsAppwOvSnl618Po3HQ0lsAq1zoMPvfB48X5nQwmsQvxlA3ga8NZbRzXnaCiBVUgDzlp6sKO3H3UZgVVIAx501flQAquQBrxyucPfFUoCq5EGfFti8kg+BiOmAXfyFuAuI7AK6dOkhtNNDocSWIU04NOFfZOO5R91NJTAKqQBf/f7VwY2Ft/paCiBVUgDvq5aDpQXEhwNJbAKacDjf+sH3j7W0VACq5AGvDNtbt+Hv/I7R0MJrEKtz6Kr3nyx9LSzoQRWIf42CTwNOL8lR0MJrEIacHl5+Ycb7tjgaCiBVcj8I/p8jqOhBFYhM/D+ZEdDCaxCpsfgvF4LHQ0lsAoZj8Hl5T5nv24gsApxmgSeBpyRmqLV0Y3Cdv1gAkc9Dfi1gj2nywtfqq5u/wGD4bx+MIGjngY8uPlzBf86uKNbhPP6wQSOehpw5m7/H3sHdXSLcF4/mMBRTwMuue6Hpc9e99OObhHO6wcTOOq1Pov++B/v+0FZh9OkcF4/mMBRz8aL7sJ4/WACRz1bL7rjNEndrF90x2mS0lm/6I7TJKWzftEdp0lKZ/2iO06TlM76RXeRmiaNvKlQL8vZu6KY/TTgcX/o/CbtpklV+wItX93pEDvAw/cYywscfjwIs50G/OITtV3cKGiatGNpoJnPdjqAwJ5JA74jJXl4J+8PjtQ0icBRyfr9wZGaJhE4KgWAE6ul/I/LndwiUtMkAkelALDwA6cc6+QWkZomETgqWQNHappE4KhkDRyp3yYROCq1AG+vqEh8p6Ki3Z20ywisQgHgtNYcDSWwClm/Ltrn62QORWAVsgbOFwkZgYI3EFiFrIGb5j3V8QYCq5CNt65sXdnxegKrUPe9N4nAUYnA4BEYPAKDR2DwCAwegcEjMHgEBo/A4BEYPAKDR2DwCAwegcEjMHgEBo/A4BEYPAKDR2DwCAyeN4Dnl5Tp7Wj3UQIshLwBfOPMpXq37XZ/SqxdHgE2XZKreJf7U2LtIjB4BAaPwOARGDwCg0dg8AgMHoHBIzB4BAaPwOARGDwCg0dg8AgMHoHBIzB4BAaPwOARGLzwAU8wLkVY2Ne0nsDdWviAzffaVNMygbs1W8C2LvFOYE9mDWz32oUE9mTWwHavXUhgT2YNbPfahQT2ZNbAdq9dSGBPZg1s99qFBPZkNp5F27x2IYE9GadJ4HlvmvTQ94z3Ci89anl6rOu8N02avHif3sLfWJ4e6zo306R9KwJ97/k2twsb8CvG8ioCh5qbadKRDYEWrWhzOwJ7Mu9Nkwgc1rw3TSJwWLP568Jz1e3XEViFrIGnn5Anb+nZe8qp4A0EViFr4HifLHr4St2S2cEbCKxCtoCzD0lZ3S94A4FVyAbw9voZ70m5Oz14A4FVyBp4alZ86mi5I3VN8AYCq5CdZ9F1R/bIj3a0W01gFfLeqyoJHNa8Dfz8i8bHDJd1MBVnlnkbeMadK/Tu+ZX7U43hPA78nLFc+u+uzjLWIzB4BAaPwOARGDwCg0dg8AgMHoHBIzB4BAaPwOARGDwCg6cO8LLppncdfuLqjGMxdYAfnGu863DFL1ydcSymEPD3jeUNBLYbgcEjMHgEBo/A4KkJvPaRDUafOTrrWEtN4EU3legt+Imjs461FAUuMpbfJ3BXERg8AoNHYPAIDB6BwSMweOoDvzPf9B7iE7bOPJZSH3jFCOM9xE8tsXXmsZT6wMunGssfEzg4AoNHYPAIDB6BwSMweAQGj8DgERg8AoOHBfzR40eNLnV59rESFvBbAx7TK3qiy7OPlbCAX883lnf3z9PLNe0nxsIF/t0YY/nMd2SsRmDwCAxejAB/03jz+L7TMpaKDeCDScaz6/nflrFUbAAfyDKWr04y3ZtN5wNa7AFfSDB9mEuGcc9+bLlELPaAz3/FdHL9TP/ylXGv0TMSpRgHNp9oign7NomSLeDGi40drEUDNi8PLDT6lmn91QtGf5MqZA18rXhELxE3fFlN8AZkYPPyzaYX1ufPNX6MDzYJXzbd+731xM0a+IGpO6vqzu+dPT94Q6wAp5ielPWpNdYPvc24l6d8w4DPmG8aYJp0Hy4xdVJGKWvglJZzvHK9vuadlm9k4tI2t5tgeo7Sx7Qcb1ruO91YTr7TWO4/0VgeYNpRxhhj+YbhxvKoTGN5/FeN5b9PM5Yn9zOW7040lmeZT8683LeT5TbfzD3GcsI0Y7nNNzMgWy9BGPUwLYsbjN+EjJlkjP32ZGN52jDjNjmZxnLeP4cXOOf1wJe3c/U1dS2PQVW1bW53xfTwdM60fLaT5XM2livPG8tVVcby+UqHO/LCcti+mXYPlqEBVwwaU/RI0bj0Cie7ZV7JxrPo+rKSFSVl9ZE/FxaBQpgHMxUiMHgEBo/A4BEYPAKDR2DwCAwegcELH3BeoftGTXI/Nv/rIRx4SAhjs6e4H5s7wf3YKdO6B7jA+iadtmC/+7H/4+iXK0GFctJzzrsfu/Yt92PPFlnfxojAriOw/QjsIAI7iMD2I7CDCGw/AndZ+IALQxi76A/ux24L5R0JoZz03Gr3Y9/8lfuxlY7eKhk+4FA+EuNyk/uxDVdCOHAoJx3K2Jpa69uE58D8lyzwCAwegcEjMHgEBo/A4BEYPAKDFy7gfbmpDzl6U1SgpnyfMdbhLraMSij4s8vBbwxNmlXp9sDSl+D2pKfGx8dPd3vcU3cn5x9yPDhMwPXpa08VFjsdtXWe8OljHe7iTPK7F5/7urvBR/p8/Pk3nnR5YNlwa5zbk87a7vOdcHvcm1edWVTgeHCYgLd+TcqdI5yOWvlUgk8f63AXmydJWdvjgqvBb/nHrp/k8sDyX++Nc3nSdfGBt/C5O+7+0U2y5oDjwWECLimSsqpXR5/k0XUZPn2sw11cOivlrhuaXA1ubGg8NG+xywMfGXU0zuVJH0mdkf2dky6P+8uZj46Yc9zx4DABr3jE//9PcdHxuGZgbazjXTRtyfiN28HrxaCz7sY2Tnm3Ms7lSe8Z/a7vwVtdnvPKnq99+oNbHA8O4z34fJz7e7B/rNNdVM3Oq3A9WFYtz3E3tuR+WRnn/rjyy57n3I39eYGU1+IqnQ4OE3DZOCn3DnM+rhlYG+twFzUTftQgXQ4ufVXKC6LG1dj7ktP6i7RyV2PLd/jvdr2r3X3DW/zAtb0vOB0ctmfRW67OWeZ8XIZPH+twF+tzjvlrcDV4c/pfTj2T5+7AVSdPHuh5ssbV2O2pH/xt6RSX3/DVtPUXl9zueHC45sH/Oz7NxTw4ANw61tkulgQ+rKbS1eCmHw9MuutTlweWgR/R7sauHpQ885Tb434wPumbxx0P5r9kgUdg8AgMHoHBIzB4BAaPwOARGDwCg0dg8AgMHoHBIzB4BAaPwOARGDwCg0dg8AgMHoHBizHg6hR5WVS2W+0b1Q3nEp0I3ByBIXpp8ODVOnDDE6lpL7Ru8Y18ccCQbW3XgRRDwLv67zpZoANvHHns/+KPaJt8Pf7l6uJJbdeBFEPAC34o5R4deN2IA7Ky9fPmfP3q5cGxbdeBFEPA95VKeVoHrl8z5IZVrW8N8I30/ze27TqQYgh44bNSluvAnx1v+v2N67RNzU+y/MBt1oEUQ8B70srP3pXqBz5SXV1d87OcLz7PK9U2acBt1oEUQ8Dy5YyMtRl+4OZKL85I7P8P+mNwC3CbdSDFEnBMFtvAB+8P9Gh3n0cEi23gGIjA4BEYPAKDR2DwCAwegcEjMHgEBo/A4BEYPAKDR2DwCAwegcEjMHgEBu//AaA2OrbqEhPmAAAAAElFTkSuQmCC\">\n"
      ],
      "text/plain": [
       "<img src=\"data:image/png;base64,iVBORw0KGgoAAAANSUhEUgAAAeAAAAHgCAMAAABKCk6nAAAC5VBMVEUAAAABAQECAgIDAwMEBAQFBQUGBgYHBwcICAgJCQkKCgoLCwsMDAwNDQ0ODg4PDw8QEBARERESEhITExMUFBQVFRUWFhYXFxcYGBgZGRkaGhobGxscHBwdHR0eHh4fHx8gICAhISEiIiIjIyMkJCQlJSUmJiYnJycoKCgpKSkqKiorKyssLCwtLS0uLi4vLy8wMDAxMTEyMjIzMzM0NDQ1NTU2NjY3Nzc4ODg5OTk6Ojo7Ozs8PDw9PT0+Pj4/Pz9AQEBBQUFCQkJDQ0NERERFRUVGRkZHR0dISEhJSUlKSkpLS0tMTExNTU1PT09QUFBRUVFSUlJTU1NUVFRVVVVWVlZXV1dYWFhZWVlaWlpbW1tdXV1eXl5fX19gYGBhYWFiYmJjY2NkZGRlZWVmZmZnZ2doaGhpaWlqampra2tsbGxtbW1vb29wcHBxcXFycnJ0dHR1dXV2dnZ3d3d4eHh5eXl6enp7e3t8fHx9fX1+fn5/f3+AgICCgoKDg4OEhISFhYWGhoaHh4eIiIiJiYmKioqLi4uMjIyNjY2Ojo6Pj4+QkJCRkZGSkpKTk5OUlJSVlZWYmJiZmZmampqbm5udnZ2enp6fn5+goKChoaGioqKjo6OkpKSlpaWmpqanp6eoqKipqamqqqqrq6usrKytra2urq6vr6+wsLCxsbGysrKzs7O0tLS1tbW2tra3t7e5ubm6urq7u7u8vLy9vb2+vr6/v7/AwMDBwcHCwsLDw8PExMTFxcXGxsbHx8fIyMjJycnKysrLy8vMzMzNzc3Ozs7Pz8/Q0NDR0dHS0tLT09PU1NTV1dXW1tbX19fY2NjZ2dna2trb29vc3Nzd3d3e3t7f39/g4ODh4eHi4uLj4+Pk5OTl5eXm5ubn5+fo6Ojp6enq6urr6+vs7Ozt7e3u7u7v7+/w8PDx8fHy8vLz8/P09PT19fX29vb39/f4+Pj5+fn6+vr7+/v8/Pz9/f3+/v7////AFpWcAAAStElEQVR4nO3dfXwU9YHH8R8ELpAHEoyFkpCA4bFQiCF6UUQMNmhbnsXY1ifw1KoVOIHaekG9HrQ8nNpqLvjQ6x0cFMFWr154Foxe8Aql7VIBERAoJJACAnn+/X2bzWRmsnmYh33I/L77/bxekmFmfzOTvrvZ/ZHdHSEZdKK7T4BFNgKDR2DwCAwegcEjMHgEBo/A4BEYPAKDR2DwCAwegcEjMHgEBo/A4BEYPAKDR2DwCAwegcEjMHgEBk9R4HohDvu/TBPLpRD14drrJyN6vqz/5aAYJeUosbnDW14TceE6aITDAs4T5aHs9QExaZf+FwJ3Zybgy5eb9NUhAk8Tm4y/ELg7M4AD/1PvuT3p+ukH/b5CrJOXFgxPyCn1q5+/r3/ur0WePCPSPszbKMtuSUq9c588LLLXpGe9VJ6beMfRlp21Dmge/uPAmjOzUseXtgHWjtCa/6jvj0++p7rdBs+lLvDonJyc5Bbgyn49Zk4W6VfeGyqWHWsqEJnT+opVsmmiyJ0dHwBOzBQbT/SNK7hZZDYdFuLvRvn/G5YoZgf2pQ94L0cs+H1g72NFZm5PM3DrEVqPf02IPmN6isXtNngudYFbCgBvEyP+KhfeczjwI3qHyLwkd4mUxp1idK18PgAsllfV7Lz7BVnbR5zzA/vkZPHdpu1iWGBf+gD/D4QWzk1i7JWmx83A+hG0/MCb5Bpxe7sNnktdYNOP6KrrRI/858+0PAa/Ip70b8kQx18WC6X8UwC4T6N/1V9+MitLiDOHRYaU94tS/8/qIYF96QN04GJRLOVOM7B+BK1rokeD3Ovfd/AGzwUBLKtfuFGIfp+agLPE0Z+KBVL+seUx2L/mw94J97+W1Aw8pBn4jSBg/wAd+DmxTMoP2jwGtx5BK3DUcv++gzd4LgjgTQ/9Un4+UbzsB94jt4usS36dfo1bxLAv5WId+BmxRH4iOgDWB+jA68W4q/JJM7B+BC0dOHiD54IA3ib6zJ6bIHb6H1rn/LFpssianiBWy9pskel/YtwKvFKkzBjQQ3zRDlgfoAP7Rw6ZIFqAM8f6+2/9CFo6cPAGzwUBLNff3C9h/BtSvj3QP026+HR2Qs5a/zTp6NTkMf+mA385J+Fr/1kgStoBGwNageXxb/Ubs7oFONA6/Qhaxo/ooA2eS1FgO1WVH2hGuLu7z6N7Awb+tFeP4jUjxNruPo/uDRhYlk1OSbyxtMn6hrbb3Dr93hjGnUY2ZGAmCQwfgcEjMHgEBo/A4BEYPAKDR2DwCAwegcEjMHgEBo/A4BEYPAKDR2DwCAwegcEjMHgEBo/A4BEYPAKDR2DwCAwegcEjMHgEBo/A4BEYPAKDR2DwIgO8foWRdz9hKCaKDPCkMqOccH6GAnNaZIALTMtTCNydERg8AoNHYPAIDB6BwSMweAQGj8DgERg8AoNHYPAIDB6BwSMweAQGj8DgERg8AoNHYPAIDB6BwSMweAQGzxZw48VGZ3slsGeyBr5WPKKXiBu+rMbBXgnsmayBH5i6s6ru/N7Z8x3slcCeyRo45XTgy5XrHeyVwJ7JGjjn9cCXt3Md7JXAnskauGLQmKJHisalVzjYK4E9k41n0fVlJStKyuqd7JXAnonTJPA4TQKP0yTwOE0Cj9Mk8DhNAs/NNOmdewMV/qLTIQT2TG6mSXUXAr3+804HENgzhTBN+q9XOx1DYM8UwjSJwCoUwjSJwCoUwjSJwCoUwjSJwCoUwm+TCKxCdqZJF5qJGiqDVxNYhayB/zy2R/ZvpTzW7pYEViFr4Mn/VLsrYx+BFc0auO8lKbfc1EBgNbMGHvmulE2zfkRgNbMG3pw06ayszM0hsJLZeBZ9ZrP/h3TN+iXB6wmsQiG8+YzAKkRg8AgMHoHBIzB4kQeeWLFP70/uj8bcFXng/o8ZDb3o/nDMVVEANr1gb1a1+8MxVxEYPAKDR2DwCAwegcEjMHgEBo/A4BEYPAKDR2DwCAwegcEjMHgEBo/A4BEYPAKDR2DwCAwegcEjMHgEBo/A4BEYPAKDR2DwCAwegcEjMHgEBo/A4BEYPAKD5+a6SVoEVqHIXzeJwN1a5K+bROBuLfLXTSJwtxb56yYRuFuL/HWTCNytRf66SQTu1jhNAo/TJPA4TQKP0yTwOE0Cj9Mk8DhNAs/mrwvPmWV+XRho3KJOb05gz2QNPP2EPHlLz95TTgVv4D1YhayB432y6OErdUtmB28gsArZAs4+JGV1v+ANBFYhG8Db62e8J+Xu9OANBFYha+CpWfGpo+WO1DXBGwisQnaeRdcd2SM/2tFuNYFViK+qBI/A4FkD+1oL3kBgFbIGzhcJGYGCNxBYhayBm+Y91fEGAquQjcfgrSs7Xk9gFeKTLPAIDF50gWccu6BH66gUXeD0affqDf3C/aGZ7aILPOhzY/kh0zKLWAQGj8DgERg8AoNHYPA04Kd3NTgeSmAV0oCLxw98Ylv717Z3GYFVSP8RfXT17QMffb/OwVACq5AOXL3x4f5jb01/2/5QAquQBvyzgsS7XvlMyh1ftT+UwCqkAc/bdCnw9Uveg8HSgGtfLZObV7b7lIYuI7AKacAPTqiQ+2+b52gogVVIA0466v/jeIqjoQRWIQ142Ef+P8qzHQ0lsAppwOvSnl618Po3HQ0lsAq1zoMPvfB48X5nQwmsQvxlA3ga8NZbRzXnaCiBVUgDzlp6sKO3H3UZgVVIAx501flQAquQBrxyucPfFUoCq5EGfFti8kg+BiOmAXfyFuAuI7AK6dOkhtNNDocSWIU04NOFfZOO5R91NJTAKqQBf/f7VwY2Ft/paCiBVUgDvq5aDpQXEhwNJbAKacDjf+sH3j7W0VACq5AGvDNtbt+Hv/I7R0MJrEKtz6Kr3nyx9LSzoQRWIf42CTwNOL8lR0MJrEIacHl5+Ycb7tjgaCiBVcj8I/p8jqOhBFYhM/D+ZEdDCaxCpsfgvF4LHQ0lsAoZj8Hl5T5nv24gsApxmgSeBpyRmqLV0Y3Cdv1gAkc9Dfi1gj2nywtfqq5u/wGD4bx+MIGjngY8uPlzBf86uKNbhPP6wQSOehpw5m7/H3sHdXSLcF4/mMBRTwMuue6Hpc9e99OObhHO6wcTOOq1Pov++B/v+0FZh9OkcF4/mMBRz8aL7sJ4/WACRz1bL7rjNEndrF90x2mS0lm/6I7TJKWzftEdp0lKZ/2iO06TlM76RXeRmiaNvKlQL8vZu6KY/TTgcX/o/CbtpklV+wItX93pEDvAw/cYywscfjwIs50G/OITtV3cKGiatGNpoJnPdjqAwJ5JA74jJXl4J+8PjtQ0icBRyfr9wZGaJhE4KgWAE6ul/I/LndwiUtMkAkelALDwA6cc6+QWkZomETgqWQNHappE4KhkDRyp3yYROCq1AG+vqEh8p6Ki3Z20ywisQgHgtNYcDSWwClm/Ltrn62QORWAVsgbOFwkZgYI3EFiFrIGb5j3V8QYCq5CNt65sXdnxegKrUPe9N4nAUYnA4BEYPAKDR2DwCAwegcEjMHgEBo/A4BEYPAKDR2DwCAwegcEjMHgEBo/A4BEYPAKDR2DwCAyeN4Dnl5Tp7Wj3UQIshLwBfOPMpXq37XZ/SqxdHgE2XZKreJf7U2LtIjB4BAaPwOARGDwCg0dg8AgMHoHBIzB4BAaPwOARGDwCg0dg8AgMHoHBIzB4BAaPwOARGLzwAU8wLkVY2Ne0nsDdWviAzffaVNMygbs1W8C2LvFOYE9mDWz32oUE9mTWwHavXUhgT2YNbPfahQT2ZNbAdq9dSGBPZg1s99qFBPZkNp5F27x2IYE9GadJ4HlvmvTQ94z3Ci89anl6rOu8N02avHif3sLfWJ4e6zo306R9KwJ97/k2twsb8CvG8ioCh5qbadKRDYEWrWhzOwJ7Mu9Nkwgc1rw3TSJwWLP568Jz1e3XEViFrIGnn5Anb+nZe8qp4A0EViFr4HifLHr4St2S2cEbCKxCtoCzD0lZ3S94A4FVyAbw9voZ70m5Oz14A4FVyBp4alZ86mi5I3VN8AYCq5CdZ9F1R/bIj3a0W01gFfLeqyoJHNa8Dfz8i8bHDJd1MBVnlnkbeMadK/Tu+ZX7U43hPA78nLFc+u+uzjLWIzB4BAaPwOARGDwCg0dg8AgMHoHBIzB4BAaPwOARGDwCg6cO8LLppncdfuLqjGMxdYAfnGu863DFL1ydcSymEPD3jeUNBLYbgcEjMHgEBo/A4KkJvPaRDUafOTrrWEtN4EU3legt+Imjs461FAUuMpbfJ3BXERg8AoNHYPAIDB6BwSMweOoDvzPf9B7iE7bOPJZSH3jFCOM9xE8tsXXmsZT6wMunGssfEzg4AoNHYPAIDB6BwSMweAQGj8DgERg8AoOHBfzR40eNLnV59rESFvBbAx7TK3qiy7OPlbCAX883lnf3z9PLNe0nxsIF/t0YY/nMd2SsRmDwCAxejAB/03jz+L7TMpaKDeCDScaz6/nflrFUbAAfyDKWr04y3ZtN5wNa7AFfSDB9mEuGcc9+bLlELPaAz3/FdHL9TP/ylXGv0TMSpRgHNp9oign7NomSLeDGi40drEUDNi8PLDT6lmn91QtGf5MqZA18rXhELxE3fFlN8AZkYPPyzaYX1ufPNX6MDzYJXzbd+731xM0a+IGpO6vqzu+dPT94Q6wAp5ielPWpNdYPvc24l6d8w4DPmG8aYJp0Hy4xdVJGKWvglJZzvHK9vuadlm9k4tI2t5tgeo7Sx7Qcb1ruO91YTr7TWO4/0VgeYNpRxhhj+YbhxvKoTGN5/FeN5b9PM5Yn9zOW7040lmeZT8683LeT5TbfzD3GcsI0Y7nNNzMgWy9BGPUwLYsbjN+EjJlkjP32ZGN52jDjNjmZxnLeP4cXOOf1wJe3c/U1dS2PQVW1bW53xfTwdM60fLaT5XM2livPG8tVVcby+UqHO/LCcti+mXYPlqEBVwwaU/RI0bj0Cie7ZV7JxrPo+rKSFSVl9ZE/FxaBQpgHMxUiMHgEBo/A4BEYPAKDR2DwCAwegcELH3BeoftGTXI/Nv/rIRx4SAhjs6e4H5s7wf3YKdO6B7jA+iadtmC/+7H/4+iXK0GFctJzzrsfu/Yt92PPFlnfxojAriOw/QjsIAI7iMD2I7CDCGw/AndZ+IALQxi76A/ux24L5R0JoZz03Gr3Y9/8lfuxlY7eKhk+4FA+EuNyk/uxDVdCOHAoJx3K2Jpa69uE58D8lyzwCAwegcEjMHgEBo/A4BEYPAKDFy7gfbmpDzl6U1SgpnyfMdbhLraMSij4s8vBbwxNmlXp9sDSl+D2pKfGx8dPd3vcU3cn5x9yPDhMwPXpa08VFjsdtXWe8OljHe7iTPK7F5/7urvBR/p8/Pk3nnR5YNlwa5zbk87a7vOdcHvcm1edWVTgeHCYgLd+TcqdI5yOWvlUgk8f63AXmydJWdvjgqvBb/nHrp/k8sDyX++Nc3nSdfGBt/C5O+7+0U2y5oDjwWECLimSsqpXR5/k0XUZPn2sw11cOivlrhuaXA1ubGg8NG+xywMfGXU0zuVJH0mdkf2dky6P+8uZj46Yc9zx4DABr3jE//9PcdHxuGZgbazjXTRtyfiN28HrxaCz7sY2Tnm3Ms7lSe8Z/a7vwVtdnvPKnq99+oNbHA8O4z34fJz7e7B/rNNdVM3Oq3A9WFYtz3E3tuR+WRnn/rjyy57n3I39eYGU1+IqnQ4OE3DZOCn3DnM+rhlYG+twFzUTftQgXQ4ufVXKC6LG1dj7ktP6i7RyV2PLd/jvdr2r3X3DW/zAtb0vOB0ctmfRW67OWeZ8XIZPH+twF+tzjvlrcDV4c/pfTj2T5+7AVSdPHuh5ssbV2O2pH/xt6RSX3/DVtPUXl9zueHC45sH/Oz7NxTw4ANw61tkulgQ+rKbS1eCmHw9MuutTlweWgR/R7sauHpQ885Tb434wPumbxx0P5r9kgUdg8AgMHoHBIzB4BAaPwOARGDwCg0dg8AgMHoHBIzB4BAaPwOARGDwCg0dg8AgMHoHBizHg6hR5WVS2W+0b1Q3nEp0I3ByBIXpp8ODVOnDDE6lpL7Ru8Y18ccCQbW3XgRRDwLv67zpZoANvHHns/+KPaJt8Pf7l6uJJbdeBFEPAC34o5R4deN2IA7Ky9fPmfP3q5cGxbdeBFEPA95VKeVoHrl8z5IZVrW8N8I30/ze27TqQYgh44bNSluvAnx1v+v2N67RNzU+y/MBt1oEUQ8B70srP3pXqBz5SXV1d87OcLz7PK9U2acBt1oEUQ8Dy5YyMtRl+4OZKL85I7P8P+mNwC3CbdSDFEnBMFtvAB+8P9Gh3n0cEi23gGIjA4BEYPAKDR2DwCAwegcEjMHgEBo/A4BEYPAKDR2DwCAwegcEjMHgEBu//AaA2OrbqEhPmAAAAAElFTkSuQmCC\">"
      ]
     },
     "metadata": {},
     "output_type": "display_data"
    }
   ],
   "source": [
    "ls <- sample $ replicateM 10000 (game 6)\n",
    "dLs = fmap fromIntegral ls :: [Double]\n",
    "[rgraph| hist(dLs_hs, breaks=40)|]"
   ]
  },
  {
   "cell_type": "code",
   "execution_count": 95,
   "metadata": {},
   "outputs": [],
   "source": [
    "import Statistics.Sample"
   ]
  },
  {
   "cell_type": "code",
   "execution_count": 100,
   "metadata": {},
   "outputs": [
    {
     "data": {
      "text/plain": [
       "33.9972"
      ]
     },
     "metadata": {},
     "output_type": "display_data"
    }
   ],
   "source": [
    "mean . V.fromList $ dLs"
   ]
  },
  {
   "cell_type": "code",
   "execution_count": 99,
   "metadata": {},
   "outputs": [
    {
     "data": {
      "text/html": [
       "<style>/* Styles used for the Hoogle display in the pager */\n",
       ".hoogle-doc {\n",
       "display: block;\n",
       "padding-bottom: 1.3em;\n",
       "padding-left: 0.4em;\n",
       "}\n",
       ".hoogle-code {\n",
       "display: block;\n",
       "font-family: monospace;\n",
       "white-space: pre;\n",
       "}\n",
       ".hoogle-text {\n",
       "display: block;\n",
       "}\n",
       ".hoogle-name {\n",
       "color: green;\n",
       "font-weight: bold;\n",
       "}\n",
       ".hoogle-head {\n",
       "font-weight: bold;\n",
       "}\n",
       ".hoogle-sub {\n",
       "display: block;\n",
       "margin-left: 0.4em;\n",
       "}\n",
       ".hoogle-package {\n",
       "font-weight: bold;\n",
       "font-style: italic;\n",
       "}\n",
       ".hoogle-module {\n",
       "font-weight: bold;\n",
       "}\n",
       ".hoogle-class {\n",
       "font-weight: bold;\n",
       "}\n",
       ".get-type {\n",
       "color: green;\n",
       "font-weight: bold;\n",
       "font-family: monospace;\n",
       "display: block;\n",
       "white-space: pre-wrap;\n",
       "}\n",
       ".show-type {\n",
       "color: green;\n",
       "font-weight: bold;\n",
       "font-family: monospace;\n",
       "margin-left: 1em;\n",
       "}\n",
       ".mono {\n",
       "font-family: monospace;\n",
       "display: block;\n",
       "}\n",
       ".err-msg {\n",
       "color: red;\n",
       "font-style: italic;\n",
       "font-family: monospace;\n",
       "white-space: pre;\n",
       "display: block;\n",
       "}\n",
       "#unshowable {\n",
       "color: red;\n",
       "font-weight: bold;\n",
       "}\n",
       ".err-msg.in.collapse {\n",
       "padding-top: 0.7em;\n",
       "}\n",
       ".highlight-code {\n",
       "white-space: pre;\n",
       "font-family: monospace;\n",
       "}\n",
       ".suggestion-warning { \n",
       "font-weight: bold;\n",
       "color: rgb(200, 130, 0);\n",
       "}\n",
       ".suggestion-error { \n",
       "font-weight: bold;\n",
       "color: red;\n",
       "}\n",
       ".suggestion-name {\n",
       "font-weight: bold;\n",
       "}\n",
       "</style><img src=\"data:image/png;base64,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\">\n"
      ],
      "text/plain": [
       "<img src=\"data:image/png;base64,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\">"
      ]
     },
     "metadata": {},
     "output_type": "display_data"
    }
   ],
   "source": [
    "ls <- sample $ replicateM 10000 (game 20)\n",
    "dLs = fmap fromIntegral ls :: [Double]\n",
    "[rgraph| hist(dLs_hs, breaks=40)|]"
   ]
  },
  {
   "cell_type": "markdown",
   "metadata": {},
   "source": [
    "### Snakes & ladders with infinite tree\n",
    "\n",
    "Nice, bit leaks memory."
   ]
  },
  {
   "cell_type": "code",
   "execution_count": 25,
   "metadata": {},
   "outputs": [],
   "source": [
    "import Data.Tree"
   ]
  },
  {
   "cell_type": "code",
   "execution_count": 26,
   "metadata": {},
   "outputs": [],
   "source": [
    "ladders = [(11, 43), (25, 54), (40, 81), \n",
    "           (60, 79), (73, 88)]\n",
    "snakes = [(37, 2), (46, 20), (55, 29), \n",
    "          (61, 8), (68, 13), (72, 49), \n",
    "          (75, 22), (87, 67), (90, 77),\n",
    "          (94, 31), (96, 11)]\n",
    "\n",
    "board = V.fromList [0..100] V.// ladders V.// snakes"
   ]
  },
  {
   "cell_type": "code",
   "execution_count": 27,
   "metadata": {},
   "outputs": [
    {
     "data": {
      "text/plain": [
       "[0,1,2,3,4,5,6,7,8,9,10,43,12,13,14,15,16,17,18,19,20,21,22,23,24,54,26,27,28,29,30,31,32,33,34,35,36,2,38,39,81,41,42,43,44,45,20,47,48,49,50,51,52,53,54,29,56,57,58,59,79,8,62,63,64,65,66,67,13,69,70,71,49,88,74,22,76,77,78,79,80,81,82,83,84,85,86,67,88,89,77,91,92,93,31,95,11,97,98,99,100]"
      ]
     },
     "metadata": {},
     "output_type": "display_data"
    }
   ],
   "source": [
    "board"
   ]
  },
  {
   "cell_type": "code",
   "execution_count": 28,
   "metadata": {},
   "outputs": [],
   "source": [
    "snakeSpace :: Int -> Int -> Tree Int\n",
    "snakeSpace _ 100 = Node 100 []\n",
    "snakeSpace k x = Node x (fmap go [1..k])\n",
    "  where\n",
    "    go i | x+i <= 100 = snakeSpace k (board V.! (x+i)) \n",
    "         | otherwise = snakeSpace k x"
   ]
  },
  {
   "cell_type": "code",
   "execution_count": 29,
   "metadata": {},
   "outputs": [],
   "source": [
    "win (Node 100 _) = True\n",
    "win _ = False"
   ]
  },
  {
   "cell_type": "code",
   "execution_count": 30,
   "metadata": {},
   "outputs": [],
   "source": [
    "randomTreeWalk (Node _ next) = randomElement next\n",
    "\n",
    "move :: (Int, Tree a) -> RVar (Int, Tree a)\n",
    "move (k, s) = randomTreeWalk s >>= \\n -> return (k+1, n)   "
   ]
  },
  {
   "cell_type": "code",
   "execution_count": 31,
   "metadata": {},
   "outputs": [],
   "source": [
    "runUntil :: (a -> Bool) -> (a -> RVar a) -> a -> RVar a\n",
    "runUntil f t x\n",
    "  | f x = return x\n",
    "  | otherwise = t x >>= runUntil f t"
   ]
  },
  {
   "cell_type": "code",
   "execution_count": 36,
   "metadata": {},
   "outputs": [],
   "source": [
    "game k = fst <$> runUntil (win . snd) move (0, snakeSpace k 0)"
   ]
  },
  {
   "cell_type": "code",
   "execution_count": 43,
   "metadata": {},
   "outputs": [
    {
     "data": {
      "text/html": [
       "<style>/* Styles used for the Hoogle display in the pager */\n",
       ".hoogle-doc {\n",
       "display: block;\n",
       "padding-bottom: 1.3em;\n",
       "padding-left: 0.4em;\n",
       "}\n",
       ".hoogle-code {\n",
       "display: block;\n",
       "font-family: monospace;\n",
       "white-space: pre;\n",
       "}\n",
       ".hoogle-text {\n",
       "display: block;\n",
       "}\n",
       ".hoogle-name {\n",
       "color: green;\n",
       "font-weight: bold;\n",
       "}\n",
       ".hoogle-head {\n",
       "font-weight: bold;\n",
       "}\n",
       ".hoogle-sub {\n",
       "display: block;\n",
       "margin-left: 0.4em;\n",
       "}\n",
       ".hoogle-package {\n",
       "font-weight: bold;\n",
       "font-style: italic;\n",
       "}\n",
       ".hoogle-module {\n",
       "font-weight: bold;\n",
       "}\n",
       ".hoogle-class {\n",
       "font-weight: bold;\n",
       "}\n",
       ".get-type {\n",
       "color: green;\n",
       "font-weight: bold;\n",
       "font-family: monospace;\n",
       "display: block;\n",
       "white-space: pre-wrap;\n",
       "}\n",
       ".show-type {\n",
       "color: green;\n",
       "font-weight: bold;\n",
       "font-family: monospace;\n",
       "margin-left: 1em;\n",
       "}\n",
       ".mono {\n",
       "font-family: monospace;\n",
       "display: block;\n",
       "}\n",
       ".err-msg {\n",
       "color: red;\n",
       "font-style: italic;\n",
       "font-family: monospace;\n",
       "white-space: pre;\n",
       "display: block;\n",
       "}\n",
       "#unshowable {\n",
       "color: red;\n",
       "font-weight: bold;\n",
       "}\n",
       ".err-msg.in.collapse {\n",
       "padding-top: 0.7em;\n",
       "}\n",
       ".highlight-code {\n",
       "white-space: pre;\n",
       "font-family: monospace;\n",
       "}\n",
       ".suggestion-warning { \n",
       "font-weight: bold;\n",
       "color: rgb(200, 130, 0);\n",
       "}\n",
       ".suggestion-error { \n",
       "font-weight: bold;\n",
       "color: red;\n",
       "}\n",
       ".suggestion-name {\n",
       "font-weight: bold;\n",
       "}\n",
       "</style><img src=\"data:image/png;base64,iVBORw0KGgoAAAANSUhEUgAAAeAAAAHgCAMAAABKCk6nAAAC61BMVEUAAAABAQECAgIDAwMEBAQFBQUGBgYHBwcICAgJCQkKCgoLCwsMDAwNDQ0ODg4PDw8QEBARERESEhITExMUFBQVFRUWFhYXFxcYGBgZGRkaGhobGxscHBwdHR0eHh4fHx8gICAhISEiIiIjIyMkJCQlJSUmJiYnJycoKCgpKSkqKiorKyssLCwtLS0uLi4vLy8wMDAxMTEyMjIzMzM0NDQ1NTU3Nzc4ODg5OTk6Ojo7Ozs8PDw9PT0+Pj4/Pz9AQEBBQUFCQkJDQ0NERERFRUVGRkZHR0dISEhJSUlKSkpLS0tMTExNTU1OTk5PT09QUFBRUVFSUlJTU1NUVFRVVVVWVlZXV1dYWFhZWVlaWlpbW1tdXV1eXl5fX19gYGBhYWFiYmJjY2NkZGRlZWVmZmZnZ2doaGhpaWlqampra2tsbGxtbW1vb29wcHBxcXFycnJ0dHR1dXV2dnZ3d3d4eHh5eXl6enp7e3t8fHx9fX1+fn5/f3+AgICBgYGCgoKDg4OEhISFhYWGhoaHh4eIiIiJiYmKioqLi4uMjIyNjY2Ojo6Pj4+QkJCRkZGSkpKTk5OUlJSVlZWWlpaXl5eYmJiZmZmampqbm5ucnJydnZ2enp6fn5+goKChoaGioqKlpaWmpqanp6eoqKipqamqqqqrq6usrKytra2urq6vr6+wsLCxsbGysrKzs7O0tLS1tbW2tra3t7e5ubm6urq7u7u8vLy9vb2+vr6/v7/AwMDBwcHCwsLDw8PExMTFxcXGxsbHx8fIyMjJycnKysrLy8vMzMzNzc3Ozs7Pz8/Q0NDR0dHS0tLT09PU1NTV1dXW1tbX19fY2NjZ2dna2trb29vc3Nzd3d3e3t7f39/g4ODh4eHi4uLj4+Pk5OTl5eXm5ubn5+fo6Ojp6enq6urr6+vs7Ozt7e3u7u7v7+/w8PDx8fHy8vLz8/P09PT19fX29vb39/f4+Pj5+fn6+vr7+/v8/Pz9/f3+/v7///9fDAU/AAASwklEQVR4nO3deXxU5b3H8YcEGsgOoaUkJGhYSwqRpGwCBg3aVpDFGsvFKrXUixaxFVvlhhZrxbJU2+utaYp62wsFWazQ9oZVg7ENLlxahwIpAgKFBKaELes8f96TyZlnJrNwznNmJnOe33w/r5dwOGd+MwfeMpOHTHIYR6RjsT4BFN0ATDwAEw/AxAMw8QBMPAATD8DEAzDxAEw8ABMPwMQDMPEATDwAEw/AxAMw8QBMPAATD8DEAzDxAEw8ABNPUeBWxo5qP93NnueMtUbqXt8flvCS+MUhNoLzEWxr0FteZ4mRetAoRwu4mNWEc68PsMn7xC8AHMt8gC9fdondYQLfzTZ7fwHgWOYFdv9RV09J7T/jkObL2Hre+PjQ5MJKTf3C/X3HvsGK+VmW9W7xJl41ITXz9gP8KMtfm533Ys3YlNvqOu/MM9Ax/ox7z9nZmWMquwDrj+BJe9Q/jUm71xlwwHapCzyysLAwrRO4Pr3HrKks++qOm9jy464Slnt3H7aauyaxsXOS3MApuWzTyT6JJeNYrusoY58Zof03JIXNcd+XGNhRyB7/0H3vBSx3bIIvsOcRPI9/nbHeoxLYkwEHbJe6wJ25gXexYf/kS+496n6K3sNyG/k+ltG+l41s5j90A7PnG5r23rWCN/dm5zVgB5/K5rl2syHu+xID2hNCJ+dmVnDV9YgvsHgEPQ14M1/LpgQcsF3qAvs8RTf0Yz3G//Bs52vwz9mj2pEcduIltoTzv7mBe7dru/7+3Ow8xs4eZTmcz2eV2nP1YPd9iQEBXM7KOd/rCyweQe8669HG92v37X/AdpEA5s4VtzCWfsQHOI/VvcAe5/yvna/B2p53eyXPfyW1A3hwB/BrfsDagABexpZz/k6X12DPI+i5H7VGu2//A7aLBPDmB3/DP5nEXtKAq/lulteo6aS3b2NDrvAnBfD32FL+PgsCLAYE8AY2+hp/1BdYPIKeAPY/YLtIAO9ived8LZnt1V5a5/7VNZXlzUhma3hzPsvVPjD2AK9iGTM/14N9GgAsBgSwNjm4iHUC5xZo/UE8gp4A9j9gu0gA8w3j0pPHvMb5lgHaMunS4vzkwnXaMqluetqoXwngK3OTv/A/JawiANg74AHmJ76SPmpNJ7C79eIR9LxP0X4HbJeiwGZqqDnYgXBXrM8jthEGPtKzR/naYWxdrM8jthEG5lVTM1JuqXQZ39B0Wz3L700RvNPoRhkYcQCTD8DEAzDxAEw8ABMPwMQDMPEATDwAEw/AxAMw8QBMPAATD8DEAzDxAEw8ABMPwMQDMPEATDwAEw/AxAMw8QBMPAATD8DEAzDxAEw8ABMPwMQDMPEATLyoAK9bKVofjftH5osK8Lgq0a3RuH9kvqgAlwTdRLEIwMQDMPEATDwAEw/AxAMw8QBMPAATD8DEAzDxAEw8ABMPwMQDMPEATDwAEw/AxAMw8QBMPAATD8DEAzDxAEw8ABMPwMQDMPEATDwAEw/AxAMw8QBMPFPA7Zfape4UwPbJGPh6+bCeLHHo8ibzdwpg+2QM/MD0vQ0tF/bP+ab5OwWwfTIGzjjj/ulqf/N3CmD7ZAxc+Kr7py1jzd8pgO2TMXDtwFFlD5eNzq41f6cAtk8mPopurapYWVHVKnGnALZPWCYRD8sk4mGZRDwsk4iHZRLxsEwiHpZJxLOyTHqj1F3RilC3B7B9CmOZ9LuXQ40A2D6FsUwCsAqFsUwCsAqFsUwCsAqFsUwCsAqFsUwCsAqZWSZddGk/tNX77wawChkDf1zQI/8tzo8H3BLAKmQMPPU/mvflHACwohkD92nkfNuX2gCsZsbAw7dz7pr9NIDVzBh4a+rkc7x+bCGAlczER9Fnt2pP0k0blvrvB7AKhfHFZwBWIQATD8DEAzDxAEw8ABMPwMQDMPGiDTypThTw+UbUDUUbuM+3RVOtPxSyXLSBM4PuRd0WgIkHYOIBmHgAJh6AiQdg4gGYeAAmHoCJB2DiAZh4ACYegIkHYOIBmHgAJh6AiQdg4gGYeAAmHoCJB2DiAZh4ACYegIkHYOIBmHgAJh6AiQdg4oVx9VEAq1C0L6sD4BgX7cvqADjGRfuyOgCOcdG+rA6AY1y0L6sD4BgX7cvqADjGYZlEPCyTiIdlEvGwTCIelknEwzKJeFaWSUc2unviuVATALZPJj9deN7p84uDFe4W/ijUrQFsn4yBZ5zkpyYk9Jp22v8AnqJVyBg4ycHLHrrasnSO/wEAq5Ap4PzDnDvT/Q8AWIVMAO9unbmD87ez/Q8AWIWMgafnJWWO5Hsy1/ofALAKmfkouuVYNX9vT8BuAKsQ3lVJPAATzxjY4cn/AIBVyBh4PEvOced/AMAqZAzsWvBY8AMAViETr8E7VwXfD2AVwgdZxAMw8QBMPB148b426VEAq5AOXD5mwKJdge9tv2EAViHxFF23ZsqAhX9qkRiVBe5d7KlottQ5ojASwM5ND/UtmJi9xfyoLLB3s+0O84+CwksH/mlJyp0//wfnez5vfhTAKqQDL9jc6P75Cv4GE0sHbn65im9dFfDlRzcMwCqkA3+jqJZ/dOsCqVEAq5AOnFqn/XAiQ2oUwCqkAw95T/uhJl9qFMAqpAOvz1q8ekn/16VGAaxCnnXw4RWPlH8kNwpgFerGTzYAOBbpwDsnjuhIahTAKqQD5z11KNj76m4YgFVIBx54TX4UwCqkA696XvJzhRzAaqQD35qSNhyvwRTTgUO8t/2GAViFxDKp7YxLchTAKqQDnyntk3p8fJ3UKIBVSAee9+9XB7SX3y41CmAV0oH7OfkAfjFZahTAKqQDj3lLA95dIDUKYBXSgfdmfa3PQ5/9o9QogFXI81F0w+vPVp6RGwWwCuGzScTTgcd3JjUKYBXSgWtqat7deNtGqVEAq5DvU/SFQqlRAKuQL/BHaVKjAFYhn9fg4p5LpEYBrELe1+CaGofcpxsArEJYJhFPB87JzNAzPwpgFdKBXympPlNT+qLT6bzxzX0DsArpwIM+1X745yCpUQCrkA6c+7b2w/6BUqMAViEduKLf9yt/0O8FqVEAq5Dno+g/f/f+71SFWiZF5uqjAI5Fxm+6i9jVRwEci4zfdBexq48COBYZv+kuYlcfBXAsMn7TXcSuPgrgWGT8pruIXX0UwLHIxJvuAq4+qgdgFTL1pjssk9RNBx79fyFvEY1lUslFkcy3P0Xy6cDPLmoOdYsoLJNaPlPqadpcqdNFsunAt2WkDQ3x9cFRWCY19xObl2eYPFFkLeOvD47CMgnA3ZcbOMXJ+W8vh7hFFJZJAO6+3MBMA844HuomAcukNzpfPkc/EWoCwPbJBHDkl0kA7r6MgaOwTAJw99UJvLu2NuXN2tqAl9mOorBMAnD35QbO8hTsFlgmKZ3x+6KxTFI6Y2Ask5TOxFc2RP6zSQDuvmLypSsA7r4ATDxjYIcjxD9UA1iFjIHHs+Qcd/4HAKxCxsCuBY8FPwBgFTLxGrxzVfD9AFYhfJBFPAATD8DEAzDxAEw8ABMPwMQDMPEATDwAEw/AxAMw8QBMPAATD8DEAzDxAEw8ABMPwMQDMPFiDlxaJ2q0fi4oVLEGPtf7Pk/3zLN+LihUsQY+O0Bsniuzfi4oVAAmHoCJB2DiAZh4ACYegIkHYOIBmHgAJh6AiQdg4gGYeAAmHoCJB2DiAZh4ACYegIkHYOJFDvgn3xYN8e4FcIyLHPCkA6IM714Ax7jIARs9LwM4JpkCNnXlMwDbMmNgs1c+A7AtMwY2e+UzANsyY2CzVz4DsC2L3JXPwgY+OdS70NpseFrIXJG78lnYwH8bKL7O8O0HDU8LmStyVz4LHzhXbH4C4Ehlo2USgKORjZZJAI5GVpZJZ6rcLVvd5XYAtmVWlklvP+Vu9rIutwOwLbPRMgnA0chOyyQARyEsk4hn8tOF552B+wCsQsbAM07yUxMSek077X8AwCpkDJzk4GUPXW1ZOsf/AIBVyBRw/mHOnen+BwCsQiaAd7fO3KEtfrP9DwBYhYyBp+clZY7kezLX+h8AsAqZ+Si65Vg1f29PwG4Aq5CN3lUJ4GhkU+B5F0XN1s8Q2RW4JlV8k+G7Fls/Q2RX4OqhYvPjRdbPEAGYfAAmHoCJB2DiAZh4ACYegIkHYOIBmHi2B/7gtgrRB9ZPNm6zPfD23I2eXviu9ZON2+wPXCA23wewfAAmHoCJB2DiAZh4ACYegIkHYOIBmHgAJh6AiacS8FvZpZ5K1lk65ThMJeDfFntv8IzcucZvACYegIkHYOIBmHgAJh6AiQdg4gGYeAAmnqLAu/6tShTwPRaRT4oC/9dNKz09/JzcacdZqgJPFpv/+2OT5xufAZh46gP/eoj4JGLpDpOnHkepD7yyVGy+ucbonOMvABOPFPCWp8XVD+uuGZ1+nEQKeNlN4vKld1QYnX6cRAr46Vlic/0vQ553fAVg4lEFXjXZe7XpD0P+FuIgqsCL7xEfbr3wesjfQhxEFnie2HwVwNZSBXiJ95+6CmaI5+1FxwJ+QySLA+AFC8Vm2fwDnpa8xeOiOAN+Qmw+8EXx93ryIU43U8Dtl9qD7FUb+O5ysfmjXZxuxsDXy4f1ZIlDlzf5HyADfI/3L3PRx2Jvi/fCL+e9m//iimUM/MD0vQ0tF/bP+ab/ATLA01aLza8WCevcKeLKL+klYjPnd+KtQru87Je4QVe8t71sdNvIZgycccb909X+Ys+bnb/XSU91uV2R+EO4r493s3ewzXuTxOY93tt+OUVs3pEmNqdkiM0J/cRm8WfF5pjPi81ROWJz+GCxmT9EbOaOEJvZBWJzwC1is/84sdl3ktj0AU5lwUq41/tofUWp3s1k723Ti0WjxNR9472bQ703GCS2irybxVLvcDAGLnzV/dOWsWKP/uTV0PWSVVeDPqWdC7rX8AbnJG7g3XuhXmw2+Gw2iM36C94pn82wT1fm9xP+/Qa8WIYHXDtwVNnDZaOza2XuFtklEx9Ft1ZVrKyoao3+uaAoFMY6GKkQgIkHYOIBmHgAJh6AiQdg4gGYeAAmXuSAi0utdPvNlsYmjrI0VvglS2PDp1oaG2xpqvTWiJF0FDngEuObBKlxpqWxd5ZZGvvPjZbGFh6xNGbtT8TqWIgAbCIAdwRg/wDMARy5sRAB2EQA7gjA/hEDLjW+SZCuzDK+TZD2lxvfJki/3Gxp7BFrXwVh7U/E6liIIgfc2J1j7VcsjV1vsTTWrb81q2Mhwr9kEQ/AxAMw8QBMPAATD8DEAzDxAEy8SAEfGJv5oNQXRbnGO7xjpqe3jUgu+Vh67LWbUmfXyz8Y545kC+c4PSkpaYb82Om70sYftnKSNy5CwK3Z606Xyvzz4c4FzCHGTE+fTdt+adkXZceO9f7zJ3c8Kv1gnLdNTJQ/R5632+E4KT82bvXZJ0osnKRBEQLe+QXO9w6TGFj1WLJDjJme3jqZ8+YeFyXH/lub2jBZ+sE4/9l9ifLn2JLk/jo92bGPRrp400ELJ2lQhIAryjhv6BnsO3mELMchxkxPN57jfN/NLsmx9rb2wwuelH4wfmxEXaL8OR7LnJn/9VPSY7+ZtXDY3BPyJ2lUhIBXPqz9r8sMv5OBbx3A+pjEtGtbzu/lxzawgeekp9qnba9PlD/H6pHbHd+YKD22KuGVI9+ZYOFPxKAI/g2+kGjpb7A2Zn66YU5xrYUx3vB8ofRUxXxen2jlwTi/knBeduwXJZxfT6y38mg3LELAVaM53z9EaqQDWB8zPd1U9HQblx6rfJnzi6xJ9sHuT8vqy7JqZMdq9mh/+Xo5Zce2acDNvS7KjhkWsY+it12bu1xqJMchxkxPbyg8rtUmObY1+++nv1cs/WANp04dTDjVJDu2O/Odfz01TfrRrmVtuLR0ivSYYZFaB/9lTJbkuq0D2DNmdnqp+/vU1EuOuZ4ZkHrnEekH0+p4ipYeWzMwbdZp+bF3xqR++YSVk7xx+Jcs4gGYeAAmHoCJB2DiAZh4ACYegIkHYOIBmHgAJh6AiQdg4gGYeAAmHoCJB2DiAZh4ACYegIkXZ8DODH6Z1QfsdoyIwbl0TwDuCMAkenHQoDUCuG1RZtYKzxHH8Gc/N3hX131EiiPgfX33nSoRwJuGH/8gyfMd7Bw9fnLtycld9xEpjoAf/z7n1QJ4/bCDvN5z/VRHeis/VNB1H5HiCPj+Ss7PCODWtYNvXu352gHHcO2/gq77iBRHwEt+wHmNAP7HCdeHt6zXD3V8kKUBd9lHpDgCrs6qOXdnpgZ8zOl0Nv208NNPiiv1Qzpwl31EiiNg/lJOzrocDbijykszU/p+S7wGdwJ32UekeAKOy+Ib+NB8dwtjfR5RLL6B4yAAEw/AxAMw8QBMPAATD8DEAzDxAEw8ABMPwMQDMPEATDwAEw/AxAMw8QBMvP8HRwHCMUjMTgYAAAAASUVORK5CYII=\">\n"
      ],
      "text/plain": [
       "<img src=\"data:image/png;base64,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\">"
      ]
     },
     "metadata": {},
     "output_type": "display_data"
    }
   ],
   "source": [
    "ls <- sample $ replicateM 10000 (game 6)\n",
    "dLs = fmap fromIntegral ls :: [Double]\n",
    "[rgraph| hist(dLs_hs, breaks=40)|]"
   ]
  },
  {
   "cell_type": "code",
   "execution_count": 42,
   "metadata": {},
   "outputs": [
    {
     "data": {
      "text/html": [
       "<style>/* Styles used for the Hoogle display in the pager */\n",
       ".hoogle-doc {\n",
       "display: block;\n",
       "padding-bottom: 1.3em;\n",
       "padding-left: 0.4em;\n",
       "}\n",
       ".hoogle-code {\n",
       "display: block;\n",
       "font-family: monospace;\n",
       "white-space: pre;\n",
       "}\n",
       ".hoogle-text {\n",
       "display: block;\n",
       "}\n",
       ".hoogle-name {\n",
       "color: green;\n",
       "font-weight: bold;\n",
       "}\n",
       ".hoogle-head {\n",
       "font-weight: bold;\n",
       "}\n",
       ".hoogle-sub {\n",
       "display: block;\n",
       "margin-left: 0.4em;\n",
       "}\n",
       ".hoogle-package {\n",
       "font-weight: bold;\n",
       "font-style: italic;\n",
       "}\n",
       ".hoogle-module {\n",
       "font-weight: bold;\n",
       "}\n",
       ".hoogle-class {\n",
       "font-weight: bold;\n",
       "}\n",
       ".get-type {\n",
       "color: green;\n",
       "font-weight: bold;\n",
       "font-family: monospace;\n",
       "display: block;\n",
       "white-space: pre-wrap;\n",
       "}\n",
       ".show-type {\n",
       "color: green;\n",
       "font-weight: bold;\n",
       "font-family: monospace;\n",
       "margin-left: 1em;\n",
       "}\n",
       ".mono {\n",
       "font-family: monospace;\n",
       "display: block;\n",
       "}\n",
       ".err-msg {\n",
       "color: red;\n",
       "font-style: italic;\n",
       "font-family: monospace;\n",
       "white-space: pre;\n",
       "display: block;\n",
       "}\n",
       "#unshowable {\n",
       "color: red;\n",
       "font-weight: bold;\n",
       "}\n",
       ".err-msg.in.collapse {\n",
       "padding-top: 0.7em;\n",
       "}\n",
       ".highlight-code {\n",
       "white-space: pre;\n",
       "font-family: monospace;\n",
       "}\n",
       ".suggestion-warning { \n",
       "font-weight: bold;\n",
       "color: rgb(200, 130, 0);\n",
       "}\n",
       ".suggestion-error { \n",
       "font-weight: bold;\n",
       "color: red;\n",
       "}\n",
       ".suggestion-name {\n",
       "font-weight: bold;\n",
       "}\n",
       "</style><img src=\"data:image/png;base64,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\">\n"
      ],
      "text/plain": [
       "<img src=\"data:image/png;base64,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\">"
      ]
     },
     "metadata": {},
     "output_type": "display_data"
    }
   ],
   "source": [
    "ls <- sample $ replicateM 10000 (game 20)\n",
    "dLs = fmap fromIntegral ls :: [Double]\n",
    "[rgraph| hist(dLs_hs, breaks=40)|]"
   ]
  },
  {
   "cell_type": "markdown",
   "metadata": {},
   "source": [
    "# `Num` typeclass\n",
    "\n",
    "Don't think so. Confusing. Sometime you want to add different, sometimes you want to multiply the same. Can be pretty confusing with stadard syntax."
   ]
  },
  {
   "cell_type": "code",
   "execution_count": 49,
   "metadata": {},
   "outputs": [],
   "source": [
    ":ex TypeSynonymInstances\n",
    ":ex FlexibleInstances"
   ]
  },
  {
   "cell_type": "code",
   "execution_count": 51,
   "metadata": {},
   "outputs": [],
   "source": [
    "import Control.Applicative"
   ]
  },
  {
   "cell_type": "code",
   "execution_count": 61,
   "metadata": {},
   "outputs": [],
   "source": [
    "instance Num a => Num (RVar a) where\n",
    "  (+) = liftA2 (+)\n",
    "  (*) = liftA2 (*)\n",
    "  negate = fmap negate\n",
    "  abs = fmap abs\n",
    "  signum = fmap abs\n",
    "  fromInteger = return . fromInteger"
   ]
  },
  {
   "cell_type": "code",
   "execution_count": 75,
   "metadata": {},
   "outputs": [],
   "source": [
    "dice2 = randomElement [1..6] + randomElement [1..6]"
   ]
  },
  {
   "cell_type": "code",
   "execution_count": 76,
   "metadata": {},
   "outputs": [
    {
     "data": {
      "text/plain": [
       "7"
      ]
     },
     "metadata": {},
     "output_type": "display_data"
    }
   ],
   "source": [
    "sample dice2"
   ]
  }
 ],
 "metadata": {
  "kernelspec": {
   "display_name": "Haskell",
   "language": "haskell",
   "name": "haskell"
  },
  "language_info": {
   "codemirror_mode": "ihaskell",
   "file_extension": ".hs",
   "name": "haskell",
   "version": "8.2.2"
  },
  "toc": {
   "base_numbering": 1,
   "nav_menu": {},
   "number_sections": true,
   "sideBar": true,
   "skip_h1_title": false,
   "title_cell": "Table of Contents",
   "title_sidebar": "Contents",
   "toc_cell": true,
   "toc_position": {},
   "toc_section_display": true,
   "toc_window_display": false
  }
 },
 "nbformat": 4,
 "nbformat_minor": 2
}
